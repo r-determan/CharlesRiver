{
 "cells": [
  {
   "cell_type": "code",
   "execution_count": 1,
   "metadata": {
    "ExecuteTime": {
     "end_time": "2021-01-11T15:33:00.107882Z",
     "start_time": "2021-01-11T15:33:00.055Z"
    }
   },
   "outputs": [],
   "source": [
    "oldw <- getOption(\"warn\")\n",
    "options(warn = -1)"
   ]
  },
  {
   "cell_type": "code",
   "execution_count": 2,
   "metadata": {
    "ExecuteTime": {
     "end_time": "2021-01-11T15:33:03.520890Z",
     "start_time": "2021-01-11T15:33:00.059Z"
    },
    "scrolled": true
   },
   "outputs": [
    {
     "name": "stderr",
     "output_type": "stream",
     "text": [
      "\n",
      "Attaching package: 'lubridate'\n",
      "\n",
      "\n",
      "The following objects are masked from 'package:base':\n",
      "\n",
      "    date, intersect, setdiff, union\n",
      "\n",
      "\n",
      "Loading required package: lattice\n",
      "\n",
      "Loading required package: plyr\n",
      "\n",
      "\n",
      "Attaching package: 'dplyr'\n",
      "\n",
      "\n",
      "The following objects are masked from 'package:plyr':\n",
      "\n",
      "    arrange, count, desc, failwith, id, mutate, rename, summarise,\n",
      "    summarize\n",
      "\n",
      "\n",
      "The following objects are masked from 'package:stats':\n",
      "\n",
      "    filter, lag\n",
      "\n",
      "\n",
      "The following objects are masked from 'package:base':\n",
      "\n",
      "    intersect, setdiff, setequal, union\n",
      "\n",
      "\n",
      "Loading required package: SparseM\n",
      "\n",
      "\n",
      "Attaching package: 'SparseM'\n",
      "\n",
      "\n",
      "The following object is masked from 'package:base':\n",
      "\n",
      "    backsolve\n",
      "\n",
      "\n",
      "\n",
      "Attaching package: 'gridExtra'\n",
      "\n",
      "\n",
      "The following object is masked from 'package:dplyr':\n",
      "\n",
      "    combine\n",
      "\n",
      "\n",
      "\n",
      "Attaching package: 'ggplot2'\n",
      "\n",
      "\n",
      "The following objects are masked from 'package:psych':\n",
      "\n",
      "    %+%, alpha\n",
      "\n",
      "\n"
     ]
    }
   ],
   "source": [
    "library(readxl)\n",
    "library(lubridate)\n",
    "library(Rmisc)\n",
    "library(dplyr)\n",
    "library(psych)\n",
    "library(quantreg)\n",
    "library(MuMIn)\n",
    "library(jtools)\n",
    "library(gridExtra)\n",
    "library(ggplot2)"
   ]
  },
  {
   "cell_type": "markdown",
   "metadata": {
    "heading_collapsed": true
   },
   "source": [
    "# Import Data"
   ]
  },
  {
   "cell_type": "code",
   "execution_count": 3,
   "metadata": {
    "ExecuteTime": {
     "end_time": "2021-01-11T15:33:03.649670Z",
     "start_time": "2021-01-11T15:33:00.094Z"
    },
    "hidden": true
   },
   "outputs": [],
   "source": [
    "vmm <- read_excel(\"C:/Users/rdeterman/Desktop/data10_14.xlsx\", sheet = \"data10_14\", na = \"NA\")\n",
    "vmm$dn  <- as.numeric(vmm$DATE)"
   ]
  },
  {
   "cell_type": "code",
   "execution_count": 4,
   "metadata": {
    "ExecuteTime": {
     "end_time": "2021-01-11T15:33:06.806231Z",
     "start_time": "2021-01-11T15:33:00.099Z"
    },
    "hidden": true
   },
   "outputs": [
    {
     "name": "stderr",
     "output_type": "stream",
     "text": [
      "New names:\n",
      "* `` -> ...13\n",
      "\n"
     ]
    }
   ],
   "source": [
    "dates <- read_excel(\"C:/Users/rdeterman/Desktop/data10_14.xlsx\", sheet = \"Date_Transform\", na = \"NA\")\n",
    "\n",
    "wea <- read_excel(\"C:/Users/rdeterman/Desktop/data10_14.xlsx\", sheet = \"BOS_wea\", na = \"NA\")\n",
    "wea<- wea[complete.cases(wea), ]\n",
    "wea$dn <- as.numeric(wea$DateVal)\n",
    "\n",
    "buoy <- read_excel(\"C:/Users/rdeterman/Desktop/data10_14.xlsx\", sheet = \"buoy\", na = \"NA\")\n",
    "#buoy<- buoy[complete.cases(buoy), ]\n",
    "buoy_dailymean = aggregate(buoy[\"tempc\"], by=buoy[\"date\"], mean)\n",
    "buoy_dailymean$dn  <- as.numeric(buoy_dailymean$date)\n",
    "\n",
    "vmm_buoy <- read_excel(\"C:/Users/rdeterman/Desktop/data10_14.xlsx\", sheet = \"vmm_and_buoy\")\n"
   ]
  },
  {
   "cell_type": "markdown",
   "metadata": {
    "heading_collapsed": true
   },
   "source": [
    "# Regression Results"
   ]
  },
  {
   "cell_type": "code",
   "execution_count": 5,
   "metadata": {
    "ExecuteTime": {
     "end_time": "2021-01-11T15:33:06.858882Z",
     "start_time": "2021-01-11T15:33:00.114Z"
    },
    "hidden": true
   },
   "outputs": [
    {
     "data": {
      "text/plain": [
       "\n",
       "\tPearson's product-moment correlation\n",
       "\n",
       "data:  vmm_buoy$CA and vmm_buoy$phy\n",
       "t = 1.9934, df = 14, p-value = 0.06608\n",
       "alternative hypothesis: true correlation is not equal to 0\n",
       "95 percent confidence interval:\n",
       " -0.0332601  0.7833257\n",
       "sample estimates:\n",
       "      cor \n",
       "0.4701975 \n"
      ]
     },
     "metadata": {},
     "output_type": "display_data"
    }
   ],
   "source": [
    "res <- cor.test(vmm_buoy$CA,\n",
    "                vmm_buoy$phy, \n",
    "                method = \"pearson\")\n",
    "res"
   ]
  },
  {
   "cell_type": "code",
   "execution_count": 6,
   "metadata": {
    "ExecuteTime": {
     "end_time": "2021-01-11T15:33:06.957528Z",
     "start_time": "2021-01-11T15:33:00.120Z"
    },
    "hidden": true
   },
   "outputs": [
    {
     "data": {
      "text/html": [
       "<table>\n",
       "<caption>A matrix: 2 × 2 of type dbl</caption>\n",
       "<thead>\n",
       "\t<tr><th></th><th scope=col>0.25 %</th><th scope=col>99.75 %</th></tr>\n",
       "</thead>\n",
       "<tbody>\n",
       "\t<tr><th scope=row>(Intercept)</th><td>-1.0815327</td><td>2.1563042</td></tr>\n",
       "\t<tr><th scope=row>CA</th><td>-0.0256376</td><td>0.1023585</td></tr>\n",
       "</tbody>\n",
       "</table>\n"
      ],
      "text/latex": [
       "A matrix: 2 × 2 of type dbl\n",
       "\\begin{tabular}{r|ll}\n",
       "  & 0.25 \\% & 99.75 \\%\\\\\n",
       "\\hline\n",
       "\t(Intercept) & -1.0815327 & 2.1563042\\\\\n",
       "\tCA & -0.0256376 & 0.1023585\\\\\n",
       "\\end{tabular}\n"
      ],
      "text/markdown": [
       "\n",
       "A matrix: 2 × 2 of type dbl\n",
       "\n",
       "| <!--/--> | 0.25 % | 99.75 % |\n",
       "|---|---|---|\n",
       "| (Intercept) | -1.0815327 | 2.1563042 |\n",
       "| CA | -0.0256376 | 0.1023585 |\n",
       "\n"
      ],
      "text/plain": [
       "            0.25 %     99.75 %  \n",
       "(Intercept) -1.0815327 2.1563042\n",
       "CA          -0.0256376 0.1023585"
      ]
     },
     "metadata": {},
     "output_type": "display_data"
    },
    {
     "data": {
      "text/plain": [
       "\n",
       "Call:\n",
       "lm(formula = eq, data = vmm_buoy)\n",
       "\n",
       "Residuals:\n",
       "    Min      1Q  Median      3Q     Max \n",
       "-2.2951 -0.5430 -0.3906  0.1357  3.1977 \n",
       "\n",
       "Coefficients:\n",
       "            Estimate Std. Error t value Pr(>|t|)  \n",
       "(Intercept)  0.53739    0.48679   1.104   0.2882  \n",
       "CA           0.03836    0.01924   1.993   0.0661 .\n",
       "---\n",
       "Signif. codes:  0 '***' 0.001 '**' 0.01 '*' 0.05 '.' 0.1 ' ' 1\n",
       "\n",
       "Residual standard error: 1.376 on 14 degrees of freedom\n",
       "Multiple R-squared:  0.2211,\tAdjusted R-squared:  0.1654 \n",
       "F-statistic: 3.974 on 1 and 14 DF,  p-value: 0.06608\n"
      ]
     },
     "metadata": {},
     "output_type": "display_data"
    }
   ],
   "source": [
    "eq= \"phy ~ 1 + CA\"\n",
    "a = 0.995\n",
    "\n",
    "mdl_ <-lm(eq,data=vmm_buoy)\n",
    "confint(mdl_, level = a)\n",
    "summary(mdl_)\n"
   ]
  },
  {
   "cell_type": "code",
   "execution_count": 7,
   "metadata": {
    "ExecuteTime": {
     "end_time": "2021-01-11T15:33:07.032327Z",
     "start_time": "2021-01-11T15:33:00.126Z"
    },
    "hidden": true
   },
   "outputs": [
    {
     "data": {
      "text/html": [
       "<table>\n",
       "<caption>A matrix: 1 × 2 of type dbl</caption>\n",
       "<thead>\n",
       "\t<tr><th></th><th scope=col>0.25 %</th><th scope=col>99.75 %</th></tr>\n",
       "</thead>\n",
       "<tbody>\n",
       "\t<tr><th scope=row>CA</th><td>0.00836103</td><td>0.09841167</td></tr>\n",
       "</tbody>\n",
       "</table>\n"
      ],
      "text/latex": [
       "A matrix: 1 × 2 of type dbl\n",
       "\\begin{tabular}{r|ll}\n",
       "  & 0.25 \\% & 99.75 \\%\\\\\n",
       "\\hline\n",
       "\tCA & 0.00836103 & 0.09841167\\\\\n",
       "\\end{tabular}\n"
      ],
      "text/markdown": [
       "\n",
       "A matrix: 1 × 2 of type dbl\n",
       "\n",
       "| <!--/--> | 0.25 % | 99.75 % |\n",
       "|---|---|---|\n",
       "| CA | 0.00836103 | 0.09841167 |\n",
       "\n"
      ],
      "text/plain": [
       "   0.25 %     99.75 %   \n",
       "CA 0.00836103 0.09841167"
      ]
     },
     "metadata": {},
     "output_type": "display_data"
    },
    {
     "data": {
      "text/plain": [
       "\n",
       "Call:\n",
       "lm(formula = eq, data = vmm_buoy)\n",
       "\n",
       "Residuals:\n",
       "    Min      1Q  Median      3Q     Max \n",
       "-2.5481 -0.1318  0.0756  0.4609  3.4316 \n",
       "\n",
       "Coefficients:\n",
       "   Estimate Std. Error t value Pr(>|t|)   \n",
       "CA  0.05339    0.01370   3.896  0.00143 **\n",
       "---\n",
       "Signif. codes:  0 '***' 0.001 '**' 0.01 '*' 0.05 '.' 0.1 ' ' 1\n",
       "\n",
       "Residual standard error: 1.386 on 15 degrees of freedom\n",
       "Multiple R-squared:  0.503,\tAdjusted R-squared:  0.4699 \n",
       "F-statistic: 15.18 on 1 and 15 DF,  p-value: 0.001432\n"
      ]
     },
     "metadata": {},
     "output_type": "display_data"
    }
   ],
   "source": [
    "eq= \"phy ~ -1 + CA\"\n",
    "a = 0.995\n",
    "\n",
    "mdl_ <-lm(eq,data=vmm_buoy)\n",
    "confint(mdl_, level = a)\n",
    "summary(mdl_)\n"
   ]
  },
  {
   "cell_type": "code",
   "execution_count": 8,
   "metadata": {
    "ExecuteTime": {
     "end_time": "2021-01-11T15:33:07.164669Z",
     "start_time": "2021-01-11T15:33:00.130Z"
    },
    "hidden": true,
    "scrolled": true
   },
   "outputs": [
    {
     "data": {
      "text/html": [
       "<table>\n",
       "<caption>A matrix: 2 × 2 of type dbl</caption>\n",
       "<thead>\n",
       "\t<tr><th></th><th scope=col>0.25 %</th><th scope=col>99.75 %</th></tr>\n",
       "</thead>\n",
       "<tbody>\n",
       "\t<tr><th scope=row>(Intercept)</th><td> 9.661557e+00</td><td> 1.028730e+01</td></tr>\n",
       "\t<tr><th scope=row>dt</th><td>-6.068451e-09</td><td>-5.651661e-09</td></tr>\n",
       "</tbody>\n",
       "</table>\n"
      ],
      "text/latex": [
       "A matrix: 2 × 2 of type dbl\n",
       "\\begin{tabular}{r|ll}\n",
       "  & 0.25 \\% & 99.75 \\%\\\\\n",
       "\\hline\n",
       "\t(Intercept) &  9.661557e+00 &  1.028730e+01\\\\\n",
       "\tdt & -6.068451e-09 & -5.651661e-09\\\\\n",
       "\\end{tabular}\n"
      ],
      "text/markdown": [
       "\n",
       "A matrix: 2 × 2 of type dbl\n",
       "\n",
       "| <!--/--> | 0.25 % | 99.75 % |\n",
       "|---|---|---|\n",
       "| (Intercept) |  9.661557e+00 |  1.028730e+01 |\n",
       "| dt | -6.068451e-09 | -5.651661e-09 |\n",
       "\n"
      ],
      "text/plain": [
       "            0.25 %        99.75 %      \n",
       "(Intercept)  9.661557e+00  1.028730e+01\n",
       "dt          -6.068451e-09 -5.651661e-09"
      ]
     },
     "metadata": {},
     "output_type": "display_data"
    },
    {
     "data": {
      "text/plain": [
       "\n",
       "Call:\n",
       "lm(formula = eq, data = buoy)\n",
       "\n",
       "Residuals:\n",
       "    Min      1Q  Median      3Q     Max \n",
       "-1.5375 -0.6919 -0.2015  0.3968 28.1283 \n",
       "\n",
       "Coefficients:\n",
       "              Estimate Std. Error t value Pr(>|t|)    \n",
       "(Intercept)  9.974e+00  1.115e-01   89.49   <2e-16 ***\n",
       "dt          -5.860e-09  7.424e-11  -78.94   <2e-16 ***\n",
       "---\n",
       "Signif. codes:  0 '***' 0.001 '**' 0.01 '*' 0.05 '.' 0.1 ' ' 1\n",
       "\n",
       "Residual standard error: 0.9399 on 74996 degrees of freedom\n",
       "  (723 observations deleted due to missingness)\n",
       "Multiple R-squared:  0.07671,\tAdjusted R-squared:  0.0767 \n",
       "F-statistic:  6231 on 1 and 74996 DF,  p-value: < 2.2e-16\n"
      ]
     },
     "metadata": {},
     "output_type": "display_data"
    }
   ],
   "source": [
    "eq= \"phy ~ 1 + dt\"\n",
    "a = 0.995\n",
    "\n",
    "#x = buoy$dt,\n",
    "#y = buoy$phy,\n",
    "\n",
    "\n",
    "mdl_0 <-lm(eq,data=buoy)\n",
    "confint(mdl_0, level = a)\n",
    "summary(mdl_0)\n"
   ]
  },
  {
   "cell_type": "code",
   "execution_count": null,
   "metadata": {
    "ExecuteTime": {
     "end_time": "2021-01-05T18:22:27.178777Z",
     "start_time": "2021-01-05T18:22:19.801Z"
    },
    "hidden": true
   },
   "outputs": [],
   "source": []
  },
  {
   "cell_type": "markdown",
   "metadata": {
    "heading_collapsed": true
   },
   "source": [
    "# Total Phosphorus and Chlorophyll-*a* Concentrations Over Time\n",
    "Data Source:  https://www.crwa.org/monitor.html  "
   ]
  },
  {
   "cell_type": "code",
   "execution_count": 9,
   "metadata": {
    "ExecuteTime": {
     "end_time": "2021-01-11T15:33:07.342193Z",
     "start_time": "2021-01-11T15:33:00.146Z"
    },
    "hidden": true
   },
   "outputs": [],
   "source": [
    "#setting the date as a number and centering it around zero\n",
    "count <- seq.int(1,955)\n",
    "for (b in count) {               \n",
    "        target_date <- vmm$DATE[b]\n",
    "        target_row   <- match(target_date,dates$date) \n",
    "        vmm$cd[b] <- dates$subtractedfrommean[target_row]\n",
    "}"
   ]
  },
  {
   "cell_type": "markdown",
   "metadata": {
    "hidden": true
   },
   "source": [
    "## Chl-*a* "
   ]
  },
  {
   "cell_type": "code",
   "execution_count": 10,
   "metadata": {
    "ExecuteTime": {
     "end_time": "2021-01-11T15:33:07.400040Z",
     "start_time": "2021-01-11T15:33:00.161Z"
    },
    "hidden": true,
    "scrolled": false
   },
   "outputs": [
    {
     "data": {
      "text/html": [
       "<table>\n",
       "<caption>A matrix: 2 × 2 of type dbl</caption>\n",
       "<thead>\n",
       "\t<tr><th></th><th scope=col>0.25 %</th><th scope=col>99.75 %</th></tr>\n",
       "</thead>\n",
       "<tbody>\n",
       "\t<tr><th scope=row>(Intercept)</th><td> 7.096086230</td><td> 9.474814e+00</td></tr>\n",
       "\t<tr><th scope=row>cd</th><td>-0.001096042</td><td>-9.816826e-05</td></tr>\n",
       "</tbody>\n",
       "</table>\n"
      ],
      "text/latex": [
       "A matrix: 2 × 2 of type dbl\n",
       "\\begin{tabular}{r|ll}\n",
       "  & 0.25 \\% & 99.75 \\%\\\\\n",
       "\\hline\n",
       "\t(Intercept) &  7.096086230 &  9.474814e+00\\\\\n",
       "\tcd & -0.001096042 & -9.816826e-05\\\\\n",
       "\\end{tabular}\n"
      ],
      "text/markdown": [
       "\n",
       "A matrix: 2 × 2 of type dbl\n",
       "\n",
       "| <!--/--> | 0.25 % | 99.75 % |\n",
       "|---|---|---|\n",
       "| (Intercept) |  7.096086230 |  9.474814e+00 |\n",
       "| cd | -0.001096042 | -9.816826e-05 |\n",
       "\n"
      ],
      "text/plain": [
       "            0.25 %       99.75 %      \n",
       "(Intercept)  7.096086230  9.474814e+00\n",
       "cd          -0.001096042 -9.816826e-05"
      ]
     },
     "metadata": {},
     "output_type": "display_data"
    },
    {
     "data": {
      "text/plain": [
       "\n",
       "Call:\n",
       "lm(formula = eq, data = vmm)\n",
       "\n",
       "Residuals:\n",
       "    Min      1Q  Median      3Q     Max \n",
       " -9.637  -6.448  -4.625   0.629 115.554 \n",
       "\n",
       "Coefficients:\n",
       "              Estimate Std. Error t value Pr(>|t|)    \n",
       "(Intercept)  8.2854500  0.4227216  19.600  < 2e-16 ***\n",
       "cd          -0.0005971  0.0001773  -3.367  0.00079 ***\n",
       "---\n",
       "Signif. codes:  0 '***' 0.001 '**' 0.01 '*' 0.05 '.' 0.1 ' ' 1\n",
       "\n",
       "Residual standard error: 13.06 on 953 degrees of freedom\n",
       "Multiple R-squared:  0.01176,\tAdjusted R-squared:  0.01072 \n",
       "F-statistic: 11.34 on 1 and 953 DF,  p-value: 0.0007898\n"
      ]
     },
     "metadata": {},
     "output_type": "display_data"
    }
   ],
   "source": [
    "eq= \"CA ~ 1 + cd\"\n",
    "a = 0.995\n",
    "mdl <-lm(eq,data=vmm)\n",
    "confint(mdl, level = a)\n",
    "summary(mdl)"
   ]
  },
  {
   "cell_type": "code",
   "execution_count": 11,
   "metadata": {
    "ExecuteTime": {
     "end_time": "2021-01-11T15:33:07.461897Z",
     "start_time": "2021-01-11T15:33:00.165Z"
    },
    "hidden": true
   },
   "outputs": [
    {
     "data": {
      "text/html": [
       "<table>\n",
       "<caption>A matrix: 2 × 2 of type dbl</caption>\n",
       "<thead>\n",
       "\t<tr><th></th><th scope=col>0.25 %</th><th scope=col>99.75 %</th></tr>\n",
       "</thead>\n",
       "<tbody>\n",
       "\t<tr><th scope=row>(Intercept)</th><td> 9.737739312</td><td>17.725334026</td></tr>\n",
       "\t<tr><th scope=row>cd</th><td>-0.002768669</td><td> 0.000569407</td></tr>\n",
       "</tbody>\n",
       "</table>\n"
      ],
      "text/latex": [
       "A matrix: 2 × 2 of type dbl\n",
       "\\begin{tabular}{r|ll}\n",
       "  & 0.25 \\% & 99.75 \\%\\\\\n",
       "\\hline\n",
       "\t(Intercept) &  9.737739312 & 17.725334026\\\\\n",
       "\tcd & -0.002768669 &  0.000569407\\\\\n",
       "\\end{tabular}\n"
      ],
      "text/markdown": [
       "\n",
       "A matrix: 2 × 2 of type dbl\n",
       "\n",
       "| <!--/--> | 0.25 % | 99.75 % |\n",
       "|---|---|---|\n",
       "| (Intercept) |  9.737739312 | 17.725334026 |\n",
       "| cd | -0.002768669 |  0.000569407 |\n",
       "\n"
      ],
      "text/plain": [
       "            0.25 %       99.75 %     \n",
       "(Intercept)  9.737739312 17.725334026\n",
       "cd          -0.002768669  0.000569407"
      ]
     },
     "metadata": {},
     "output_type": "display_data"
    },
    {
     "data": {
      "text/plain": [
       "\n",
       "Call:\n",
       "lm(formula = eq, data = vmm[lgc, ])\n",
       "\n",
       "Residuals:\n",
       "    Min      1Q  Median      3Q     Max \n",
       "-15.447 -10.371  -5.942   2.832 109.972 \n",
       "\n",
       "Coefficients:\n",
       "              Estimate Std. Error t value Pr(>|t|)    \n",
       "(Intercept) 13.7315367  1.4020257   9.794   <2e-16 ***\n",
       "cd          -0.0010996  0.0005859  -1.877   0.0625 .  \n",
       "---\n",
       "Signif. codes:  0 '***' 0.001 '**' 0.01 '*' 0.05 '.' 0.1 ' ' 1\n",
       "\n",
       "Residual standard error: 17.39 on 152 degrees of freedom\n",
       "Multiple R-squared:  0.02265,\tAdjusted R-squared:  0.01622 \n",
       "F-statistic: 3.522 on 1 and 152 DF,  p-value: 0.06247\n"
      ]
     },
     "metadata": {},
     "output_type": "display_data"
    }
   ],
   "source": [
    "lgc = (vmm$basin1 == 1)\n",
    "mdl <-lm(eq,data=vmm[lgc,])\n",
    "confint(mdl, level = a)\n",
    "summary(mdl)"
   ]
  },
  {
   "cell_type": "code",
   "execution_count": 12,
   "metadata": {
    "ExecuteTime": {
     "end_time": "2021-01-11T15:33:07.529727Z",
     "start_time": "2021-01-11T15:33:00.170Z"
    },
    "hidden": true
   },
   "outputs": [
    {
     "data": {
      "text/html": [
       "<table>\n",
       "<caption>A matrix: 2 × 2 of type dbl</caption>\n",
       "<thead>\n",
       "\t<tr><th></th><th scope=col>0.25 %</th><th scope=col>99.75 %</th></tr>\n",
       "</thead>\n",
       "<tbody>\n",
       "\t<tr><th scope=row>(Intercept)</th><td> 6.0696205884</td><td> 8.4142714592</td></tr>\n",
       "\t<tr><th scope=row>cd</th><td>-0.0009981072</td><td>-0.0000138057</td></tr>\n",
       "</tbody>\n",
       "</table>\n"
      ],
      "text/latex": [
       "A matrix: 2 × 2 of type dbl\n",
       "\\begin{tabular}{r|ll}\n",
       "  & 0.25 \\% & 99.75 \\%\\\\\n",
       "\\hline\n",
       "\t(Intercept) &  6.0696205884 &  8.4142714592\\\\\n",
       "\tcd & -0.0009981072 & -0.0000138057\\\\\n",
       "\\end{tabular}\n"
      ],
      "text/markdown": [
       "\n",
       "A matrix: 2 × 2 of type dbl\n",
       "\n",
       "| <!--/--> | 0.25 % | 99.75 % |\n",
       "|---|---|---|\n",
       "| (Intercept) |  6.0696205884 |  8.4142714592 |\n",
       "| cd | -0.0009981072 | -0.0000138057 |\n",
       "\n"
      ],
      "text/plain": [
       "            0.25 %        99.75 %      \n",
       "(Intercept)  6.0696205884  8.4142714592\n",
       "cd          -0.0009981072 -0.0000138057"
      ]
     },
     "metadata": {},
     "output_type": "display_data"
    },
    {
     "data": {
      "text/plain": [
       "\n",
       "Call:\n",
       "lm(formula = eq, data = vmm[!lgc, ])\n",
       "\n",
       "Residuals:\n",
       "    Min      1Q  Median      3Q     Max \n",
       " -8.227  -5.580  -3.972   0.314 111.546 \n",
       "\n",
       "Coefficients:\n",
       "              Estimate Std. Error t value Pr(>|t|)    \n",
       "(Intercept)  7.2419460  0.4164784  17.389  < 2e-16 ***\n",
       "cd          -0.0005060  0.0001748  -2.894  0.00391 ** \n",
       "---\n",
       "Signif. codes:  0 '***' 0.001 '**' 0.01 '*' 0.05 '.' 0.1 ' ' 1\n",
       "\n",
       "Residual standard error: 11.78 on 799 degrees of freedom\n",
       "Multiple R-squared:  0.01037,\tAdjusted R-squared:  0.009134 \n",
       "F-statistic: 8.374 on 1 and 799 DF,  p-value: 0.00391\n"
      ]
     },
     "metadata": {},
     "output_type": "display_data"
    }
   ],
   "source": [
    "mdl <-lm(eq,data=vmm[!lgc,])\n",
    "confint(mdl, level = a)\n",
    "summary(mdl)"
   ]
  },
  {
   "cell_type": "markdown",
   "metadata": {
    "heading_collapsed": true
   },
   "source": [
    "# CA vs TP"
   ]
  },
  {
   "cell_type": "code",
   "execution_count": 13,
   "metadata": {
    "ExecuteTime": {
     "end_time": "2021-01-11T15:33:07.596514Z",
     "start_time": "2021-01-11T15:33:00.187Z"
    },
    "hidden": true
   },
   "outputs": [
    {
     "data": {
      "text/html": [
       "<table>\n",
       "<caption>A matrix: 2 × 2 of type dbl</caption>\n",
       "<thead>\n",
       "\t<tr><th></th><th scope=col>0.25 %</th><th scope=col>99.75 %</th></tr>\n",
       "</thead>\n",
       "<tbody>\n",
       "\t<tr><th scope=row>(Intercept)</th><td>-0.9294381</td><td>  4.391732</td></tr>\n",
       "\t<tr><th scope=row>TP</th><td>63.5874460</td><td>136.684836</td></tr>\n",
       "</tbody>\n",
       "</table>\n"
      ],
      "text/latex": [
       "A matrix: 2 × 2 of type dbl\n",
       "\\begin{tabular}{r|ll}\n",
       "  & 0.25 \\% & 99.75 \\%\\\\\n",
       "\\hline\n",
       "\t(Intercept) & -0.9294381 &   4.391732\\\\\n",
       "\tTP & 63.5874460 & 136.684836\\\\\n",
       "\\end{tabular}\n"
      ],
      "text/markdown": [
       "\n",
       "A matrix: 2 × 2 of type dbl\n",
       "\n",
       "| <!--/--> | 0.25 % | 99.75 % |\n",
       "|---|---|---|\n",
       "| (Intercept) | -0.9294381 |   4.391732 |\n",
       "| TP | 63.5874460 | 136.684836 |\n",
       "\n"
      ],
      "text/plain": [
       "            0.25 %     99.75 %   \n",
       "(Intercept) -0.9294381   4.391732\n",
       "TP          63.5874460 136.684836"
      ]
     },
     "metadata": {},
     "output_type": "display_data"
    },
    {
     "data": {
      "text/plain": [
       "\n",
       "Call:\n",
       "lm(formula = eq, data = vmm)\n",
       "\n",
       "Residuals:\n",
       "    Min      1Q  Median      3Q     Max \n",
       "-29.830  -5.895  -3.726   1.164 109.242 \n",
       "\n",
       "Coefficients:\n",
       "            Estimate Std. Error t value Pr(>|t|)    \n",
       "(Intercept)   1.7311     0.9455   1.831   0.0674 .  \n",
       "TP          100.1361    12.9884   7.710 3.33e-14 ***\n",
       "---\n",
       "Signif. codes:  0 '***' 0.001 '**' 0.01 '*' 0.05 '.' 0.1 ' ' 1\n",
       "\n",
       "Residual standard error: 12.87 on 902 degrees of freedom\n",
       "  (51 observations deleted due to missingness)\n",
       "Multiple R-squared:  0.06182,\tAdjusted R-squared:  0.06078 \n",
       "F-statistic: 59.44 on 1 and 902 DF,  p-value: 3.327e-14\n"
      ]
     },
     "metadata": {},
     "output_type": "display_data"
    }
   ],
   "source": [
    "#All\n",
    "eq= \"CA ~ 1 + TP\"\n",
    "a = 0.995\n",
    "mdl <-lm(eq,data=vmm)\n",
    "confint(mdl, level = a)\n",
    "summary(mdl)"
   ]
  },
  {
   "cell_type": "code",
   "execution_count": 14,
   "metadata": {
    "ExecuteTime": {
     "end_time": "2021-01-11T15:33:07.657353Z",
     "start_time": "2021-01-11T15:33:00.191Z"
    },
    "hidden": true
   },
   "outputs": [
    {
     "data": {
      "text/html": [
       "<table>\n",
       "<caption>A matrix: 2 × 2 of type dbl</caption>\n",
       "<thead>\n",
       "\t<tr><th></th><th scope=col>0.25 %</th><th scope=col>99.75 %</th></tr>\n",
       "</thead>\n",
       "<tbody>\n",
       "\t<tr><th scope=row>(Intercept)</th><td>-0.9132556</td><td>  4.064838</td></tr>\n",
       "\t<tr><th scope=row>TP</th><td>52.1319249</td><td>120.805072</td></tr>\n",
       "</tbody>\n",
       "</table>\n"
      ],
      "text/latex": [
       "A matrix: 2 × 2 of type dbl\n",
       "\\begin{tabular}{r|ll}\n",
       "  & 0.25 \\% & 99.75 \\%\\\\\n",
       "\\hline\n",
       "\t(Intercept) & -0.9132556 &   4.064838\\\\\n",
       "\tTP & 52.1319249 & 120.805072\\\\\n",
       "\\end{tabular}\n"
      ],
      "text/markdown": [
       "\n",
       "A matrix: 2 × 2 of type dbl\n",
       "\n",
       "| <!--/--> | 0.25 % | 99.75 % |\n",
       "|---|---|---|\n",
       "| (Intercept) | -0.9132556 |   4.064838 |\n",
       "| TP | 52.1319249 | 120.805072 |\n",
       "\n"
      ],
      "text/plain": [
       "            0.25 %     99.75 %   \n",
       "(Intercept) -0.9132556   4.064838\n",
       "TP          52.1319249 120.805072"
      ]
     },
     "metadata": {},
     "output_type": "display_data"
    },
    {
     "data": {
      "text/plain": [
       "\n",
       "Call:\n",
       "lm(formula = eq, data = vmm[vmm$basin1 == 0, ])\n",
       "\n",
       "Residuals:\n",
       "    Min      1Q  Median      3Q     Max \n",
       "-25.430  -5.059  -3.126   0.413 106.410 \n",
       "\n",
       "Coefficients:\n",
       "            Estimate Std. Error t value Pr(>|t|)    \n",
       "(Intercept)   1.5758     0.8841   1.782   0.0751 .  \n",
       "TP           86.4685    12.1963   7.090 3.09e-12 ***\n",
       "---\n",
       "Signif. codes:  0 '***' 0.001 '**' 0.01 '*' 0.05 '.' 0.1 ' ' 1\n",
       "\n",
       "Residual standard error: 11.52 on 754 degrees of freedom\n",
       "  (45 observations deleted due to missingness)\n",
       "Multiple R-squared:  0.0625,\tAdjusted R-squared:  0.06125 \n",
       "F-statistic: 50.26 on 1 and 754 DF,  p-value: 3.095e-12\n"
      ]
     },
     "metadata": {},
     "output_type": "display_data"
    }
   ],
   "source": [
    "mdl <-lm(eq,data=vmm[vmm$basin1 ==0,])\n",
    "confint(mdl, level = a)\n",
    "summary(mdl)"
   ]
  },
  {
   "cell_type": "code",
   "execution_count": 15,
   "metadata": {
    "ExecuteTime": {
     "end_time": "2021-01-11T15:33:07.723174Z",
     "start_time": "2021-01-11T15:33:00.195Z"
    },
    "hidden": true
   },
   "outputs": [
    {
     "data": {
      "text/html": [
       "<table>\n",
       "<caption>A matrix: 2 × 2 of type dbl</caption>\n",
       "<thead>\n",
       "\t<tr><th></th><th scope=col>0.25 %</th><th scope=col>99.75 %</th></tr>\n",
       "</thead>\n",
       "<tbody>\n",
       "\t<tr><th scope=row>(Intercept)</th><td>-11.66948</td><td> 13.69806</td></tr>\n",
       "\t<tr><th scope=row>TP</th><td> 14.20559</td><td>355.44785</td></tr>\n",
       "</tbody>\n",
       "</table>\n"
      ],
      "text/latex": [
       "A matrix: 2 × 2 of type dbl\n",
       "\\begin{tabular}{r|ll}\n",
       "  & 0.25 \\% & 99.75 \\%\\\\\n",
       "\\hline\n",
       "\t(Intercept) & -11.66948 &  13.69806\\\\\n",
       "\tTP &  14.20559 & 355.44785\\\\\n",
       "\\end{tabular}\n"
      ],
      "text/markdown": [
       "\n",
       "A matrix: 2 × 2 of type dbl\n",
       "\n",
       "| <!--/--> | 0.25 % | 99.75 % |\n",
       "|---|---|---|\n",
       "| (Intercept) | -11.66948 |  13.69806 |\n",
       "| TP |  14.20559 | 355.44785 |\n",
       "\n"
      ],
      "text/plain": [
       "            0.25 %    99.75 %  \n",
       "(Intercept) -11.66948  13.69806\n",
       "TP           14.20559 355.44785"
      ]
     },
     "metadata": {},
     "output_type": "display_data"
    },
    {
     "data": {
      "text/plain": [
       "\n",
       "Call:\n",
       "lm(formula = eq, data = vmm[vmm$basin1 == 1, ])\n",
       "\n",
       "Residuals:\n",
       "    Min      1Q  Median      3Q     Max \n",
       "-24.463 -10.113  -4.842   4.751  98.941 \n",
       "\n",
       "Coefficients:\n",
       "            Estimate Std. Error t value Pr(>|t|)   \n",
       "(Intercept)    1.014      4.450   0.228  0.82002   \n",
       "TP           184.827     59.860   3.088  0.00242 **\n",
       "---\n",
       "Signif. codes:  0 '***' 0.001 '**' 0.01 '*' 0.05 '.' 0.1 ' ' 1\n",
       "\n",
       "Residual standard error: 17.27 on 146 degrees of freedom\n",
       "  (6 observations deleted due to missingness)\n",
       "Multiple R-squared:  0.0613,\tAdjusted R-squared:  0.05487 \n",
       "F-statistic: 9.533 on 1 and 146 DF,  p-value: 0.002415\n"
      ]
     },
     "metadata": {},
     "output_type": "display_data"
    }
   ],
   "source": [
    "mdl <-lm(eq,data=vmm[vmm$basin1 ==1,])\n",
    "confint(mdl, level = a)\n",
    "summary(mdl)"
   ]
  },
  {
   "cell_type": "code",
   "execution_count": 16,
   "metadata": {
    "ExecuteTime": {
     "end_time": "2021-01-11T15:33:07.801965Z",
     "start_time": "2021-01-11T15:33:00.199Z"
    },
    "hidden": true
   },
   "outputs": [
    {
     "data": {
      "text/html": [
       "<table>\n",
       "<caption>A matrix: 1 × 2 of type dbl</caption>\n",
       "<thead>\n",
       "\t<tr><th></th><th scope=col>0.25 %</th><th scope=col>99.75 %</th></tr>\n",
       "</thead>\n",
       "<tbody>\n",
       "\t<tr><th scope=row>TP</th><td>104.779</td><td>137.9051</td></tr>\n",
       "</tbody>\n",
       "</table>\n"
      ],
      "text/latex": [
       "A matrix: 1 × 2 of type dbl\n",
       "\\begin{tabular}{r|ll}\n",
       "  & 0.25 \\% & 99.75 \\%\\\\\n",
       "\\hline\n",
       "\tTP & 104.779 & 137.9051\\\\\n",
       "\\end{tabular}\n"
      ],
      "text/markdown": [
       "\n",
       "A matrix: 1 × 2 of type dbl\n",
       "\n",
       "| <!--/--> | 0.25 % | 99.75 % |\n",
       "|---|---|---|\n",
       "| TP | 104.779 | 137.9051 |\n",
       "\n"
      ],
      "text/plain": [
       "   0.25 %  99.75 % \n",
       "TP 104.779 137.9051"
      ]
     },
     "metadata": {},
     "output_type": "display_data"
    },
    {
     "data": {
      "text/plain": [
       "\n",
       "Call:\n",
       "lm(formula = eq, data = vmm)\n",
       "\n",
       "Residuals:\n",
       "    Min      1Q  Median      3Q     Max \n",
       "-35.652  -5.530  -3.035   1.618 108.215 \n",
       "\n",
       "Coefficients:\n",
       "   Estimate Std. Error t value Pr(>|t|)    \n",
       "TP  121.342      5.886   20.61   <2e-16 ***\n",
       "---\n",
       "Signif. codes:  0 '***' 0.001 '**' 0.01 '*' 0.05 '.' 0.1 ' ' 1\n",
       "\n",
       "Residual standard error: 12.88 on 903 degrees of freedom\n",
       "  (51 observations deleted due to missingness)\n",
       "Multiple R-squared:   0.32,\tAdjusted R-squared:  0.3193 \n",
       "F-statistic:   425 on 1 and 903 DF,  p-value: < 2.2e-16\n"
      ]
     },
     "metadata": {},
     "output_type": "display_data"
    }
   ],
   "source": [
    "eq= \"CA ~ -1 + TP\"\n",
    "a = 0.995\n",
    "mdl <-lm(eq,data=vmm)\n",
    "confint(mdl, level = a)\n",
    "summary(mdl)"
   ]
  },
  {
   "cell_type": "code",
   "execution_count": 17,
   "metadata": {
    "ExecuteTime": {
     "end_time": "2021-01-11T15:33:07.872773Z",
     "start_time": "2021-01-11T15:33:00.203Z"
    },
    "hidden": true
   },
   "outputs": [
    {
     "data": {
      "text/html": [
       "<table>\n",
       "<caption>A matrix: 1 × 2 of type dbl</caption>\n",
       "<thead>\n",
       "\t<tr><th></th><th scope=col>0.25 %</th><th scope=col>99.75 %</th></tr>\n",
       "</thead>\n",
       "<tbody>\n",
       "\t<tr><th scope=row>TP</th><td>89.31032</td><td>121.9085</td></tr>\n",
       "</tbody>\n",
       "</table>\n"
      ],
      "text/latex": [
       "A matrix: 1 × 2 of type dbl\n",
       "\\begin{tabular}{r|ll}\n",
       "  & 0.25 \\% & 99.75 \\%\\\\\n",
       "\\hline\n",
       "\tTP & 89.31032 & 121.9085\\\\\n",
       "\\end{tabular}\n"
      ],
      "text/markdown": [
       "\n",
       "A matrix: 1 × 2 of type dbl\n",
       "\n",
       "| <!--/--> | 0.25 % | 99.75 % |\n",
       "|---|---|---|\n",
       "| TP | 89.31032 | 121.9085 |\n",
       "\n"
      ],
      "text/plain": [
       "   0.25 %   99.75 % \n",
       "TP 89.31032 121.9085"
      ]
     },
     "metadata": {},
     "output_type": "display_data"
    },
    {
     "data": {
      "text/plain": [
       "\n",
       "Call:\n",
       "lm(formula = eq, data = vmm[vmm$basin1 == 0, ])\n",
       "\n",
       "Residuals:\n",
       "    Min      1Q  Median      3Q     Max \n",
       "-30.048  -4.658  -2.481   1.110 105.770 \n",
       "\n",
       "Coefficients:\n",
       "   Estimate Std. Error t value Pr(>|t|)    \n",
       "TP  105.609      5.789   18.24   <2e-16 ***\n",
       "---\n",
       "Signif. codes:  0 '***' 0.001 '**' 0.01 '*' 0.05 '.' 0.1 ' ' 1\n",
       "\n",
       "Residual standard error: 11.54 on 755 degrees of freedom\n",
       "  (45 observations deleted due to missingness)\n",
       "Multiple R-squared:  0.3059,\tAdjusted R-squared:  0.305 \n",
       "F-statistic: 332.8 on 1 and 755 DF,  p-value: < 2.2e-16\n"
      ]
     },
     "metadata": {},
     "output_type": "display_data"
    }
   ],
   "source": [
    "mdl <-lm(eq,data=vmm[vmm$basin1 ==0,])\n",
    "confint(mdl, level = a)\n",
    "summary(mdl)"
   ]
  },
  {
   "cell_type": "code",
   "execution_count": 18,
   "metadata": {
    "ExecuteTime": {
     "end_time": "2021-01-11T15:33:07.956550Z",
     "start_time": "2021-01-11T15:33:00.206Z"
    },
    "hidden": true
   },
   "outputs": [
    {
     "data": {
      "text/html": [
       "<table>\n",
       "<caption>A matrix: 1 × 2 of type dbl</caption>\n",
       "<thead>\n",
       "\t<tr><th></th><th scope=col>0.25 %</th><th scope=col>99.75 %</th></tr>\n",
       "</thead>\n",
       "<tbody>\n",
       "\t<tr><th scope=row>TP</th><td>143.4961</td><td>252.0191</td></tr>\n",
       "</tbody>\n",
       "</table>\n"
      ],
      "text/latex": [
       "A matrix: 1 × 2 of type dbl\n",
       "\\begin{tabular}{r|ll}\n",
       "  & 0.25 \\% & 99.75 \\%\\\\\n",
       "\\hline\n",
       "\tTP & 143.4961 & 252.0191\\\\\n",
       "\\end{tabular}\n"
      ],
      "text/markdown": [
       "\n",
       "A matrix: 1 × 2 of type dbl\n",
       "\n",
       "| <!--/--> | 0.25 % | 99.75 % |\n",
       "|---|---|---|\n",
       "| TP | 143.4961 | 252.0191 |\n",
       "\n"
      ],
      "text/plain": [
       "   0.25 %   99.75 % \n",
       "TP 143.4961 252.0191"
      ]
     },
     "metadata": {},
     "output_type": "display_data"
    },
    {
     "data": {
      "text/plain": [
       "\n",
       "Call:\n",
       "lm(formula = eq, data = vmm[vmm$basin1 == 1, ])\n",
       "\n",
       "Residuals:\n",
       "    Min      1Q  Median      3Q     Max \n",
       "-25.179  -9.946  -4.597   5.075  98.274 \n",
       "\n",
       "Coefficients:\n",
       "   Estimate Std. Error t value Pr(>|t|)    \n",
       "TP   197.76      19.04   10.39   <2e-16 ***\n",
       "---\n",
       "Signif. codes:  0 '***' 0.001 '**' 0.01 '*' 0.05 '.' 0.1 ' ' 1\n",
       "\n",
       "Residual standard error: 17.22 on 147 degrees of freedom\n",
       "  (6 observations deleted due to missingness)\n",
       "Multiple R-squared:  0.4233,\tAdjusted R-squared:  0.4194 \n",
       "F-statistic: 107.9 on 1 and 147 DF,  p-value: < 2.2e-16\n"
      ]
     },
     "metadata": {},
     "output_type": "display_data"
    }
   ],
   "source": [
    "mdl <-lm(eq,data=vmm[vmm$basin1 ==1,])\n",
    "confint(mdl, level = a)\n",
    "summary(mdl)"
   ]
  },
  {
   "cell_type": "markdown",
   "metadata": {
    "heading_collapsed": true
   },
   "source": [
    "# CA vs TN"
   ]
  },
  {
   "cell_type": "code",
   "execution_count": 19,
   "metadata": {
    "ExecuteTime": {
     "end_time": "2021-01-11T15:33:08.042320Z",
     "start_time": "2021-01-11T15:33:00.219Z"
    },
    "hidden": true
   },
   "outputs": [
    {
     "data": {
      "text/html": [
       "<table>\n",
       "<caption>A matrix: 2 × 2 of type dbl</caption>\n",
       "<thead>\n",
       "\t<tr><th></th><th scope=col>0.25 %</th><th scope=col>99.75 %</th></tr>\n",
       "</thead>\n",
       "<tbody>\n",
       "\t<tr><th scope=row>(Intercept)</th><td> 7.193496</td><td>11.332034</td></tr>\n",
       "\t<tr><th scope=row>TN</th><td>-1.785504</td><td> 0.558278</td></tr>\n",
       "</tbody>\n",
       "</table>\n"
      ],
      "text/latex": [
       "A matrix: 2 × 2 of type dbl\n",
       "\\begin{tabular}{r|ll}\n",
       "  & 0.25 \\% & 99.75 \\%\\\\\n",
       "\\hline\n",
       "\t(Intercept) &  7.193496 & 11.332034\\\\\n",
       "\tTN & -1.785504 &  0.558278\\\\\n",
       "\\end{tabular}\n"
      ],
      "text/markdown": [
       "\n",
       "A matrix: 2 × 2 of type dbl\n",
       "\n",
       "| <!--/--> | 0.25 % | 99.75 % |\n",
       "|---|---|---|\n",
       "| (Intercept) |  7.193496 | 11.332034 |\n",
       "| TN | -1.785504 |  0.558278 |\n",
       "\n"
      ],
      "text/plain": [
       "            0.25 %    99.75 %  \n",
       "(Intercept)  7.193496 11.332034\n",
       "TN          -1.785504  0.558278"
      ]
     },
     "metadata": {},
     "output_type": "display_data"
    },
    {
     "data": {
      "text/plain": [
       "\n",
       "Call:\n",
       "lm(formula = eq, data = vmm)\n",
       "\n",
       "Residuals:\n",
       "    Min      1Q  Median      3Q     Max \n",
       " -8.431  -6.830  -4.905   1.035 115.674 \n",
       "\n",
       "Coefficients:\n",
       "            Estimate Std. Error t value Pr(>|t|)    \n",
       "(Intercept)   9.2628     0.7354  12.596   <2e-16 ***\n",
       "TN           -0.6136     0.4165  -1.473    0.141    \n",
       "---\n",
       "Signif. codes:  0 '***' 0.001 '**' 0.01 '*' 0.05 '.' 0.1 ' ' 1\n",
       "\n",
       "Residual standard error: 13.37 on 903 degrees of freedom\n",
       "  (50 observations deleted due to missingness)\n",
       "Multiple R-squared:  0.002398,\tAdjusted R-squared:  0.001294 \n",
       "F-statistic: 2.171 on 1 and 903 DF,  p-value: 0.141\n"
      ]
     },
     "metadata": {},
     "output_type": "display_data"
    }
   ],
   "source": [
    "eq= \"CA ~ 1 + TN\"\n",
    "mdl <-lm(eq,data=vmm)\n",
    "confint(mdl, level = a)\n",
    "summary(mdl)"
   ]
  },
  {
   "cell_type": "code",
   "execution_count": 20,
   "metadata": {
    "ExecuteTime": {
     "end_time": "2021-01-11T15:33:08.104156Z",
     "start_time": "2021-01-11T15:33:00.223Z"
    },
    "hidden": true
   },
   "outputs": [
    {
     "data": {
      "text/html": [
       "<table>\n",
       "<caption>A matrix: 2 × 2 of type dbl</caption>\n",
       "<thead>\n",
       "\t<tr><th></th><th scope=col>0.25 %</th><th scope=col>99.75 %</th></tr>\n",
       "</thead>\n",
       "<tbody>\n",
       "\t<tr><th scope=row>(Intercept)</th><td> 5.65551</td><td>9.6139676</td></tr>\n",
       "\t<tr><th scope=row>TN</th><td>-1.31005</td><td>0.8239196</td></tr>\n",
       "</tbody>\n",
       "</table>\n"
      ],
      "text/latex": [
       "A matrix: 2 × 2 of type dbl\n",
       "\\begin{tabular}{r|ll}\n",
       "  & 0.25 \\% & 99.75 \\%\\\\\n",
       "\\hline\n",
       "\t(Intercept) &  5.65551 & 9.6139676\\\\\n",
       "\tTN & -1.31005 & 0.8239196\\\\\n",
       "\\end{tabular}\n"
      ],
      "text/markdown": [
       "\n",
       "A matrix: 2 × 2 of type dbl\n",
       "\n",
       "| <!--/--> | 0.25 % | 99.75 % |\n",
       "|---|---|---|\n",
       "| (Intercept) |  5.65551 | 9.6139676 |\n",
       "| TN | -1.31005 | 0.8239196 |\n",
       "\n"
      ],
      "text/plain": [
       "            0.25 %   99.75 %  \n",
       "(Intercept)  5.65551 9.6139676\n",
       "TN          -1.31005 0.8239196"
      ]
     },
     "metadata": {},
     "output_type": "display_data"
    },
    {
     "data": {
      "text/plain": [
       "\n",
       "Call:\n",
       "lm(formula = eq, data = vmm[vmm$basin1 == 0, ])\n",
       "\n",
       "Residuals:\n",
       "    Min      1Q  Median      3Q     Max \n",
       " -7.087  -5.731  -4.358   0.114 110.886 \n",
       "\n",
       "Coefficients:\n",
       "            Estimate Std. Error t value Pr(>|t|)    \n",
       "(Intercept)   7.6347     0.7030  10.860   <2e-16 ***\n",
       "TN           -0.2431     0.3790  -0.641    0.521    \n",
       "---\n",
       "Signif. codes:  0 '***' 0.001 '**' 0.01 '*' 0.05 '.' 0.1 ' ' 1\n",
       "\n",
       "Residual standard error: 12.05 on 757 degrees of freedom\n",
       "  (42 observations deleted due to missingness)\n",
       "Multiple R-squared:  0.0005431,\tAdjusted R-squared:  -0.0007772 \n",
       "F-statistic: 0.4113 on 1 and 757 DF,  p-value: 0.5215\n"
      ]
     },
     "metadata": {},
     "output_type": "display_data"
    }
   ],
   "source": [
    "mdl <-lm(eq,data=vmm[vmm$basin1 == 0,])\n",
    "confint(mdl, level = a)\n",
    "summary(mdl)"
   ]
  },
  {
   "cell_type": "code",
   "execution_count": 21,
   "metadata": {
    "ExecuteTime": {
     "end_time": "2021-01-11T15:33:08.172972Z",
     "start_time": "2021-01-11T15:33:00.227Z"
    },
    "hidden": true
   },
   "outputs": [
    {
     "data": {
      "text/html": [
       "<table>\n",
       "<caption>A matrix: 2 × 2 of type dbl</caption>\n",
       "<thead>\n",
       "\t<tr><th></th><th scope=col>0.25 %</th><th scope=col>99.75 %</th></tr>\n",
       "</thead>\n",
       "<tbody>\n",
       "\t<tr><th scope=row>(Intercept)</th><td> 11.65070</td><td>47.887902</td></tr>\n",
       "\t<tr><th scope=row>TN</th><td>-28.42927</td><td> 1.784263</td></tr>\n",
       "</tbody>\n",
       "</table>\n"
      ],
      "text/latex": [
       "A matrix: 2 × 2 of type dbl\n",
       "\\begin{tabular}{r|ll}\n",
       "  & 0.25 \\% & 99.75 \\%\\\\\n",
       "\\hline\n",
       "\t(Intercept) &  11.65070 & 47.887902\\\\\n",
       "\tTN & -28.42927 &  1.784263\\\\\n",
       "\\end{tabular}\n"
      ],
      "text/markdown": [
       "\n",
       "A matrix: 2 × 2 of type dbl\n",
       "\n",
       "| <!--/--> | 0.25 % | 99.75 % |\n",
       "|---|---|---|\n",
       "| (Intercept) |  11.65070 | 47.887902 |\n",
       "| TN | -28.42927 |  1.784263 |\n",
       "\n"
      ],
      "text/plain": [
       "            0.25 %    99.75 %  \n",
       "(Intercept)  11.65070 47.887902\n",
       "TN          -28.42927  1.784263"
      ]
     },
     "metadata": {},
     "output_type": "display_data"
    },
    {
     "data": {
      "text/plain": [
       "\n",
       "Call:\n",
       "lm(formula = eq, data = vmm[vmm$basin1 == 1, ])\n",
       "\n",
       "Residuals:\n",
       "    Min      1Q  Median      3Q     Max \n",
       "-15.695 -10.681  -5.703   3.772 114.571 \n",
       "\n",
       "Coefficients:\n",
       "            Estimate Std. Error t value Pr(>|t|)    \n",
       "(Intercept)   29.769      6.355   4.684 6.44e-06 ***\n",
       "TN           -13.323      5.299  -2.514    0.013 *  \n",
       "---\n",
       "Signif. codes:  0 '***' 0.001 '**' 0.01 '*' 0.05 '.' 0.1 ' ' 1\n",
       "\n",
       "Residual standard error: 17.51 on 144 degrees of freedom\n",
       "  (8 observations deleted due to missingness)\n",
       "Multiple R-squared:  0.04205,\tAdjusted R-squared:  0.0354 \n",
       "F-statistic: 6.321 on 1 and 144 DF,  p-value: 0.01303\n"
      ]
     },
     "metadata": {},
     "output_type": "display_data"
    }
   ],
   "source": [
    "mdl <-lm(eq,data=vmm[vmm$basin1 == 1,])\n",
    "confint(mdl, level = a)\n",
    "summary(mdl)"
   ]
  },
  {
   "cell_type": "markdown",
   "metadata": {
    "heading_collapsed": true
   },
   "source": [
    "# TN:TP vs CA"
   ]
  },
  {
   "cell_type": "code",
   "execution_count": 22,
   "metadata": {
    "ExecuteTime": {
     "end_time": "2021-01-11T15:33:08.242787Z",
     "start_time": "2021-01-11T15:33:00.239Z"
    },
    "hidden": true
   },
   "outputs": [
    {
     "data": {
      "text/html": [
       "<table>\n",
       "<caption>A matrix: 2 × 2 of type dbl</caption>\n",
       "<thead>\n",
       "\t<tr><th></th><th scope=col>0.25 %</th><th scope=col>99.75 %</th></tr>\n",
       "</thead>\n",
       "<tbody>\n",
       "\t<tr><th scope=row>(Intercept)</th><td> 8.7388539</td><td>12.27478032</td></tr>\n",
       "\t<tr><th scope=row>ratio</th><td>-0.1299535</td><td>-0.03546017</td></tr>\n",
       "</tbody>\n",
       "</table>\n"
      ],
      "text/latex": [
       "A matrix: 2 × 2 of type dbl\n",
       "\\begin{tabular}{r|ll}\n",
       "  & 0.25 \\% & 99.75 \\%\\\\\n",
       "\\hline\n",
       "\t(Intercept) &  8.7388539 & 12.27478032\\\\\n",
       "\tratio & -0.1299535 & -0.03546017\\\\\n",
       "\\end{tabular}\n"
      ],
      "text/markdown": [
       "\n",
       "A matrix: 2 × 2 of type dbl\n",
       "\n",
       "| <!--/--> | 0.25 % | 99.75 % |\n",
       "|---|---|---|\n",
       "| (Intercept) |  8.7388539 | 12.27478032 |\n",
       "| ratio | -0.1299535 | -0.03546017 |\n",
       "\n"
      ],
      "text/plain": [
       "            0.25 %     99.75 %    \n",
       "(Intercept)  8.7388539 12.27478032\n",
       "ratio       -0.1299535 -0.03546017"
      ]
     },
     "metadata": {},
     "output_type": "display_data"
    },
    {
     "data": {
      "text/plain": [
       "\n",
       "Call:\n",
       "lm(formula = \"CA ~ 1 + ratio\", data = vmm)\n",
       "\n",
       "Residuals:\n",
       "    Min      1Q  Median      3Q     Max \n",
       " -8.870  -6.956  -4.715   1.145 114.464 \n",
       "\n",
       "Coefficients:\n",
       "            Estimate Std. Error t value Pr(>|t|)    \n",
       "(Intercept) 10.50682    0.62825  16.724   <2e-16 ***\n",
       "ratio       -0.08271    0.01679  -4.926    1e-06 ***\n",
       "---\n",
       "Signif. codes:  0 '***' 0.001 '**' 0.01 '*' 0.05 '.' 0.1 ' ' 1\n",
       "\n",
       "Residual standard error: 13.2 on 885 degrees of freedom\n",
       "  (68 observations deleted due to missingness)\n",
       "Multiple R-squared:  0.02669,\tAdjusted R-squared:  0.02559 \n",
       "F-statistic: 24.27 on 1 and 885 DF,  p-value: 1.001e-06\n"
      ]
     },
     "metadata": {},
     "output_type": "display_data"
    }
   ],
   "source": [
    "mdl <-lm(\"CA ~ 1 + ratio\",data=vmm)\n",
    "confint(mdl, level = a)\n",
    "summary(mdl)"
   ]
  },
  {
   "cell_type": "code",
   "execution_count": 23,
   "metadata": {
    "ExecuteTime": {
     "end_time": "2021-01-11T15:33:08.304622Z",
     "start_time": "2021-01-11T15:33:00.242Z"
    },
    "hidden": true
   },
   "outputs": [
    {
     "data": {
      "text/html": [
       "<table>\n",
       "<caption>A matrix: 2 × 2 of type dbl</caption>\n",
       "<thead>\n",
       "\t<tr><th></th><th scope=col>0.25 %</th><th scope=col>99.75 %</th></tr>\n",
       "</thead>\n",
       "<tbody>\n",
       "\t<tr><th scope=row>(Intercept)</th><td> 7.1353482</td><td>10.57662858</td></tr>\n",
       "\t<tr><th scope=row>ratio</th><td>-0.1041923</td><td>-0.01798058</td></tr>\n",
       "</tbody>\n",
       "</table>\n"
      ],
      "text/latex": [
       "A matrix: 2 × 2 of type dbl\n",
       "\\begin{tabular}{r|ll}\n",
       "  & 0.25 \\% & 99.75 \\%\\\\\n",
       "\\hline\n",
       "\t(Intercept) &  7.1353482 & 10.57662858\\\\\n",
       "\tratio & -0.1041923 & -0.01798058\\\\\n",
       "\\end{tabular}\n"
      ],
      "text/markdown": [
       "\n",
       "A matrix: 2 × 2 of type dbl\n",
       "\n",
       "| <!--/--> | 0.25 % | 99.75 % |\n",
       "|---|---|---|\n",
       "| (Intercept) |  7.1353482 | 10.57662858 |\n",
       "| ratio | -0.1041923 | -0.01798058 |\n",
       "\n"
      ],
      "text/plain": [
       "            0.25 %     99.75 %    \n",
       "(Intercept)  7.1353482 10.57662858\n",
       "ratio       -0.1041923 -0.01798058"
      ]
     },
     "metadata": {},
     "output_type": "display_data"
    },
    {
     "data": {
      "text/plain": [
       "\n",
       "Call:\n",
       "lm(formula = \"CA ~ 1 + ratio\", data = vmm[vmm$basin1 == 0, ])\n",
       "\n",
       "Residuals:\n",
       "    Min      1Q  Median      3Q     Max \n",
       " -7.521  -5.903  -4.083   0.509 110.273 \n",
       "\n",
       "Coefficients:\n",
       "            Estimate Std. Error t value Pr(>|t|)    \n",
       "(Intercept)  8.85599    0.61114   14.49  < 2e-16 ***\n",
       "ratio       -0.06109    0.01531   -3.99 7.27e-05 ***\n",
       "---\n",
       "Signif. codes:  0 '***' 0.001 '**' 0.01 '*' 0.05 '.' 0.1 ' ' 1\n",
       "\n",
       "Residual standard error: 11.85 on 741 degrees of freedom\n",
       "  (58 observations deleted due to missingness)\n",
       "Multiple R-squared:  0.02103,\tAdjusted R-squared:  0.01971 \n",
       "F-statistic: 15.92 on 1 and 741 DF,  p-value: 7.268e-05\n"
      ]
     },
     "metadata": {},
     "output_type": "display_data"
    }
   ],
   "source": [
    "mdl <-lm(\"CA ~ 1 + ratio\",data=vmm[vmm$basin1 == 0,])\n",
    "confint(mdl, level = a)\n",
    "summary(mdl)"
   ]
  },
  {
   "cell_type": "code",
   "execution_count": 24,
   "metadata": {
    "ExecuteTime": {
     "end_time": "2021-01-11T15:33:08.367453Z",
     "start_time": "2021-01-11T15:33:00.246Z"
    },
    "hidden": true
   },
   "outputs": [
    {
     "data": {
      "text/html": [
       "<table>\n",
       "<caption>A matrix: 2 × 2 of type dbl</caption>\n",
       "<thead>\n",
       "\t<tr><th></th><th scope=col>0.25 %</th><th scope=col>99.75 %</th></tr>\n",
       "</thead>\n",
       "<tbody>\n",
       "\t<tr><th scope=row>(Intercept)</th><td>17.945858</td><td>39.420122</td></tr>\n",
       "\t<tr><th scope=row>ratio</th><td>-1.303529</td><td>-0.235088</td></tr>\n",
       "</tbody>\n",
       "</table>\n"
      ],
      "text/latex": [
       "A matrix: 2 × 2 of type dbl\n",
       "\\begin{tabular}{r|ll}\n",
       "  & 0.25 \\% & 99.75 \\%\\\\\n",
       "\\hline\n",
       "\t(Intercept) & 17.945858 & 39.420122\\\\\n",
       "\tratio & -1.303529 & -0.235088\\\\\n",
       "\\end{tabular}\n"
      ],
      "text/markdown": [
       "\n",
       "A matrix: 2 × 2 of type dbl\n",
       "\n",
       "| <!--/--> | 0.25 % | 99.75 % |\n",
       "|---|---|---|\n",
       "| (Intercept) | 17.945858 | 39.420122 |\n",
       "| ratio | -1.303529 | -0.235088 |\n",
       "\n"
      ],
      "text/plain": [
       "            0.25 %    99.75 %  \n",
       "(Intercept) 17.945858 39.420122\n",
       "ratio       -1.303529 -0.235088"
      ]
     },
     "metadata": {},
     "output_type": "display_data"
    },
    {
     "data": {
      "text/plain": [
       "\n",
       "Call:\n",
       "lm(formula = \"CA ~ 1 + ratio\", data = vmm[vmm$basin1 == 1, ])\n",
       "\n",
       "Residuals:\n",
       "    Min      1Q  Median      3Q     Max \n",
       "-19.170 -10.766  -4.624   6.403 104.346 \n",
       "\n",
       "Coefficients:\n",
       "            Estimate Std. Error t value Pr(>|t|)    \n",
       "(Intercept)  28.6830     3.7654   7.618 3.32e-12 ***\n",
       "ratio        -0.7693     0.1873  -4.106 6.75e-05 ***\n",
       "---\n",
       "Signif. codes:  0 '***' 0.001 '**' 0.01 '*' 0.05 '.' 0.1 ' ' 1\n",
       "\n",
       "Residual standard error: 16.99 on 142 degrees of freedom\n",
       "  (10 observations deleted due to missingness)\n",
       "Multiple R-squared:  0.1061,\tAdjusted R-squared:  0.09985 \n",
       "F-statistic: 16.86 on 1 and 142 DF,  p-value: 6.753e-05\n"
      ]
     },
     "metadata": {},
     "output_type": "display_data"
    }
   ],
   "source": [
    "mdl <-lm(\"CA ~ 1 + ratio\",data=vmm[vmm$basin1 == 1,])\n",
    "confint(mdl, level = a)\n",
    "summary(mdl)"
   ]
  },
  {
   "cell_type": "markdown",
   "metadata": {
    "heading_collapsed": true
   },
   "source": [
    "# TN:TP vs time"
   ]
  },
  {
   "cell_type": "code",
   "execution_count": 25,
   "metadata": {
    "ExecuteTime": {
     "end_time": "2021-01-11T15:33:08.425298Z",
     "start_time": "2021-01-11T15:33:00.257Z"
    },
    "hidden": true
   },
   "outputs": [
    {
     "data": {
      "text/html": [
       "<table>\n",
       "<caption>A matrix: 2 × 2 of type dbl</caption>\n",
       "<thead>\n",
       "\t<tr><th></th><th scope=col>0.25 %</th><th scope=col>99.75 %</th></tr>\n",
       "</thead>\n",
       "<tbody>\n",
       "\t<tr><th scope=row>(Intercept)</th><td>24.3891278</td><td>29.310467</td></tr>\n",
       "\t<tr><th scope=row>cy</th><td> 0.3795008</td><td> 1.154706</td></tr>\n",
       "</tbody>\n",
       "</table>\n"
      ],
      "text/latex": [
       "A matrix: 2 × 2 of type dbl\n",
       "\\begin{tabular}{r|ll}\n",
       "  & 0.25 \\% & 99.75 \\%\\\\\n",
       "\\hline\n",
       "\t(Intercept) & 24.3891278 & 29.310467\\\\\n",
       "\tcy &  0.3795008 &  1.154706\\\\\n",
       "\\end{tabular}\n"
      ],
      "text/markdown": [
       "\n",
       "A matrix: 2 × 2 of type dbl\n",
       "\n",
       "| <!--/--> | 0.25 % | 99.75 % |\n",
       "|---|---|---|\n",
       "| (Intercept) | 24.3891278 | 29.310467 |\n",
       "| cy |  0.3795008 |  1.154706 |\n",
       "\n"
      ],
      "text/plain": [
       "            0.25 %     99.75 %  \n",
       "(Intercept) 24.3891278 29.310467\n",
       "cy           0.3795008  1.154706"
      ]
     },
     "metadata": {},
     "output_type": "display_data"
    },
    {
     "data": {
      "text/plain": [
       "\n",
       "Call:\n",
       "lm(formula = \"ratio ~ 1 + cy\", data = vmm)\n",
       "\n",
       "Residuals:\n",
       "    Min      1Q  Median      3Q     Max \n",
       "-26.246 -12.084  -5.727   2.402 292.918 \n",
       "\n",
       "Coefficients:\n",
       "            Estimate Std. Error t value Pr(>|t|)    \n",
       "(Intercept)  26.8498     0.8744  30.706  < 2e-16 ***\n",
       "cy            0.7671     0.1377   5.569 3.39e-08 ***\n",
       "---\n",
       "Signif. codes:  0 '***' 0.001 '**' 0.01 '*' 0.05 '.' 0.1 ' ' 1\n",
       "\n",
       "Residual standard error: 25.98 on 885 degrees of freedom\n",
       "  (68 observations deleted due to missingness)\n",
       "Multiple R-squared:  0.03386,\tAdjusted R-squared:  0.03277 \n",
       "F-statistic: 31.02 on 1 and 885 DF,  p-value: 3.392e-08\n"
      ]
     },
     "metadata": {},
     "output_type": "display_data"
    }
   ],
   "source": [
    "mdl <-lm(\"ratio ~ 1 + cy\",data=vmm)\n",
    "confint(mdl, level = a)\n",
    "summary(mdl)"
   ]
  },
  {
   "cell_type": "code",
   "execution_count": 26,
   "metadata": {
    "ExecuteTime": {
     "end_time": "2021-01-11T15:33:08.484141Z",
     "start_time": "2021-01-11T15:33:00.261Z"
    },
    "hidden": true
   },
   "outputs": [
    {
     "data": {
      "text/html": [
       "<table>\n",
       "<caption>A matrix: 2 × 2 of type dbl</caption>\n",
       "<thead>\n",
       "\t<tr><th></th><th scope=col>0.25 %</th><th scope=col>99.75 %</th></tr>\n",
       "</thead>\n",
       "<tbody>\n",
       "\t<tr><th scope=row>(Intercept)</th><td>25.531974</td><td>31.314403</td></tr>\n",
       "\t<tr><th scope=row>cy</th><td> 0.396944</td><td> 1.308798</td></tr>\n",
       "</tbody>\n",
       "</table>\n"
      ],
      "text/latex": [
       "A matrix: 2 × 2 of type dbl\n",
       "\\begin{tabular}{r|ll}\n",
       "  & 0.25 \\% & 99.75 \\%\\\\\n",
       "\\hline\n",
       "\t(Intercept) & 25.531974 & 31.314403\\\\\n",
       "\tcy &  0.396944 &  1.308798\\\\\n",
       "\\end{tabular}\n"
      ],
      "text/markdown": [
       "\n",
       "A matrix: 2 × 2 of type dbl\n",
       "\n",
       "| <!--/--> | 0.25 % | 99.75 % |\n",
       "|---|---|---|\n",
       "| (Intercept) | 25.531974 | 31.314403 |\n",
       "| cy |  0.396944 |  1.308798 |\n",
       "\n"
      ],
      "text/plain": [
       "            0.25 %    99.75 %  \n",
       "(Intercept) 25.531974 31.314403\n",
       "cy           0.396944  1.308798"
      ]
     },
     "metadata": {},
     "output_type": "display_data"
    },
    {
     "data": {
      "text/plain": [
       "\n",
       "Call:\n",
       "lm(formula = \"ratio ~ 1 + cy\", data = vmm[vmm$basin1 == 0, ])\n",
       "\n",
       "Residuals:\n",
       "    Min      1Q  Median      3Q     Max \n",
       "-28.517 -13.531  -6.448   2.287 290.647 \n",
       "\n",
       "Coefficients:\n",
       "            Estimate Std. Error t value Pr(>|t|)    \n",
       "(Intercept)  28.4232     1.0269  27.679  < 2e-16 ***\n",
       "cy            0.8529     0.1619   5.267 1.82e-07 ***\n",
       "---\n",
       "Signif. codes:  0 '***' 0.001 '**' 0.01 '*' 0.05 '.' 0.1 ' ' 1\n",
       "\n",
       "Residual standard error: 27.92 on 741 degrees of freedom\n",
       "  (58 observations deleted due to missingness)\n",
       "Multiple R-squared:  0.03608,\tAdjusted R-squared:  0.03478 \n",
       "F-statistic: 27.74 on 1 and 741 DF,  p-value: 1.822e-07\n"
      ]
     },
     "metadata": {},
     "output_type": "display_data"
    }
   ],
   "source": [
    "mdl <-lm(\"ratio ~ 1 + cy\",data=vmm[vmm$basin1 == 0,])\n",
    "confint(mdl, level = a)\n",
    "summary(mdl)"
   ]
  },
  {
   "cell_type": "code",
   "execution_count": 27,
   "metadata": {
    "ExecuteTime": {
     "end_time": "2021-01-11T15:33:08.543998Z",
     "start_time": "2021-01-11T15:33:00.265Z"
    },
    "hidden": true
   },
   "outputs": [
    {
     "data": {
      "text/html": [
       "<table>\n",
       "<caption>A matrix: 2 × 2 of type dbl</caption>\n",
       "<thead>\n",
       "\t<tr><th></th><th scope=col>0.25 %</th><th scope=col>99.75 %</th></tr>\n",
       "</thead>\n",
       "<tbody>\n",
       "\t<tr><th scope=row>(Intercept)</th><td>17.02228539</td><td>20.494019</td></tr>\n",
       "\t<tr><th scope=row>cy</th><td> 0.06814101</td><td> 0.611907</td></tr>\n",
       "</tbody>\n",
       "</table>\n"
      ],
      "text/latex": [
       "A matrix: 2 × 2 of type dbl\n",
       "\\begin{tabular}{r|ll}\n",
       "  & 0.25 \\% & 99.75 \\%\\\\\n",
       "\\hline\n",
       "\t(Intercept) & 17.02228539 & 20.494019\\\\\n",
       "\tcy &  0.06814101 &  0.611907\\\\\n",
       "\\end{tabular}\n"
      ],
      "text/markdown": [
       "\n",
       "A matrix: 2 × 2 of type dbl\n",
       "\n",
       "| <!--/--> | 0.25 % | 99.75 % |\n",
       "|---|---|---|\n",
       "| (Intercept) | 17.02228539 | 20.494019 |\n",
       "| cy |  0.06814101 |  0.611907 |\n",
       "\n"
      ],
      "text/plain": [
       "            0.25 %      99.75 %  \n",
       "(Intercept) 17.02228539 20.494019\n",
       "cy           0.06814101  0.611907"
      ]
     },
     "metadata": {},
     "output_type": "display_data"
    },
    {
     "data": {
      "text/plain": [
       "\n",
       "Call:\n",
       "lm(formula = \"ratio ~ 1 + cy\", data = vmm[vmm$basin1 == 1, ])\n",
       "\n",
       "Residuals:\n",
       "    Min      1Q  Median      3Q     Max \n",
       "-14.140  -5.805  -1.212   4.286  21.919 \n",
       "\n",
       "Coefficients:\n",
       "            Estimate Std. Error t value Pr(>|t|)    \n",
       "(Intercept) 18.75815    0.60874  30.815  < 2e-16 ***\n",
       "cy           0.34002    0.09535   3.566 0.000494 ***\n",
       "---\n",
       "Signif. codes:  0 '***' 0.001 '**' 0.01 '*' 0.05 '.' 0.1 ' ' 1\n",
       "\n",
       "Residual standard error: 7.291 on 142 degrees of freedom\n",
       "  (10 observations deleted due to missingness)\n",
       "Multiple R-squared:  0.0822,\tAdjusted R-squared:  0.07574 \n",
       "F-statistic: 12.72 on 1 and 142 DF,  p-value: 0.0004941\n"
      ]
     },
     "metadata": {},
     "output_type": "display_data"
    }
   ],
   "source": [
    "mdl <-lm(\"ratio ~ 1 + cy\",data=vmm[vmm$basin1 == 1,])\n",
    "confint(mdl, level = a)\n",
    "summary(mdl)"
   ]
  },
  {
   "cell_type": "markdown",
   "metadata": {
    "heading_collapsed": true
   },
   "source": [
    "# Total Phosphorus"
   ]
  },
  {
   "cell_type": "code",
   "execution_count": 28,
   "metadata": {
    "ExecuteTime": {
     "end_time": "2021-01-11T15:33:08.604819Z",
     "start_time": "2021-01-11T15:33:00.278Z"
    },
    "hidden": true
   },
   "outputs": [
    {
     "data": {
      "text/html": [
       "<table>\n",
       "<caption>A matrix: 2 × 2 of type dbl</caption>\n",
       "<thead>\n",
       "\t<tr><th></th><th scope=col>0.25 %</th><th scope=col>99.75 %</th></tr>\n",
       "</thead>\n",
       "<tbody>\n",
       "\t<tr><th scope=row>(Intercept)</th><td> 6.164455e-02</td><td> 6.756305e-02</td></tr>\n",
       "\t<tr><th scope=row>cd</th><td>-5.324798e-06</td><td>-2.782917e-06</td></tr>\n",
       "</tbody>\n",
       "</table>\n"
      ],
      "text/latex": [
       "A matrix: 2 × 2 of type dbl\n",
       "\\begin{tabular}{r|ll}\n",
       "  & 0.25 \\% & 99.75 \\%\\\\\n",
       "\\hline\n",
       "\t(Intercept) &  6.164455e-02 &  6.756305e-02\\\\\n",
       "\tcd & -5.324798e-06 & -2.782917e-06\\\\\n",
       "\\end{tabular}\n"
      ],
      "text/markdown": [
       "\n",
       "A matrix: 2 × 2 of type dbl\n",
       "\n",
       "| <!--/--> | 0.25 % | 99.75 % |\n",
       "|---|---|---|\n",
       "| (Intercept) |  6.164455e-02 |  6.756305e-02 |\n",
       "| cd | -5.324798e-06 | -2.782917e-06 |\n",
       "\n"
      ],
      "text/plain": [
       "            0.25 %        99.75 %      \n",
       "(Intercept)  6.164455e-02  6.756305e-02\n",
       "cd          -5.324798e-06 -2.782917e-06"
      ]
     },
     "metadata": {},
     "output_type": "display_data"
    },
    {
     "data": {
      "text/plain": [
       "\n",
       "Call:\n",
       "lm(formula = eq, data = vmm)\n",
       "\n",
       "Residuals:\n",
       "      Min        1Q    Median        3Q       Max \n",
       "-0.058740 -0.020753 -0.004388  0.015457  0.275692 \n",
       "\n",
       "Coefficients:\n",
       "              Estimate Std. Error t value Pr(>|t|)    \n",
       "(Intercept)  6.460e-02  1.052e-03  61.432   <2e-16 ***\n",
       "cd          -4.054e-06  4.517e-07  -8.976   <2e-16 ***\n",
       "---\n",
       "Signif. codes:  0 '***' 0.001 '**' 0.01 '*' 0.05 '.' 0.1 ' ' 1\n",
       "\n",
       "Residual standard error: 0.0316 on 902 degrees of freedom\n",
       "  (51 observations deleted due to missingness)\n",
       "Multiple R-squared:  0.08199,\tAdjusted R-squared:  0.08097 \n",
       "F-statistic: 80.56 on 1 and 902 DF,  p-value: < 2.2e-16\n"
      ]
     },
     "metadata": {},
     "output_type": "display_data"
    }
   ],
   "source": [
    "eq= \"TP ~ 1 + cd\"\n",
    "mdl <-lm(eq,data=vmm)\n",
    "confint(mdl, level = a)\n",
    "summary(mdl)"
   ]
  },
  {
   "cell_type": "code",
   "execution_count": 29,
   "metadata": {
    "ExecuteTime": {
     "end_time": "2021-01-11T15:33:08.668647Z",
     "start_time": "2021-01-11T15:33:00.284Z"
    },
    "hidden": true
   },
   "outputs": [
    {
     "data": {
      "text/html": [
       "<table>\n",
       "<caption>A matrix: 2 × 2 of type dbl</caption>\n",
       "<thead>\n",
       "\t<tr><th></th><th scope=col>0.25 %</th><th scope=col>99.75 %</th></tr>\n",
       "</thead>\n",
       "<tbody>\n",
       "\t<tr><th scope=row>(Intercept)</th><td> 6.495091e-02</td><td> 7.564937e-02</td></tr>\n",
       "\t<tr><th scope=row>cd</th><td>-5.253877e-06</td><td>-6.948193e-07</td></tr>\n",
       "</tbody>\n",
       "</table>\n"
      ],
      "text/latex": [
       "A matrix: 2 × 2 of type dbl\n",
       "\\begin{tabular}{r|ll}\n",
       "  & 0.25 \\% & 99.75 \\%\\\\\n",
       "\\hline\n",
       "\t(Intercept) &  6.495091e-02 &  7.564937e-02\\\\\n",
       "\tcd & -5.253877e-06 & -6.948193e-07\\\\\n",
       "\\end{tabular}\n"
      ],
      "text/markdown": [
       "\n",
       "A matrix: 2 × 2 of type dbl\n",
       "\n",
       "| <!--/--> | 0.25 % | 99.75 % |\n",
       "|---|---|---|\n",
       "| (Intercept) |  6.495091e-02 |  7.564937e-02 |\n",
       "| cd | -5.253877e-06 | -6.948193e-07 |\n",
       "\n"
      ],
      "text/plain": [
       "            0.25 %        99.75 %      \n",
       "(Intercept)  6.495091e-02  7.564937e-02\n",
       "cd          -5.253877e-06 -6.948193e-07"
      ]
     },
     "metadata": {},
     "output_type": "display_data"
    },
    {
     "data": {
      "text/plain": [
       "\n",
       "Call:\n",
       "lm(formula = eq, data = vmm[lgc, ])\n",
       "\n",
       "Residuals:\n",
       "      Min        1Q    Median        3Q       Max \n",
       "-0.037728 -0.017738 -0.003262  0.015495  0.065413 \n",
       "\n",
       "Coefficients:\n",
       "              Estimate Std. Error t value Pr(>|t|)    \n",
       "(Intercept)  7.030e-02  1.877e-03  37.459  < 2e-16 ***\n",
       "cd          -2.974e-06  7.997e-07  -3.719 0.000284 ***\n",
       "---\n",
       "Signif. codes:  0 '***' 0.001 '**' 0.01 '*' 0.05 '.' 0.1 ' ' 1\n",
       "\n",
       "Residual standard error: 0.02283 on 146 degrees of freedom\n",
       "  (6 observations deleted due to missingness)\n",
       "Multiple R-squared:  0.08654,\tAdjusted R-squared:  0.08028 \n",
       "F-statistic: 13.83 on 1 and 146 DF,  p-value: 0.0002844\n"
      ]
     },
     "metadata": {},
     "output_type": "display_data"
    }
   ],
   "source": [
    "lgc = (vmm$basin1 == 1)\n",
    "mdl <-lm(eq,data=vmm[lgc,])\n",
    "confint(mdl, level = a)\n",
    "summary(mdl)"
   ]
  },
  {
   "cell_type": "code",
   "execution_count": 30,
   "metadata": {
    "ExecuteTime": {
     "end_time": "2021-01-11T15:33:08.730482Z",
     "start_time": "2021-01-11T15:33:00.287Z"
    },
    "hidden": true
   },
   "outputs": [
    {
     "data": {
      "text/html": [
       "<table>\n",
       "<caption>A matrix: 2 × 2 of type dbl</caption>\n",
       "<thead>\n",
       "\t<tr><th></th><th scope=col>0.25 %</th><th scope=col>99.75 %</th></tr>\n",
       "</thead>\n",
       "<tbody>\n",
       "\t<tr><th scope=row>(Intercept)</th><td> 6.010695e-02</td><td> 6.685602e-02</td></tr>\n",
       "\t<tr><th scope=row>cd</th><td>-5.726992e-06</td><td>-2.823920e-06</td></tr>\n",
       "</tbody>\n",
       "</table>\n"
      ],
      "text/latex": [
       "A matrix: 2 × 2 of type dbl\n",
       "\\begin{tabular}{r|ll}\n",
       "  & 0.25 \\% & 99.75 \\%\\\\\n",
       "\\hline\n",
       "\t(Intercept) &  6.010695e-02 &  6.685602e-02\\\\\n",
       "\tcd & -5.726992e-06 & -2.823920e-06\\\\\n",
       "\\end{tabular}\n"
      ],
      "text/markdown": [
       "\n",
       "A matrix: 2 × 2 of type dbl\n",
       "\n",
       "| <!--/--> | 0.25 % | 99.75 % |\n",
       "|---|---|---|\n",
       "| (Intercept) |  6.010695e-02 |  6.685602e-02 |\n",
       "| cd | -5.726992e-06 | -2.823920e-06 |\n",
       "\n"
      ],
      "text/plain": [
       "            0.25 %        99.75 %      \n",
       "(Intercept)  6.010695e-02  6.685602e-02\n",
       "cd          -5.726992e-06 -2.823920e-06"
      ]
     },
     "metadata": {},
     "output_type": "display_data"
    },
    {
     "data": {
      "text/plain": [
       "\n",
       "Call:\n",
       "lm(formula = eq, data = vmm[!lgc, ])\n",
       "\n",
       "Residuals:\n",
       "     Min       1Q   Median       3Q      Max \n",
       "-0.05843 -0.02064 -0.00574  0.01533  0.27594 \n",
       "\n",
       "Coefficients:\n",
       "              Estimate Std. Error t value Pr(>|t|)    \n",
       "(Intercept)  6.348e-02  1.199e-03  52.962  < 2e-16 ***\n",
       "cd          -4.275e-06  5.156e-07  -8.292 5.08e-16 ***\n",
       "---\n",
       "Signif. codes:  0 '***' 0.001 '**' 0.01 '*' 0.05 '.' 0.1 ' ' 1\n",
       "\n",
       "Residual standard error: 0.03294 on 754 degrees of freedom\n",
       "  (45 observations deleted due to missingness)\n",
       "Multiple R-squared:  0.08358,\tAdjusted R-squared:  0.08236 \n",
       "F-statistic: 68.76 on 1 and 754 DF,  p-value: 5.083e-16\n"
      ]
     },
     "metadata": {},
     "output_type": "display_data"
    }
   ],
   "source": [
    "mdl <-lm(eq,data=vmm[!lgc,])\n",
    "confint(mdl, level = a)\n",
    "summary(mdl)"
   ]
  },
  {
   "cell_type": "markdown",
   "metadata": {},
   "source": [
    "# Limiting Nutrient and Summaries\n"
   ]
  },
  {
   "cell_type": "code",
   "execution_count": 31,
   "metadata": {
    "ExecuteTime": {
     "end_time": "2021-01-11T15:33:08.802290Z",
     "start_time": "2021-01-11T15:33:00.299Z"
    }
   },
   "outputs": [
    {
     "data": {
      "text/html": [
       "<strong>upper:</strong> 13.6088873475927"
      ],
      "text/latex": [
       "\\textbf{upper:} 13.6088873475927"
      ],
      "text/markdown": [
       "**upper:** 13.6088873475927"
      ],
      "text/plain": [
       "   upper \n",
       "13.60889 "
      ]
     },
     "metadata": {},
     "output_type": "display_data"
    }
   ],
   "source": [
    "vmm$month <- as.double(format(vmm$DATE, \"%m\"))\n",
    "vmm$Year <- as.double(format(vmm$DATE, \"%Y\"))\n",
    "#APRIL to October\n",
    "lgc <- (vmm$month >= 4 & vmm$month <=10)\n",
    "apr_oct <- vmm[lgc,]\n",
    "CI(apr_oct$CA, ci=0.995)[1]"
   ]
  },
  {
   "cell_type": "code",
   "execution_count": 32,
   "metadata": {
    "ExecuteTime": {
     "end_time": "2021-01-11T15:33:09.425873Z",
     "start_time": "2021-01-11T15:33:00.303Z"
    }
   },
   "outputs": [
    {
     "name": "stderr",
     "output_type": "stream",
     "text": [
      "`summarise()` regrouping output by 'Year' (override with `.groups` argument)\n",
      "\n",
      "Scale for 'fill' is already present. Adding another scale for 'fill', which\n",
      "will replace the existing scale.\n",
      "\n"
     ]
    }
   ],
   "source": [
    "res<- apr_oct %>%\n",
    "    group_by(Year,basin1) %>%\n",
    "    summarise(mean_CA = mean(CA))# %>% CI(CA, ci=0.995)) \n",
    "    #print(n = Inf)\n",
    "\n",
    "nb <- res[res$basin1 == 0,]\n",
    "x1 <- nb$Year - 0.33\n",
    "x2 <- nb$Year + 0.33\n",
    "y1 <- nb$basin1\n",
    "y2 <- nb$basin1 +0.45\n",
    "fill<- c(factor(nb$mean_CA >= 10))\n",
    "fill<- unlist(fill)\n",
    "c <- factor(fill, labels = c('pass', 'fail') )\n",
    "r<- unlist(round(nb$mean_CA, digits =1))\n",
    "nb_ci <- c(\"(11)\",\"(13)\",\"(12)\",\"(6.2)\",\"(3.7)\",\"(11)\",\"(5.1)\",\"(25)\",\"(11)\",\"(3.5)\",\"(7.0)\",\"(1.9)\",\"(3.6)\",\"(7.9)\",\"(2.2)\",\"(20)\",\"(2.4)\",\"(9.4)\",\"(7.6)\",\"(17)\",\"(1.1)\",\"(3.9)\",\"(2.9)\")\n",
    "\n",
    "\n",
    "\n",
    "b <- res[res$basin1 == 1,]\n",
    "x3 <- b$Year - 0.33\n",
    "x4 <- b$Year + 0.33\n",
    "y3 <- b$basin1 - 0.45\n",
    "y4 <- b$basin1 \n",
    "\n",
    "fill2<- c(factor(b$mean_CA >= 10))\n",
    "fill2<- unlist(fill2)\n",
    "c2 <- factor(fill2, labels = c('pass', 'fail') )\n",
    "r2<- unlist(round(b$mean_CA, digits =1))\n",
    "b_ci <-c(\"(40)\",\"(67)\",\"(44)\",\"(54)\",\"(46)\",\"(85)\",\"(86)\",\"(600)\",\"(410)\",\"(14)\",\"(540)\",\"(9.2)\",\"(18)\",\"(17)\",\"(22)\",\"(47)\",\"(15)\",\"(69)\",\"(55)\",\"(92)\",\"(11)\",\"(22)\",\"(84)\")\n",
    "\n",
    "\n",
    "d=data.frame(x1=c(x1), x2=c(x2), y1=c(nb$basin1), y2=c(nb$basin1+0.5), r=r)\n",
    "d2=data.frame(x3=c(x3), x4=c(x4), y1=c(b$basin1), y2=c(b$basin1+0.5), r=r2)\n",
    "\n",
    "fig <- function(width, heigth){\n",
    "     options(repr.plot.width = width, repr.plot.height = heigth)\n",
    "}\n",
    "fig(50,15)\n",
    "summ<-ggplot() + \n",
    "scale_x_continuous(name=\"x\") + \n",
    "scale_y_continuous(name=\"y\") +\n",
    "geom_rect(data=nb, mapping=aes(xmin=x1, xmax=x2, ymin=y1, ymax=y2, fill = c))+\n",
    "scale_fill_manual(values=c(\"pass\" = \"#A0A0A0\", \"fail\" = \"#d24649\")) + \n",
    "geom_text(data=nb, aes(x=x1+(x2-x1)/2, y=(y2+y1)/2, label=r), size=12)+\n",
    "geom_text(data=nb, aes(x=x1+(x2-x1)/2, y=(y2+y1)/2 - 0.05, label=nb_ci), size=10)+\n",
    "\n",
    "geom_rect(data=b, mapping=aes(xmin=x3, xmax=x4, ymin=y3, ymax=y4, fill = c2))+\n",
    "scale_fill_manual(values=c(\"pass\" = \"#A0A0A0\", \"fail\" = \"#d24649\")) + \n",
    "geom_text(data=b, aes(x=x3+(x4-x3)/2, y=(y4+y3)/2, label=r2), size=12)+\n",
    "geom_text(data=nb, aes(x=x3+(x4-x3)/2, y=(y4+y3)/2 - 0.05, label=b_ci), size=10)+\n",
    "\n",
    "geom_text(data=d, aes(x=x3+(x4-x3)/2, y=(y4+y1)/2, label=nb$Year), size=12) +\n",
    "geom_text(aes(x=c(1996,1996), y=c(0.75, 0.25), label=c('Basin', 'Not Basin')), size=12)\n",
    "\n",
    "ggsave(\"jan8_summary.eps\", plot = summ, width = 40.45,\n",
    "  height = 25,\n",
    "  units = \"in\")"
   ]
  },
  {
   "cell_type": "code",
   "execution_count": 33,
   "metadata": {
    "ExecuteTime": {
     "end_time": "2021-01-11T15:33:09.486681Z",
     "start_time": "2021-01-11T15:33:00.308Z"
    }
   },
   "outputs": [
    {
     "name": "stderr",
     "output_type": "stream",
     "text": [
      "`summarise()` ungrouping output (override with `.groups` argument)\n",
      "\n"
     ]
    },
    {
     "data": {
      "text/html": [
       "<table>\n",
       "<caption>A tibble: 23 × 2</caption>\n",
       "<thead>\n",
       "\t<tr><th scope=col>Year</th><th scope=col>mean_TP</th></tr>\n",
       "\t<tr><th scope=col>&lt;dbl&gt;</th><th scope=col>&lt;dbl&gt;</th></tr>\n",
       "</thead>\n",
       "<tbody>\n",
       "\t<tr><td>1997</td><td>0.09277213</td></tr>\n",
       "\t<tr><td>1998</td><td>0.07358245</td></tr>\n",
       "\t<tr><td>1999</td><td>0.07843917</td></tr>\n",
       "\t<tr><td>2000</td><td>0.08304775</td></tr>\n",
       "\t<tr><td>2001</td><td>0.08252811</td></tr>\n",
       "\t<tr><td>2002</td><td>0.07420688</td></tr>\n",
       "\t<tr><td>2003</td><td>0.06222927</td></tr>\n",
       "\t<tr><td>2004</td><td>0.07185334</td></tr>\n",
       "\t<tr><td>2005</td><td>0.06479807</td></tr>\n",
       "\t<tr><td>2006</td><td>0.04884772</td></tr>\n",
       "\t<tr><td>2007</td><td>0.06749434</td></tr>\n",
       "\t<tr><td>2008</td><td>0.06518788</td></tr>\n",
       "\t<tr><td>2009</td><td>0.05967393</td></tr>\n",
       "\t<tr><td>2010</td><td>0.06327630</td></tr>\n",
       "\t<tr><td>2011</td><td>0.06268818</td></tr>\n",
       "\t<tr><td>2012</td><td>0.05983694</td></tr>\n",
       "\t<tr><td>2013</td><td>0.05272094</td></tr>\n",
       "\t<tr><td>2014</td><td>0.05751639</td></tr>\n",
       "\t<tr><td>2015</td><td>0.05227433</td></tr>\n",
       "\t<tr><td>2016</td><td>0.04929789</td></tr>\n",
       "\t<tr><td>2017</td><td>0.06381923</td></tr>\n",
       "\t<tr><td>2018</td><td>0.04242335</td></tr>\n",
       "\t<tr><td>2019</td><td>0.05996880</td></tr>\n",
       "</tbody>\n",
       "</table>\n"
      ],
      "text/latex": [
       "A tibble: 23 × 2\n",
       "\\begin{tabular}{ll}\n",
       " Year & mean\\_TP\\\\\n",
       " <dbl> & <dbl>\\\\\n",
       "\\hline\n",
       "\t 1997 & 0.09277213\\\\\n",
       "\t 1998 & 0.07358245\\\\\n",
       "\t 1999 & 0.07843917\\\\\n",
       "\t 2000 & 0.08304775\\\\\n",
       "\t 2001 & 0.08252811\\\\\n",
       "\t 2002 & 0.07420688\\\\\n",
       "\t 2003 & 0.06222927\\\\\n",
       "\t 2004 & 0.07185334\\\\\n",
       "\t 2005 & 0.06479807\\\\\n",
       "\t 2006 & 0.04884772\\\\\n",
       "\t 2007 & 0.06749434\\\\\n",
       "\t 2008 & 0.06518788\\\\\n",
       "\t 2009 & 0.05967393\\\\\n",
       "\t 2010 & 0.06327630\\\\\n",
       "\t 2011 & 0.06268818\\\\\n",
       "\t 2012 & 0.05983694\\\\\n",
       "\t 2013 & 0.05272094\\\\\n",
       "\t 2014 & 0.05751639\\\\\n",
       "\t 2015 & 0.05227433\\\\\n",
       "\t 2016 & 0.04929789\\\\\n",
       "\t 2017 & 0.06381923\\\\\n",
       "\t 2018 & 0.04242335\\\\\n",
       "\t 2019 & 0.05996880\\\\\n",
       "\\end{tabular}\n"
      ],
      "text/markdown": [
       "\n",
       "A tibble: 23 × 2\n",
       "\n",
       "| Year &lt;dbl&gt; | mean_TP &lt;dbl&gt; |\n",
       "|---|---|\n",
       "| 1997 | 0.09277213 |\n",
       "| 1998 | 0.07358245 |\n",
       "| 1999 | 0.07843917 |\n",
       "| 2000 | 0.08304775 |\n",
       "| 2001 | 0.08252811 |\n",
       "| 2002 | 0.07420688 |\n",
       "| 2003 | 0.06222927 |\n",
       "| 2004 | 0.07185334 |\n",
       "| 2005 | 0.06479807 |\n",
       "| 2006 | 0.04884772 |\n",
       "| 2007 | 0.06749434 |\n",
       "| 2008 | 0.06518788 |\n",
       "| 2009 | 0.05967393 |\n",
       "| 2010 | 0.06327630 |\n",
       "| 2011 | 0.06268818 |\n",
       "| 2012 | 0.05983694 |\n",
       "| 2013 | 0.05272094 |\n",
       "| 2014 | 0.05751639 |\n",
       "| 2015 | 0.05227433 |\n",
       "| 2016 | 0.04929789 |\n",
       "| 2017 | 0.06381923 |\n",
       "| 2018 | 0.04242335 |\n",
       "| 2019 | 0.05996880 |\n",
       "\n"
      ],
      "text/plain": [
       "   Year mean_TP   \n",
       "1  1997 0.09277213\n",
       "2  1998 0.07358245\n",
       "3  1999 0.07843917\n",
       "4  2000 0.08304775\n",
       "5  2001 0.08252811\n",
       "6  2002 0.07420688\n",
       "7  2003 0.06222927\n",
       "8  2004 0.07185334\n",
       "9  2005 0.06479807\n",
       "10 2006 0.04884772\n",
       "11 2007 0.06749434\n",
       "12 2008 0.06518788\n",
       "13 2009 0.05967393\n",
       "14 2010 0.06327630\n",
       "15 2011 0.06268818\n",
       "16 2012 0.05983694\n",
       "17 2013 0.05272094\n",
       "18 2014 0.05751639\n",
       "19 2015 0.05227433\n",
       "20 2016 0.04929789\n",
       "21 2017 0.06381923\n",
       "22 2018 0.04242335\n",
       "23 2019 0.05996880"
      ]
     },
     "metadata": {},
     "output_type": "display_data"
    }
   ],
   "source": [
    "vmm_edit <- vmm[complete.cases(vmm$TP), ]\n",
    "vmm_edit %>%\n",
    "    group_by(Year) %>%\n",
    "    summarise(mean_TP = mean(TP, na.rm = TRUE))\n",
    "              #CI(TP, ci=0.995)) %>%"
   ]
  },
  {
   "cell_type": "code",
   "execution_count": 34,
   "metadata": {
    "ExecuteTime": {
     "end_time": "2021-01-11T15:33:09.538541Z",
     "start_time": "2021-01-11T15:33:00.312Z"
    },
    "scrolled": true
   },
   "outputs": [
    {
     "data": {
      "text/html": [
       "26.5167858989034"
      ],
      "text/latex": [
       "26.5167858989034"
      ],
      "text/markdown": [
       "26.5167858989034"
      ],
      "text/plain": [
       "[1] 26.51679"
      ]
     },
     "metadata": {},
     "output_type": "display_data"
    }
   ],
   "source": [
    "vmm$ratio <- vmm$TN / vmm$TP\n",
    "mean(vmm$ratio, na.rm = TRUE)"
   ]
  },
  {
   "cell_type": "code",
   "execution_count": 116,
   "metadata": {
    "ExecuteTime": {
     "end_time": "2021-01-11T15:46:41.132419Z",
     "start_time": "2021-01-11T15:46:41.093Z"
    }
   },
   "outputs": [],
   "source": [
    "fns <- function(series) {\n",
    "    print(summary(series[vmm$basin1 == 0]))\n",
    "    print(length(series[vmm$basin1 == 0])-summary(series[vmm$basin1 == 0])[7][1])\n",
    "    print(summary(series[vmm$basin1 == 1]))\n",
    "    print(length(series[vmm$basin1 == 1])-summary(series[vmm$basin1 == 1])[7][1])\n",
    "}\n"
   ]
  },
  {
   "cell_type": "code",
   "execution_count": 117,
   "metadata": {
    "ExecuteTime": {
     "end_time": "2021-01-11T15:46:41.402824Z",
     "start_time": "2021-01-11T15:46:41.342Z"
    }
   },
   "outputs": [
    {
     "name": "stdout",
     "output_type": "stream",
     "text": [
      "   Min. 1st Qu.  Median    Mean 3rd Qu.    Max.    NA's \n",
      "0.01239 0.04086 0.05751 0.06383 0.07891 0.35620      45 \n",
      "NA's \n",
      " 756 \n",
      "   Min. 1st Qu.  Median    Mean 3rd Qu.    Max.    NA's \n",
      "0.02920 0.05135 0.06954 0.07045 0.08650 0.13385       6 \n",
      "NA's \n",
      " 148 \n"
     ]
    }
   ],
   "source": [
    "fns(vmm$TP)"
   ]
  },
  {
   "cell_type": "code",
   "execution_count": 118,
   "metadata": {
    "ExecuteTime": {
     "end_time": "2021-01-11T15:46:41.598599Z",
     "start_time": "2021-01-11T15:46:41.558Z"
    }
   },
   "outputs": [
    {
     "name": "stdout",
     "output_type": "stream",
     "text": [
      "   Min. 1st Qu.  Median    Mean 3rd Qu.    Max.    NA's \n",
      " 0.1031  0.9203  1.1206  1.4526  1.4944  9.6448      42 \n",
      "NA's \n",
      " 759 \n",
      "   Min. 1st Qu.  Median    Mean 3rd Qu.    Max.    NA's \n",
      " 0.3322  0.9765  1.1267  1.1678  1.3500  2.0200       8 \n",
      "NA's \n",
      " 146 \n"
     ]
    }
   ],
   "source": [
    "fns(vmm$TN)"
   ]
  },
  {
   "cell_type": "code",
   "execution_count": 119,
   "metadata": {
    "ExecuteTime": {
     "end_time": "2021-01-11T15:46:41.852848Z",
     "start_time": "2021-01-11T15:46:41.811Z"
    }
   },
   "outputs": [
    {
     "name": "stdout",
     "output_type": "stream",
     "text": [
      "   Min. 1st Qu.  Median    Mean 3rd Qu.    Max.    NA's \n",
      "0.00051 0.01048 0.01741 0.02068 0.02784 0.09940      38 \n",
      "NA's \n",
      " 763 \n",
      "   Min. 1st Qu.  Median    Mean 3rd Qu.    Max.    NA's \n",
      "0.00070 0.01145 0.02033 0.02187 0.03110 0.06839       6 \n",
      "NA's \n",
      " 148 \n"
     ]
    }
   ],
   "source": [
    "fns(vmm$OP)"
   ]
  },
  {
   "cell_type": "code",
   "execution_count": 120,
   "metadata": {
    "ExecuteTime": {
     "end_time": "2021-01-11T15:46:42.227393Z",
     "start_time": "2021-01-11T15:46:42.179Z"
    }
   },
   "outputs": [
    {
     "name": "stdout",
     "output_type": "stream",
     "text": [
      "   Min. 1st Qu.  Median    Mean 3rd Qu.    Max.    NA's \n",
      "0.00158 0.37400 0.63452 0.87477 0.95668 8.09404      28 \n",
      "NA's \n",
      " 773 \n",
      "   Min. 1st Qu.  Median    Mean 3rd Qu.    Max.    NA's \n",
      "0.00035 0.35130 0.56008 0.53862 0.74484 1.32000       4 \n",
      "NA's \n",
      " 150 \n"
     ]
    }
   ],
   "source": [
    "fns(vmm$NN)"
   ]
  },
  {
   "cell_type": "code",
   "execution_count": 39,
   "metadata": {
    "ExecuteTime": {
     "end_time": "2021-01-11T15:33:11.500318Z",
     "start_time": "2021-01-11T15:33:00.329Z"
    }
   },
   "outputs": [
    {
     "name": "stderr",
     "output_type": "stream",
     "text": [
      "Saving 6.67 x 6.67 in image\n",
      "\n"
     ]
    },
    {
     "data": {
      "image/png": "[encoded data removed]",
      "text/plain": [
       "plot without title"
      ]
     },
     "metadata": {
      "image/png": {
       "height": 900,
       "width": 3000
      }
     },
     "output_type": "display_data"
    }
   ],
   "source": [
    "vmm$basin1 <- as.factor(vmm$basin1)\n",
    "p1<- ggplot(vmm, aes(x=basin1, y=TP,color=basin1)) + \n",
    "  geom_boxplot(notch = TRUE) + ylab('Total Phosphorus mg/L') +\n",
    "  scale_color_manual(values=c(\"#211c91\", \"#c30700\")) +\n",
    "  theme(legend.position = \"none\")\n",
    "p2<- ggplot(vmm, aes(x=basin1, y=OP,color=basin1)) + \n",
    "  geom_boxplot(notch = TRUE)+ ylab('Orthophosphate mg/L')+\n",
    "  scale_color_manual(values=c(\"#211c91\", \"#c30700\")) +\n",
    "  theme(legend.position = \"none\")\n",
    "p3<- ggplot(vmm, aes(x=basin1, y=TN,color=basin1)) + \n",
    "  geom_boxplot(notch = TRUE)+ ylab('Total Nitrogen mg/L') + \n",
    "  scale_color_manual(values=c(\"#211c91\", \"#c30700\")) +\n",
    "  theme(legend.position = \"none\")\n",
    "p4<- ggplot(vmm, aes(x=basin1, y=NN,color=basin1)) + \n",
    "  geom_boxplot(notch = TRUE) + ylab('Nitrate-Nitrite mg/L') +\n",
    "  scale_color_manual(values=c(\"#211c91\", \"#c30700\")) +\n",
    "  theme(legend.position = c(0.85, .8))\n",
    "\n",
    "p5<- grid.arrange(p1, p2, p3,p4, nrow = 2)\n",
    "ggsave(\"jan7_box.eps\", plot = p5)"
   ]
  },
  {
   "cell_type": "markdown",
   "metadata": {},
   "source": [
    "# Multiple Regression\n",
    "Average daily air temperature: https://climexp.knmi.nl/data/vgdcnUSW00014739.dat  \n",
    "Daily precipitation: https://climexp.knmi.nl/data/pgdcnUSW00014739.dat  "
   ]
  },
  {
   "cell_type": "code",
   "execution_count": 40,
   "metadata": {
    "ExecuteTime": {
     "end_time": "2021-01-11T15:33:13.117265Z",
     "start_time": "2021-01-11T15:33:00.340Z"
    }
   },
   "outputs": [
    {
     "data": {
      "image/png": "[encoded data removed]",
      "text/plain": [
       "plot without title"
      ]
     },
     "metadata": {
      "image/png": {
       "height": 900,
       "width": 3000
      }
     },
     "output_type": "display_data"
    }
   ],
   "source": [
    "pairs.panels(data.frame(vmm$CA, vmm$TP, vmm$OP, vmm$TN, vmm$NN), \n",
    "             method = \"pearson\",\n",
    "             hist.col = \"#00AFBB\",\n",
    "             density = FALSE, \n",
    "             smooth = FALSE, \n",
    "             ellipses = FALSE,\n",
    "             rug = FALSE,\n",
    "             lm = TRUE,\n",
    "             ci = TRUE, \n",
    "             alpha = 0.005\n",
    "             )\n"
   ]
  },
  {
   "cell_type": "code",
   "execution_count": 41,
   "metadata": {
    "ExecuteTime": {
     "end_time": "2021-01-11T15:33:13.155165Z",
     "start_time": "2021-01-11T15:33:00.343Z"
    }
   },
   "outputs": [],
   "source": [
    "#take the sample collection dates and sample values.\n",
    "# for each date range find the average of the comparison quantity (precip, temp)\n",
    "#target dates = sample collection dates\n",
    "#long dates = dates of the comparison thing -- precip/ temp\n",
    "#long data to match -- the comparison precip/ temp values\n",
    "#corr comparer - value of the sample collected\n",
    "\n",
    "range_means <- function(target_dates, long_dates, long_data_to_match, corr_comparer) {\n",
    "    #length of samples array\n",
    "    b_count <- seq(1,length(target_dates))\n",
    "    \n",
    "    #dayrange to compare over\n",
    "    range <- seq(1,90)  \n",
    "    \n",
    "    #empty dataframe to store the range means \n",
    "    #length = number of samples\n",
    "    #columns = 90; there are 90 range comparisons 1,2,3,4,5,6...,88,89,89\n",
    "    means <- data.frame(matrix(NA, nrow = length(target_dates), ncol =90))\n",
    "    \n",
    "    #for each value in the sample array\n",
    "    for (b in b_count) { \n",
    "        #what is the date of the sample?\n",
    "        target_date <- target_dates[b] \n",
    "        \n",
    "        #where is the matching date on the comparison array?\n",
    "        wea_row <- match(target_date,long_dates) \n",
    "        \n",
    "        #for each day range; compare that many days back and find the mean\n",
    "        #store the mean in the means dataframe\n",
    "        for (r in range){\n",
    "            rows <- seq.int(from = wea_row-r,to = wea_row) \n",
    "            val <-  mean(long_data_to_match[rows])\n",
    "            means[b,r]<- val\n",
    "             }   \n",
    "        }\n",
    "    \n",
    "    corr = vector()\n",
    "    for (r in range){\n",
    "        corr[r] = abs(cor(corr_comparer, pull(means, r),use = \"complete.obs\"))\n",
    "        }\n",
    "    #print(corr)\n",
    "    target_col = which(corr==max(corr))\n",
    "    #print(target_col)\n",
    "    \n",
    "    return(means[,target_col])   \n",
    "}"
   ]
  },
  {
   "cell_type": "markdown",
   "metadata": {},
   "source": [
    "### In what day range is average precipitation most strongly correlated with chl-*a*?"
   ]
  },
  {
   "cell_type": "code",
   "execution_count": 42,
   "metadata": {
    "ExecuteTime": {
     "end_time": "2021-01-11T15:33:16.976946Z",
     "start_time": "2021-01-11T15:33:00.356Z"
    },
    "scrolled": true
   },
   "outputs": [],
   "source": [
    "vmm$prcp73 <- range_means(vmm$DATE,wea$DateVal,wea$PRCPmm, vmm$CA)"
   ]
  },
  {
   "cell_type": "markdown",
   "metadata": {},
   "source": [
    "### In what range is air temperature most strongly correlated with chl-*a*?"
   ]
  },
  {
   "cell_type": "code",
   "execution_count": 43,
   "metadata": {
    "ExecuteTime": {
     "end_time": "2021-01-11T15:33:21.177718Z",
     "start_time": "2021-01-11T15:33:00.368Z"
    },
    "scrolled": true
   },
   "outputs": [],
   "source": [
    "vmm$tave57 <- range_means(vmm$DATE,wea$DateVal,wea$TAVEC_center, vmm$CA)"
   ]
  },
  {
   "cell_type": "markdown",
   "metadata": {},
   "source": [
    "## Using daily air temperature and known water temperature to predict unknown water temperatures\n",
    "\n",
    "Data sources:   \n",
    "Daily average air temperature: https://climexp.knmi.nl/data/vgdcnUSW00014739.dat  \n",
    "Water temperature: https://www.epa.gov/charlesriver/live-water-quality-data-lower-charles-river#LiveDataStream"
   ]
  },
  {
   "cell_type": "code",
   "execution_count": 44,
   "metadata": {
    "ExecuteTime": {
     "end_time": "2021-01-11T15:33:24.261474Z",
     "start_time": "2021-01-11T15:33:00.378Z"
    }
   },
   "outputs": [],
   "source": [
    "at7 <- range_means(buoy_dailymean$date,wea$DateVal,wea$TAVEC, buoy_dailymean$tempc)\n",
    "buoy_dailymean$airtemp_7day <- at7\n",
    "linearMod <- lm(tempc ~ airtemp_7day, data=buoy_dailymean) "
   ]
  },
  {
   "cell_type": "code",
   "execution_count": 45,
   "metadata": {
    "ExecuteTime": {
     "end_time": "2021-01-11T15:33:24.436006Z",
     "start_time": "2021-01-11T15:33:00.383Z"
    },
    "scrolled": true
   },
   "outputs": [],
   "source": [
    "vmm$airtemp_7day <- NA\n",
    "b_count <- seq(1,955)\n",
    "r = 7 \n",
    "\n",
    "for (b in b_count) { \n",
    "    target_date <- vmm$DATE[b] \n",
    "    wea_row <- match(target_date,wea$DateVal) \n",
    "    rows <- seq.int(from = wea_row-r,to = wea_row) \n",
    "    val <-  mean(wea$TAVEC[rows])\n",
    "    vmm$airtemp_7day[b]<- val\n",
    "    }   \n",
    "\n",
    "vmm$pred_watertemp<- predict(linearMod, vmm)\n",
    "vmm$pred_watertemp_center <- vmm$pred_watertemp−mean(vmm$pred_watertemp)"
   ]
  },
  {
   "cell_type": "markdown",
   "metadata": {},
   "source": [
    "## Formulas"
   ]
  },
  {
   "cell_type": "code",
   "execution_count": 46,
   "metadata": {
    "ExecuteTime": {
     "end_time": "2021-01-11T15:33:27.915622Z",
     "start_time": "2021-01-11T15:33:00.392Z"
    }
   },
   "outputs": [
    {
     "data": {
      "image/png": "[encoded data removed]",
      "text/plain": [
       "plot without title"
      ]
     },
     "metadata": {
      "image/png": {
       "height": 900,
       "width": 3000
      }
     },
     "output_type": "display_data"
    }
   ],
   "source": [
    "pairs.panels(data.frame(vmm$CA, vmm$pred_watertemp, vmm$TP, vmm$OP,vmm$TN,vmm$NN, vmm$basin1, vmm$prcp73), \n",
    "             method = \"pearson\",\n",
    "             hist.col = \"#00AFBB\",\n",
    "             density = FALSE, \n",
    "             smooth = FALSE, \n",
    "             ellipses = FALSE,\n",
    "             rug = FALSE,\n",
    "             lm = TRUE,\n",
    "             ci = TRUE, \n",
    "             alpha = 0.005\n",
    "             )"
   ]
  },
  {
   "cell_type": "code",
   "execution_count": 47,
   "metadata": {
    "ExecuteTime": {
     "end_time": "2021-01-11T15:33:27.947538Z",
     "start_time": "2021-01-11T15:33:00.395Z"
    }
   },
   "outputs": [],
   "source": [
    "formulas <- c('CA ~ -1 + pred_watertemp', \n",
    "              'CA ~ -1 + TP',\n",
    "              'CA ~ -1 + basin1', \n",
    "              'CA ~ -1 + prcp73',\n",
    "              'CA ~ -1 + pred_watertemp + TP', \n",
    "              'CA ~ -1 + pred_watertemp + basin1', \n",
    "              'CA ~ -1 + pred_watertemp+ prcp73',\n",
    "              'CA ~ -1 + TP + basin1', \n",
    "              'CA ~ -1 + TP + prcp73',\n",
    "              'CA ~ -1 + basin1 + prcp73',\n",
    "              'CA ~ -1 + pred_watertemp + TP + basin1', \n",
    "              'CA ~ -1 + pred_watertemp + TP + prcp73', \n",
    "              'CA ~ -1 + prcp73 + TP + basin1', \n",
    "              'CA ~ -1 + prcp73 + pred_watertemp + basin1', \n",
    "              'CA ~ -1 + pred_watertemp + TP + basin1 + prcp73',\n",
    "             \n",
    "              'CA ~ 1 + pred_watertemp', \n",
    "              'CA ~ 1 + TP',\n",
    "              'CA ~ 1 + basin1', \n",
    "              'CA ~ 1 + prcp73',\n",
    "              'CA ~ 1 + pred_watertemp + TP', \n",
    "              'CA ~ 1 + pred_watertemp + basin1', \n",
    "              'CA ~ 1 + pred_watertemp + prcp73',\n",
    "              'CA ~ 1 + TP + basin1', \n",
    "              'CA ~ 1 + TP + prcp73',\n",
    "              'CA ~ 1 + basin1 + prcp73',\n",
    "              'CA ~ 1 + pred_watertemp + TP + basin1', \n",
    "              'CA ~ 1 + pred_watertemp + TP + prcp73', \n",
    "              'CA ~ 1 + prcp73 + TP+ basin1', \n",
    "              'CA ~ 1 + prcp73 + pred_watertemp + basin1', \n",
    "              'CA ~ 1 + pred_watertemp + TP + basin1 + prcp73'\n",
    "              \n",
    "            )\n",
    "             "
   ]
  },
  {
   "cell_type": "code",
   "execution_count": 48,
   "metadata": {
    "ExecuteTime": {
     "end_time": "2021-01-11T15:33:27.989425Z",
     "start_time": "2021-01-11T15:33:00.399Z"
    }
   },
   "outputs": [],
   "source": [
    "myfunction <- function(tau){\n",
    "    i = 1;\n",
    "    ac<- c();\n",
    "    for (f in formulas){\n",
    "     mdl <- rq(f, tau = tau, alpha = 0.005, data = vmm)\n",
    "     ac[i] <- AICc(mdl)\n",
    "     i=i+1;\n",
    "    }\n",
    "    i_aicc = match(min(ac),ac)\n",
    "    print(ac)\n",
    "    if (ac[30]<= ac[i_aicc]+2) {\n",
    "        return(formulas[30])\n",
    "     } else {\n",
    "        return(formulas[i_aicc])\n",
    "       }\n",
    "}"
   ]
  },
  {
   "cell_type": "code",
   "execution_count": 49,
   "metadata": {
    "ExecuteTime": {
     "end_time": "2021-01-11T15:33:28.027321Z",
     "start_time": "2021-01-11T15:33:00.402Z"
    }
   },
   "outputs": [],
   "source": [
    "myplots <- function(x){\n",
    "     data = vmm_model\n",
    "     #x = quantile\n",
    "     res <- c('')\n",
    "     df <- data.frame(x, res, stringsAsFactors=FALSE)\n",
    "         \n",
    "     #find the best variables\n",
    "     df[1,2] <-myfunction(x) \n",
    "     print(df[1,2])\n",
    "     \n",
    "     # make the model with the best variables and the quantile selected\n",
    "     mdl <- rq(df[1,2], tau = x, alpha = 0.005, data = data)\n",
    "     #https://jtools.jacob-long.com/reference/summ.rq.html\n",
    "     s<- summ(mdl, confint= TRUE, ci.width = 0.995,digits = 6)\n",
    "     print(s)\n",
    "    \n",
    "     #find data that fall within +/- 0.03 of the quantile\n",
    "     minval = quantile(data$CA, probs = c(x-0.03))\n",
    "     maxval = quantile(data$CA, probs = c(x+0.03))\n",
    "     lgc = (data$CA>=minval) & (data$CA<=maxval)\n",
    "   \n",
    "     df1 = data[lgc,]\n",
    "    \n",
    "     pred<- predict(mdl, df1, type = \"confidence\", interval = \"confidence\", level = .995) \n",
    "     pred <- cbind(pred, c(seq(1,dim(pred)[1])))  \n",
    "     pred<-cbind(pred, df1$CA)\n",
    "   \n",
    "     colnames(pred, do.NULL = TRUE, prefix = \"col\")\n",
    "     colnames(pred) <- c('fit', 'lower', 'higher', 'index', 'measured')\n",
    "     pred <- as.data.frame(pred)\n",
    "     lgc<- (pred$measured>= pred$lower) & (pred$measured<= pred$higher)\n",
    "     \n",
    "     #print(pred)\n",
    "    \n",
    "     pred_ok <- pred[lgc,]\n",
    "     print('Proportion of Values in Predicted Range')\n",
    "     print(nrow(pred_ok)/nrow(pred))\n",
    "    \n",
    "     plot<- ggplot() +\n",
    "      geom_point(data=pred, aes(x=index, y=measured), color='black') + \n",
    "      geom_point(data=pred_ok, aes(x=index, y=measured), color='black') +\n",
    "      geom_linerange(data = pred, aes(x= index, y= fit, ymin = lower, ymax = higher), color = 'red') +\n",
    "      geom_linerange(data = pred_ok, aes(x= index, y= fit, ymin = lower, ymax = higher), color = 'black') +\n",
    "      ggtitle(x , \"+/- 0.03\") + \n",
    "      theme_classic()\n",
    "      \n",
    "     ### Plot with dates as hover text \n",
    "     #fig4 <- plot_ly(type = 'scatter', mode = 'markers',width = 750, height = 750)\n",
    "     #plot_1 <- fig4 %>%\n",
    "     #   add_trace(\n",
    "     #       x = pred$index,\n",
    "     #       y = pred$measured,\n",
    "     #       text = df1$DATE,\n",
    "     #       hoverinfo = text ,\n",
    "     #       marker = list(\n",
    "     #           color = 'rgba(33, 28, 145,0.8)',\n",
    "     #           size = 9,\n",
    "     #           line = list(\n",
    "     #               color = 'rgb(255, 255, 255)',\n",
    "     #               width = 0.5\n",
    "     #               )\n",
    "     #       ),\n",
    "     #     showlegend = F\n",
    "     #     ) \n",
    "     return(plot)\n",
    "     }\n"
   ]
  },
  {
   "cell_type": "code",
   "execution_count": 50,
   "metadata": {
    "ExecuteTime": {
     "end_time": "2021-01-11T15:33:28.073232Z",
     "start_time": "2021-01-11T15:33:00.406Z"
    }
   },
   "outputs": [],
   "source": [
    "vmm_model = data.frame(vmm$CA, vmm$pred_watertemp, vmm$TP, vmm$basin1, vmm$prcp73)\n",
    "colnames(vmm_model) <- c('CA', 'pred_watertemp', 'TP', 'basin1', 'prcp73')\n",
    "vmm_model<- vmm_model[complete.cases(vmm_model), ]"
   ]
  },
  {
   "cell_type": "code",
   "execution_count": 51,
   "metadata": {
    "ExecuteTime": {
     "end_time": "2021-01-11T15:33:28.309619Z",
     "start_time": "2021-01-11T15:33:00.409Z"
    },
    "scrolled": true
   },
   "outputs": [
    {
     "name": "stdout",
     "output_type": "stream",
     "text": [
      " [1] 6229.911 5886.472 6223.764 6315.345 5858.663 6189.836 6227.125 5869.626\n",
      " [9] 5888.175 6186.338 5846.536 5855.832 5827.958 6153.712 5805.003 6201.644\n",
      "[17] 5876.113 6223.764 6196.199 5857.630 6189.836 6168.051 5869.626 5835.855\n",
      "[25] 6186.338 5846.536 5818.675 5827.958 6153.712 5805.003\n",
      "[1] \"CA ~ 1 + pred_watertemp + TP + basin1 + prcp73\"\n",
      "\u001b[4mMODEL INFO:\u001b[24m\n",
      "\u001b[3mObservations:\u001b[23m 904\n",
      "\u001b[3mDependent Variable:\u001b[23m CA\n",
      "\u001b[3mType:\u001b[23m Quantile regression\n",
      "  \u001b[3mQuantile (tau): \u001b[23m0.25\n",
      "  \u001b[3mMethod: \u001b[23mBarrodale-Roberts \n",
      "\n",
      "\u001b[4mMODEL FIT:\u001b[24m\n",
      "\u001b[3mR¹\u001b[23m(0.25) = 0.052836 \n",
      "\n",
      "\u001b[3mStandard errors: Sandwich (Huber)\u001b[23m\n",
      "--------------------------------------------------------------------------------\n",
      "                            Est.        0.3%       99.8%       t val.          p\n",
      "-------------------- ----------- ----------- ----------- ------------ ----------\n",
      "(Intercept)             2.360296    1.589506    3.131085     8.616910   0.000000\n",
      "pred_watertemp          0.065320    0.033107    0.097532     5.706101   0.000000\n",
      "TP                      9.948800    1.766651   18.130949     3.421562   0.000651\n",
      "basin11                 1.010853    0.223099    1.798608     3.610924   0.000322\n",
      "prcp73                 -0.637790   -0.793134   -0.482447   -11.553283   0.000000\n",
      "--------------------------------------------------------------------------------\n",
      "[1] \"Proportion of Values in Predicted Range\"\n",
      "[1] 0.5090909\n"
     ]
    }
   ],
   "source": [
    "plt1<- myplots(0.25)"
   ]
  },
  {
   "cell_type": "code",
   "execution_count": 52,
   "metadata": {
    "ExecuteTime": {
     "end_time": "2021-01-11T15:33:28.641732Z",
     "start_time": "2021-01-11T15:33:00.413Z"
    },
    "scrolled": true
   },
   "outputs": [
    {
     "name": "stdout",
     "output_type": "stream",
     "text": [
      " [1] 6766.501 6440.185 6802.832 6953.764 6387.879 6723.837 6768.234 6405.872\n",
      " [9] 6434.435 6744.279 6355.450 6378.412 6344.000 6665.922 6299.451 6749.931\n",
      "[17] 6435.460 6802.832 6768.524 6387.440 6723.837 6690.540 6405.872 6369.905\n",
      "[25] 6744.279 6355.450 6330.240 6344.000 6665.922 6299.451\n",
      "[1] \"CA ~ 1 + pred_watertemp + TP + basin1 + prcp73\"\n",
      "\u001b[4mMODEL INFO:\u001b[24m\n",
      "\u001b[3mObservations:\u001b[23m 904\n",
      "\u001b[3mDependent Variable:\u001b[23m CA\n",
      "\u001b[3mType:\u001b[23m Quantile regression\n",
      "  \u001b[3mQuantile (tau): \u001b[23m0.5\n",
      "  \u001b[3mMethod: \u001b[23mBarrodale-Roberts \n",
      "\n",
      "\u001b[4mMODEL FIT:\u001b[24m\n",
      "\u001b[3mR¹\u001b[23m(0.5) = 0.092576 \n",
      "\n",
      "\u001b[3mStandard errors: Sandwich (Huber)\u001b[23m\n",
      "-------------------------------------------------------------------------------\n",
      "                            Est.        0.3%       99.8%      t val.          p\n",
      "-------------------- ----------- ----------- ----------- ----------- ----------\n",
      "(Intercept)             4.186927    2.344118    6.029736    6.393463   0.000000\n",
      "pred_watertemp          0.175051    0.104844    0.245258    7.016256   0.000000\n",
      "TP                      4.879210   -8.201781   17.960200    1.049615   0.294177\n",
      "basin11                 3.810963    0.482274    7.139651    3.221682   0.001320\n",
      "prcp73                 -1.041956   -1.464660   -0.619253   -6.936417   0.000000\n",
      "-------------------------------------------------------------------------------\n",
      "[1] \"Proportion of Values in Predicted Range\"\n",
      "[1] 0.3818182\n"
     ]
    }
   ],
   "source": [
    "plt2<- myplots(0.50)"
   ]
  },
  {
   "cell_type": "code",
   "execution_count": 53,
   "metadata": {
    "ExecuteTime": {
     "end_time": "2021-01-11T15:33:28.841198Z",
     "start_time": "2021-01-11T15:33:00.418Z"
    },
    "scrolled": true
   },
   "outputs": [
    {
     "name": "stdout",
     "output_type": "stream",
     "text": [
      " [1] 7589.180 7251.448 7680.085 7967.440 7165.748 7527.053 7588.362 7198.957\n",
      " [9] 7218.440 7553.832 7107.132 7126.110 7083.416 7420.781 7011.707 7583.443\n",
      "[17] 7253.442 7680.085 7612.762 7165.936 7527.053 7468.016 7198.957 7141.343\n",
      "[25] 7553.832 7107.132 7057.868 7083.416 7420.781 7011.707\n",
      "[1] \"CA ~ 1 + pred_watertemp + TP + basin1 + prcp73\"\n",
      "\u001b[4mMODEL INFO:\u001b[24m\n",
      "\u001b[3mObservations:\u001b[23m 904\n",
      "\u001b[3mDependent Variable:\u001b[23m CA\n",
      "\u001b[3mType:\u001b[23m Quantile regression\n",
      "  \u001b[3mQuantile (tau): \u001b[23m0.75\n",
      "  \u001b[3mMethod: \u001b[23mBarrodale-Roberts \n",
      "\n",
      "\u001b[4mMODEL FIT:\u001b[24m\n",
      "\u001b[3mR¹\u001b[23m(0.75) = 0.172166 \n",
      "\n",
      "\u001b[3mStandard errors: Sandwich (Huber)\u001b[23m\n",
      "--------------------------------------------------------------------------------\n",
      "                            Est.         0.3%       99.8%      t val.          p\n",
      "-------------------- ----------- ------------ ----------- ----------- ----------\n",
      "(Intercept)             9.581867     4.676894   14.486839    5.497114   0.000000\n",
      "pred_watertemp          0.409255     0.202941    0.615568    5.581963   0.000000\n",
      "TP                     18.251579   -35.444253   71.947412    0.956491   0.339081\n",
      "basin11                 7.483471     2.007588   12.959355    3.845653   0.000129\n",
      "prcp73                 -2.465443    -3.506543   -1.424343   -6.663826   0.000000\n",
      "--------------------------------------------------------------------------------\n",
      "[1] \"Proportion of Values in Predicted Range\"\n",
      "[1] 0.5254237\n"
     ]
    }
   ],
   "source": [
    "plt3<- myplots(0.75)"
   ]
  },
  {
   "cell_type": "code",
   "execution_count": 54,
   "metadata": {
    "ExecuteTime": {
     "end_time": "2021-01-11T15:33:28.913006Z",
     "start_time": "2021-01-11T15:33:00.421Z"
    }
   },
   "outputs": [
    {
     "name": "stdout",
     "output_type": "stream",
     "text": [
      "\u001b[4mMODEL INFO:\u001b[24m\n",
      "\u001b[3mObservations:\u001b[23m 955\n",
      "\u001b[3mDependent Variable:\u001b[23m CA\n",
      "\u001b[3mType:\u001b[23m Quantile regression\n",
      "  \u001b[3mQuantile (tau): \u001b[23m0.75\n",
      "  \u001b[3mMethod: \u001b[23mBarrodale-Roberts \n",
      "\n",
      "\u001b[4mMODEL FIT:\u001b[24m\n",
      "\u001b[3mR¹\u001b[23m(0.75) = 0.160111 \n",
      "\n",
      "\u001b[3mStandard errors: Sandwich (Huber)\u001b[23m\n",
      "-------------------------------------------------------------------------------\n",
      "                            Est.        0.3%       99.8%      t val.          p\n",
      "-------------------- ----------- ----------- ----------- ----------- ----------\n",
      "(Intercept)             9.589440    5.866609   13.312271    7.247401   0.000000\n",
      "pred_watertemp          0.456248    0.306438    0.606057    8.568867   0.000000\n",
      "basin11                 6.451531    0.713590   12.189472    3.163509   0.001608\n",
      "prcp73                 -2.327046   -3.071963   -1.582129   -8.789406   0.000000\n",
      "-------------------------------------------------------------------------------\n"
     ]
    }
   ],
   "source": [
    "mdl <- rq(\"CA ~ 1 + pred_watertemp + basin1 + prcp73\", tau = 0.75, alpha = 0.005, data = vmm)\n",
    "s<- summ(mdl, confint= TRUE, ci.width = 0.995,digits = 6)\n",
    "print(s)"
   ]
  },
  {
   "cell_type": "code",
   "execution_count": 55,
   "metadata": {
    "ExecuteTime": {
     "end_time": "2021-01-11T15:33:28.991796Z",
     "start_time": "2021-01-11T15:33:00.425Z"
    }
   },
   "outputs": [
    {
     "name": "stdout",
     "output_type": "stream",
     "text": [
      "\u001b[4mMODEL INFO:\u001b[24m\n",
      "\u001b[3mObservations:\u001b[23m 904 (51 missing obs. deleted)\n",
      "\u001b[3mDependent Variable:\u001b[23m CA\n",
      "\u001b[3mType:\u001b[23m Quantile regression\n",
      "  \u001b[3mQuantile (tau): \u001b[23m0.75\n",
      "  \u001b[3mMethod: \u001b[23mBarrodale-Roberts \n",
      "\n",
      "\u001b[4mMODEL FIT:\u001b[24m\n",
      "\u001b[3mR¹\u001b[23m(0.75) = 0.149807 \n",
      "\n",
      "\u001b[3mStandard errors: Sandwich (Huber)\u001b[23m\n",
      "--------------------------------------------------------------------------------\n",
      "                            Est.         0.3%       99.8%      t val.          p\n",
      "-------------------- ----------- ------------ ----------- ----------- ----------\n",
      "(Intercept)             9.781825     4.965695   14.597955    5.715334   0.000000\n",
      "pred_watertemp          0.458520     0.273014    0.644026    6.955356   0.000000\n",
      "TP                     28.743673   -35.660697   93.148042    1.255876   0.209487\n",
      "prcp73                 -2.565882    -3.493061   -1.638703   -7.787410   0.000000\n",
      "--------------------------------------------------------------------------------\n"
     ]
    }
   ],
   "source": [
    "mdl <- rq('CA ~ 1 + pred_watertemp + TP + prcp73', tau = 0.75, alpha = 0.005, data = vmm)\n",
    "s<- summ(mdl, confint= TRUE, ci.width = 0.995,digits = 6)\n",
    "print(s)"
   ]
  },
  {
   "cell_type": "code",
   "execution_count": 56,
   "metadata": {
    "ExecuteTime": {
     "end_time": "2021-01-11T15:33:29.166329Z",
     "start_time": "2021-01-11T15:33:00.428Z"
    }
   },
   "outputs": [
    {
     "name": "stdout",
     "output_type": "stream",
     "text": [
      " [1] 8909.538 8442.964 9198.637 9750.742 8348.424 8840.930 8903.133 8339.917\n",
      " [9] 8361.395 9053.425 8225.978 8233.855 8259.166 8748.285 8187.127 8905.770\n",
      "[17] 8419.882 9198.637 9127.222 8280.605 8840.930 8794.706 8339.917 8331.305\n",
      "[25] 9053.425 8225.978 8227.116 8259.166 8748.285 8187.127\n",
      "[1] \"CA ~ 1 + pred_watertemp + TP + basin1 + prcp73\"\n",
      "\u001b[4mMODEL INFO:\u001b[24m\n",
      "\u001b[3mObservations:\u001b[23m 904\n",
      "\u001b[3mDependent Variable:\u001b[23m CA\n",
      "\u001b[3mType:\u001b[23m Quantile regression\n",
      "  \u001b[3mQuantile (tau): \u001b[23m0.95\n",
      "  \u001b[3mMethod: \u001b[23mBarrodale-Roberts \n",
      "\n",
      "\u001b[4mMODEL FIT:\u001b[24m\n",
      "\u001b[3mR¹\u001b[23m(0.95) = 0.295290 \n",
      "\n",
      "\u001b[3mStandard errors: Sandwich (Huber)\u001b[23m\n",
      "----------------------------------------------------------------------------------\n",
      "                             Est.         0.3%        99.8%      t val.          p\n",
      "-------------------- ------------ ------------ ------------ ----------- ----------\n",
      "(Intercept)              3.706241    -7.669841    15.082322    0.916774   0.359507\n",
      "pred_watertemp           0.883685     0.409040     1.358330    5.239019   0.000000\n",
      "TP                     298.416079   111.745606   485.086552    4.498500   0.000008\n",
      "basin11                 10.768824     5.941682    15.595965    6.277683   0.000000\n",
      "prcp73                  -2.839123    -5.280864    -0.397383   -3.271944   0.001109\n",
      "----------------------------------------------------------------------------------\n",
      "[1] \"Proportion of Values in Predicted Range\"\n",
      "[1] 0.4545455\n"
     ]
    }
   ],
   "source": [
    "plt4<- myplots(0.95)"
   ]
  },
  {
   "cell_type": "code",
   "execution_count": 57,
   "metadata": {
    "ExecuteTime": {
     "end_time": "2021-01-11T15:33:29.240144Z",
     "start_time": "2021-01-11T15:33:00.431Z"
    }
   },
   "outputs": [
    {
     "name": "stdout",
     "output_type": "stream",
     "text": [
      "\u001b[4mMODEL INFO:\u001b[24m\n",
      "\u001b[3mObservations:\u001b[23m 955\n",
      "\u001b[3mDependent Variable:\u001b[23m CA\n",
      "\u001b[3mType:\u001b[23m Quantile regression\n",
      "  \u001b[3mQuantile (tau): \u001b[23m0.75\n",
      "  \u001b[3mMethod: \u001b[23mBarrodale-Roberts \n",
      "\n",
      "\u001b[4mMODEL FIT:\u001b[24m\n",
      "\u001b[3mR¹\u001b[23m(0.75) = 0.160111 \n",
      "\n",
      "\u001b[3mStandard errors: Sandwich (Huber)\u001b[23m\n",
      "-------------------------------------------------------------------------------\n",
      "                            Est.        0.3%       99.8%      t val.          p\n",
      "-------------------- ----------- ----------- ----------- ----------- ----------\n",
      "pred_watertemp          0.456248    0.306438    0.606057    8.568867   0.000000\n",
      "basin10                 9.589440    5.866609   13.312271    7.247401   0.000000\n",
      "basin11                16.040971    9.491432   22.590510    6.891001   0.000000\n",
      "prcp73                 -2.327046   -3.071963   -1.582129   -8.789406   0.000000\n",
      "-------------------------------------------------------------------------------\n"
     ]
    }
   ],
   "source": [
    "mdl <- rq(\"CA ~ -1 + pred_watertemp + basin1 + prcp73\", tau = 0.75, alpha = 0.005, data = vmm)\n",
    "s<- summ(mdl, confint= TRUE, ci.width = 0.995,digits = 6)\n",
    "print(s)"
   ]
  },
  {
   "cell_type": "code",
   "execution_count": 58,
   "metadata": {
    "ExecuteTime": {
     "end_time": "2021-01-11T15:33:31.694771Z",
     "start_time": "2021-01-11T15:33:00.435Z"
    }
   },
   "outputs": [
    {
     "data": {
      "image/png": "[encoded data removed]",
      "text/plain": [
       "Plot with title \"prcp73\""
      ]
     },
     "metadata": {
      "image/png": {
       "height": 900,
       "width": 3000
      }
     },
     "output_type": "display_data"
    }
   ],
   "source": [
    "eq = 'CA ~ pred_watertemp + TP + basin1 + prcp73'\n",
    "t = seq(0.02, 0.98, by=0.01)\n",
    "mdl <- rq(eq, tau = t, alpha = 0.005, data = vmm)\n",
    "plot(summary(mdl))"
   ]
  },
  {
   "cell_type": "code",
   "execution_count": 59,
   "metadata": {
    "ExecuteTime": {
     "end_time": "2021-01-11T15:33:33.520892Z",
     "start_time": "2021-01-11T15:33:00.440Z"
    }
   },
   "outputs": [
    {
     "data": {
      "text/html": [
       "<strong>png:</strong> 2"
      ],
      "text/latex": [
       "\\textbf{png:} 2"
      ],
      "text/markdown": [
       "**png:** 2"
      ],
      "text/plain": [
       "png \n",
       "  2 "
      ]
     },
     "metadata": {},
     "output_type": "display_data"
    }
   ],
   "source": [
    "setEPS()\n",
    "postscript(\"modelcoeff_oct18.eps\")\n",
    "plot(summary(mdl))\n",
    "dev.off()"
   ]
  },
  {
   "cell_type": "code",
   "execution_count": 60,
   "metadata": {
    "ExecuteTime": {
     "end_time": "2021-01-11T15:33:34.127268Z",
     "start_time": "2021-01-11T15:33:00.445Z"
    }
   },
   "outputs": [
    {
     "data": {
      "text/html": [
       "<strong>png:</strong> 2"
      ],
      "text/latex": [
       "\\textbf{png:} 2"
      ],
      "text/markdown": [
       "**png:** 2"
      ],
      "text/plain": [
       "png \n",
       "  2 "
      ]
     },
     "metadata": {},
     "output_type": "display_data"
    }
   ],
   "source": [
    "\n",
    "setEPS()\n",
    "postscript(\"Fig3_Nov12.eps\")\n",
    "grid.arrange(plt1, plt2, plt3, plt4, nrow = 2)\n",
    "dev.off()"
   ]
  },
  {
   "cell_type": "code",
   "execution_count": 61,
   "metadata": {
    "ExecuteTime": {
     "end_time": "2021-01-11T15:33:34.193093Z",
     "start_time": "2021-01-11T15:33:00.448Z"
    }
   },
   "outputs": [
    {
     "data": {
      "text/html": [
       "<table>\n",
       "<caption>A matrix: 5 × 2 of type dbl</caption>\n",
       "<thead>\n",
       "\t<tr><th></th><th scope=col>2.5 %</th><th scope=col>97.5 %</th></tr>\n",
       "</thead>\n",
       "<tbody>\n",
       "\t<tr><th scope=row>(Intercept)</th><td> 4.1944758</td><td>10.1278661</td></tr>\n",
       "\t<tr><th scope=row>pred_watertemp</th><td> 0.2735787</td><td> 0.4896836</td></tr>\n",
       "\t<tr><th scope=row>TP</th><td>32.8058540</td><td>84.0252061</td></tr>\n",
       "\t<tr><th scope=row>basin11</th><td> 4.4120792</td><td> 8.6179638</td></tr>\n",
       "\t<tr><th scope=row>prcp73</th><td>-3.7245001</td><td>-2.2927305</td></tr>\n",
       "</tbody>\n",
       "</table>\n"
      ],
      "text/latex": [
       "A matrix: 5 × 2 of type dbl\n",
       "\\begin{tabular}{r|ll}\n",
       "  & 2.5 \\% & 97.5 \\%\\\\\n",
       "\\hline\n",
       "\t(Intercept) &  4.1944758 & 10.1278661\\\\\n",
       "\tpred\\_watertemp &  0.2735787 &  0.4896836\\\\\n",
       "\tTP & 32.8058540 & 84.0252061\\\\\n",
       "\tbasin11 &  4.4120792 &  8.6179638\\\\\n",
       "\tprcp73 & -3.7245001 & -2.2927305\\\\\n",
       "\\end{tabular}\n"
      ],
      "text/markdown": [
       "\n",
       "A matrix: 5 × 2 of type dbl\n",
       "\n",
       "| <!--/--> | 2.5 % | 97.5 % |\n",
       "|---|---|---|\n",
       "| (Intercept) |  4.1944758 | 10.1278661 |\n",
       "| pred_watertemp |  0.2735787 |  0.4896836 |\n",
       "| TP | 32.8058540 | 84.0252061 |\n",
       "| basin11 |  4.4120792 |  8.6179638 |\n",
       "| prcp73 | -3.7245001 | -2.2927305 |\n",
       "\n"
      ],
      "text/plain": [
       "               2.5 %      97.5 %    \n",
       "(Intercept)     4.1944758 10.1278661\n",
       "pred_watertemp  0.2735787  0.4896836\n",
       "TP             32.8058540 84.0252061\n",
       "basin11         4.4120792  8.6179638\n",
       "prcp73         -3.7245001 -2.2927305"
      ]
     },
     "metadata": {},
     "output_type": "display_data"
    },
    {
     "data": {
      "text/plain": [
       "\n",
       "Call:\n",
       "lm(formula = eq, data = vmm)\n",
       "\n",
       "Residuals:\n",
       "    Min      1Q  Median      3Q     Max \n",
       "-24.684  -6.117  -2.181   2.516 105.649 \n",
       "\n",
       "Coefficients:\n",
       "               Estimate Std. Error t value Pr(>|t|)    \n",
       "(Intercept)     7.16117    1.51161   4.737 2.51e-06 ***\n",
       "pred_watertemp  0.38163    0.05506   6.932 7.93e-12 ***\n",
       "TP             58.41553   13.04881   4.477 8.55e-06 ***\n",
       "basin11         6.51502    1.07150   6.080 1.77e-09 ***\n",
       "prcp73         -3.00862    0.36476  -8.248 5.68e-16 ***\n",
       "---\n",
       "Signif. codes:  0 '***' 0.001 '**' 0.01 '*' 0.05 '.' 0.1 ' ' 1\n",
       "\n",
       "Residual standard error: 11.88 on 899 degrees of freedom\n",
       "  (51 observations deleted due to missingness)\n",
       "Multiple R-squared:  0.2024,\tAdjusted R-squared:  0.1988 \n",
       "F-statistic: 57.02 on 4 and 899 DF,  p-value: < 2.2e-16\n"
      ]
     },
     "metadata": {},
     "output_type": "display_data"
    }
   ],
   "source": [
    "a = 0.95\n",
    "eq= \"CA ~ pred_watertemp + TP + basin1 + prcp73\"\n",
    "mdl <-lm(eq,data=vmm)\n",
    "confint(mdl, level = a)\n",
    "summary(mdl)"
   ]
  },
  {
   "cell_type": "code",
   "execution_count": 62,
   "metadata": {
    "ExecuteTime": {
     "end_time": "2021-01-11T15:33:34.234981Z",
     "start_time": "2021-01-11T15:33:00.452Z"
    }
   },
   "outputs": [],
   "source": [
    "options(warn = oldw)"
   ]
  },
  {
   "cell_type": "code",
   "execution_count": null,
   "metadata": {},
   "outputs": [],
   "source": []
  }
 ],
 "metadata": {
  "hide_input": false,
  "kernelspec": {
   "display_name": "R",
   "language": "R",
   "name": "ir"
  },
  "language_info": {
   "codemirror_mode": "r",
   "file_extension": ".r",
   "mimetype": "text/x-r-source",
   "name": "R",
   "pygments_lexer": "r",
   "version": "3.6.1"
  }
 },
 "nbformat": 4,
 "nbformat_minor": 4
}
