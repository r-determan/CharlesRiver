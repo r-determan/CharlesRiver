{
 "cells": [
  {
   "cell_type": "markdown",
   "metadata": {
    "heading_collapsed": true
   },
   "source": [
    "# Import Packages and Data"
   ]
  },
  {
   "cell_type": "code",
   "execution_count": 1,
   "metadata": {
    "ExecuteTime": {
     "end_time": "2021-02-08T15:39:42.777882Z",
     "start_time": "2021-02-08T15:39:42.678Z"
    },
    "hidden": true
   },
   "outputs": [],
   "source": [
    "oldw <- getOption(\"warn\")\n",
    "options(warn = -1)"
   ]
  },
  {
   "cell_type": "code",
   "execution_count": 2,
   "metadata": {
    "ExecuteTime": {
     "end_time": "2021-02-08T15:39:45.392350Z",
     "start_time": "2021-02-08T15:39:42.683Z"
    },
    "hidden": true
   },
   "outputs": [
    {
     "name": "stderr",
     "output_type": "stream",
     "text": [
      "Loading required package: SparseM\n",
      "\n",
      "\n",
      "Attaching package: 'SparseM'\n",
      "\n",
      "\n",
      "The following object is masked from 'package:base':\n",
      "\n",
      "    backsolve\n",
      "\n",
      "\n",
      "\n",
      "Attaching package: 'dplyr'\n",
      "\n",
      "\n",
      "The following objects are masked from 'package:stats':\n",
      "\n",
      "    filter, lag\n",
      "\n",
      "\n",
      "The following objects are masked from 'package:base':\n",
      "\n",
      "    intersect, setdiff, setequal, union\n",
      "\n",
      "\n",
      "Loading required package: ggplot2\n",
      "\n",
      "\n",
      "Attaching package: 'plotly'\n",
      "\n",
      "\n",
      "The following object is masked from 'package:ggplot2':\n",
      "\n",
      "    last_plot\n",
      "\n",
      "\n",
      "The following object is masked from 'package:stats':\n",
      "\n",
      "    filter\n",
      "\n",
      "\n",
      "The following object is masked from 'package:graphics':\n",
      "\n",
      "    layout\n",
      "\n",
      "\n",
      "Registered S3 methods overwritten by 'broom':\n",
      "  method            from  \n",
      "  tidy.glht         jtools\n",
      "  tidy.summary.glht jtools\n",
      "\n",
      "\n",
      "Attaching package: 'gridExtra'\n",
      "\n",
      "\n",
      "The following object is masked from 'package:dplyr':\n",
      "\n",
      "    combine\n",
      "\n",
      "\n"
     ]
    }
   ],
   "source": [
    "library(readxl)\n",
    "library(quantreg)\n",
    "library(dplyr)\n",
    "library(jtools)\n",
    "library(MuMIn)\n",
    "library(plotly)\n",
    "library(ggplot2)\n",
    "library(ggpubr)\n",
    "library(gridExtra)"
   ]
  },
  {
   "cell_type": "code",
   "execution_count": 3,
   "metadata": {
    "ExecuteTime": {
     "end_time": "2021-02-08T15:39:47.794717Z",
     "start_time": "2021-02-08T15:39:42.686Z"
    },
    "hidden": true
   },
   "outputs": [
    {
     "name": "stderr",
     "output_type": "stream",
     "text": [
      "New names:\n",
      "* `` -> ...13\n",
      "\n"
     ]
    }
   ],
   "source": [
    "#Import the center dates, weather information and buoy data\n",
    "dates <- read_excel(\"C:/Users/rdeterman/Desktop/data10_14.xlsx\", sheet = \"Date_Transform\", na = \"NA\")\n",
    "\n",
    "wea <- read_excel(\"C:/Users/rdeterman/Desktop/data10_14.xlsx\", sheet = \"BOS_wea\", na = \"NA\")\n",
    "wea<- wea[complete.cases(wea), ]\n",
    "wea$dn <- as.numeric(wea$DateVal)\n",
    "\n",
    "buoy <- read_excel(\"C:/Users/rdeterman/Desktop/data10_14.xlsx\", sheet = \"buoy\", na = \"NA\")\n",
    "buoy<- buoy[complete.cases(buoy), ]\n",
    "buoy_dailymean = aggregate(buoy[\"tempc\"], by=buoy[\"date\"], mean)\n",
    "buoy_dailymean$dn  <- as.numeric(buoy_dailymean$date)\n",
    "\n",
    "vmm_buoy <- read_excel(\"C:/Users/rdeterman/Desktop/data10_14.xlsx\", sheet = \"vmm_and_buoy\")"
   ]
  },
  {
   "cell_type": "code",
   "execution_count": 4,
   "metadata": {
    "ExecuteTime": {
     "end_time": "2021-02-08T15:39:48.003159Z",
     "start_time": "2021-02-08T15:39:42.689Z"
    },
    "hidden": true
   },
   "outputs": [],
   "source": [
    "#Import the excel spreadsheeet and convert the date to a datenum variable type\n",
    "vmm <- read_excel(\"C:/Users/rdeterman/MATLAB/data01_11.xlsx\", na = \"NA\")\n",
    "vmm$dn  <- as.numeric(vmm$DATE)\n",
    "\n",
    "#setting the date as a number and centering it around zero\n",
    "count <- seq.int(1,955)\n",
    "for (b in count) {               \n",
    "        target_date <- vmm$DATE[b]\n",
    "        target_row   <- match(target_date,dates$date) \n",
    "        vmm$cd[b] <- dates$subtractedfrommean[target_row]\n",
    "}"
   ]
  },
  {
   "cell_type": "markdown",
   "metadata": {
    "heading_collapsed": true,
    "hidden": true
   },
   "source": [
    "## Linear model function"
   ]
  },
  {
   "cell_type": "code",
   "execution_count": 5,
   "metadata": {
    "ExecuteTime": {
     "end_time": "2021-02-08T15:39:48.039091Z",
     "start_time": "2021-02-08T15:39:42.701Z"
    },
    "hidden": true
   },
   "outputs": [],
   "source": [
    "lm_res <- function(eq, data, alpha) {\n",
    "    mdl <-lm(eq,data=data)\n",
    "    print(confint(mdl, level = alpha))\n",
    "    print(summary(mdl))\n",
    "}\n",
    "a = 0.995"
   ]
  },
  {
   "cell_type": "markdown",
   "metadata": {
    "heading_collapsed": true
   },
   "source": [
    "# Equation 1: Converting air temperature to water temperature"
   ]
  },
  {
   "cell_type": "code",
   "execution_count": 6,
   "metadata": {
    "ExecuteTime": {
     "end_time": "2021-02-08T15:39:48.073970Z",
     "start_time": "2021-02-08T15:39:42.711Z"
    },
    "hidden": true
   },
   "outputs": [],
   "source": [
    "#take the sample collection dates and sample values.\n",
    "# for each date range find the average of the comparison quantity (precip, temp)\n",
    "#target dates = sample collection dates\n",
    "#long dates = dates of the comparison thing -- precip/ temp\n",
    "#long data to match -- the comparison precip/ temp values\n",
    "#corr comparer - value of the sample collected\n",
    "\n",
    "range_means <- function(target_dates, long_dates, long_data_to_match, corr_comparer) {\n",
    "    #print(corr_comparer)\n",
    "    \n",
    "    #length of samples array\n",
    "    b_count <- seq(1,length(target_dates))\n",
    "    \n",
    "    #dayrange to compare over\n",
    "    range <- seq(1,90)  \n",
    "    \n",
    "    #empty dataframe to store the range means \n",
    "    #length = number of samples\n",
    "    #columns = 90; there are 90 range comparisons 1,2,3,4,5,6...,88,89,89\n",
    "    means <- data.frame(matrix(NA, nrow = length(target_dates), ncol =90))\n",
    "    \n",
    "    #for each value in the sample array\n",
    "    for (b in b_count) { \n",
    "        #what is the date of the sample?\n",
    "        target_date <- target_dates[b] \n",
    "        \n",
    "        #where is the matching date on the comparison array?\n",
    "        wea_row <- match(target_date,long_dates) \n",
    "        \n",
    "        #for each day range; compare that many days back and find the mean\n",
    "        #store the mean in the means dataframe\n",
    "        for (r in range){\n",
    "            rows <- seq.int(from = wea_row-r,to = wea_row) \n",
    "            val <-  mean(long_data_to_match[rows])\n",
    "            means[b,r]<- val\n",
    "             }   \n",
    "        }\n",
    "    \n",
    "    aicc_ = vector()\n",
    "    \n",
    "    for (r in range){\n",
    "        x<- pull(means, r)\n",
    "        y<- corr_comparer\n",
    "        df <- data.frame(x,y)\n",
    "       \n",
    "        mdl<-lm('y~ 1+x', data = df)\n",
    "        aicc_[r] =AICc(mdl)\n",
    "        }\n",
    "    target_col = which(aicc_==min(aicc_))\n",
    "    print(target_col)\n",
    "    return(means[,target_col])   \n",
    "}"
   ]
  },
  {
   "cell_type": "code",
   "execution_count": 7,
   "metadata": {
    "ExecuteTime": {
     "end_time": "2021-02-08T15:39:51.055467Z",
     "start_time": "2021-02-08T15:39:42.715Z"
    },
    "hidden": true
   },
   "outputs": [
    {
     "name": "stdout",
     "output_type": "stream",
     "text": [
      "[1] 7\n"
     ]
    },
    {
     "data": {
      "text/plain": [
       "\n",
       "Call:\n",
       "lm(formula = tempc ~ airtemp_7day, data = buoy_dailymean)\n",
       "\n",
       "Residuals:\n",
       "    Min      1Q  Median      3Q     Max \n",
       "-6.3733 -1.2050 -0.2516  1.0868  5.2997 \n",
       "\n",
       "Coefficients:\n",
       "             Estimate Std. Error t value Pr(>|t|)    \n",
       "(Intercept)   3.60335    0.26739   13.48   <2e-16 ***\n",
       "airtemp_7day  0.93046    0.01326   70.18   <2e-16 ***\n",
       "---\n",
       "Signif. codes:  0 '***' 0.001 '**' 0.01 '*' 0.05 '.' 0.1 ' ' 1\n",
       "\n",
       "Residual standard error: 1.643 on 758 degrees of freedom\n",
       "Multiple R-squared:  0.8666,\tAdjusted R-squared:  0.8664 \n",
       "F-statistic:  4925 on 1 and 758 DF,  p-value: < 2.2e-16\n"
      ]
     },
     "metadata": {},
     "output_type": "display_data"
    },
    {
     "data": {
      "text/html": [
       "<table>\n",
       "<caption>A matrix: 2 × 2 of type dbl</caption>\n",
       "<thead>\n",
       "\t<tr><th></th><th scope=col>0.25 %</th><th scope=col>99.75 %</th></tr>\n",
       "</thead>\n",
       "<tbody>\n",
       "\t<tr><th scope=row>(Intercept)</th><td>2.8505852</td><td>4.3561242</td></tr>\n",
       "\t<tr><th scope=row>airtemp_7day</th><td>0.8931297</td><td>0.9677843</td></tr>\n",
       "</tbody>\n",
       "</table>\n"
      ],
      "text/latex": [
       "A matrix: 2 × 2 of type dbl\n",
       "\\begin{tabular}{r|ll}\n",
       "  & 0.25 \\% & 99.75 \\%\\\\\n",
       "\\hline\n",
       "\t(Intercept) & 2.8505852 & 4.3561242\\\\\n",
       "\tairtemp\\_7day & 0.8931297 & 0.9677843\\\\\n",
       "\\end{tabular}\n"
      ],
      "text/markdown": [
       "\n",
       "A matrix: 2 × 2 of type dbl\n",
       "\n",
       "| <!--/--> | 0.25 % | 99.75 % |\n",
       "|---|---|---|\n",
       "| (Intercept) | 2.8505852 | 4.3561242 |\n",
       "| airtemp_7day | 0.8931297 | 0.9677843 |\n",
       "\n"
      ],
      "text/plain": [
       "             0.25 %    99.75 %  \n",
       "(Intercept)  2.8505852 4.3561242\n",
       "airtemp_7day 0.8931297 0.9677843"
      ]
     },
     "metadata": {},
     "output_type": "display_data"
    }
   ],
   "source": [
    "at7 <- range_means(buoy_dailymean$date,wea$DateVal,wea$TAVEC, buoy_dailymean$tempc)\n",
    "buoy_dailymean$airtemp_7day <- at7\n",
    "linearMod <- lm(tempc ~ airtemp_7day, data=buoy_dailymean) \n",
    "summary(linearMod)\n",
    "confint(linearMod, level = 0.995)"
   ]
  },
  {
   "cell_type": "code",
   "execution_count": 8,
   "metadata": {
    "ExecuteTime": {
     "end_time": "2021-02-08T15:39:51.238005Z",
     "start_time": "2021-02-08T15:39:42.718Z"
    },
    "hidden": true
   },
   "outputs": [],
   "source": [
    "vmm$airtemp_7day <- NA\n",
    "b_count <- seq(1,955)\n",
    "r = 7 \n",
    "\n",
    "for (b in b_count) { \n",
    "    target_date <- vmm$DATE[b] \n",
    "    wea_row <- match(target_date,wea$DateVal) \n",
    "    rows <- seq.int(from = wea_row-r,to = wea_row) \n",
    "    val <-  mean(wea$TAVEC[rows])\n",
    "    vmm$airtemp_7day[b]<- val\n",
    "    }   \n",
    "\n",
    "vmm$pred_watertemp<- predict(linearMod, vmm)\n",
    "vmm$pred_watertemp_center <- vmm$pred_watertemp−mean(vmm$pred_watertemp)"
   ]
  },
  {
   "cell_type": "markdown",
   "metadata": {
    "heading_collapsed": true
   },
   "source": [
    "# Figure 2 draft: Total P, Chl-*a*, and phycocyanin vs. time"
   ]
  },
  {
   "cell_type": "code",
   "execution_count": 9,
   "metadata": {
    "ExecuteTime": {
     "end_time": "2021-02-08T15:39:51.502273Z",
     "start_time": "2021-02-08T15:39:42.735Z"
    },
    "hidden": true
   },
   "outputs": [],
   "source": [
    "a_val <- as.numeric(as.Date(\"1997-05-01\")) * 24 * 60 * 60 * 1000\n",
    "b <- as.numeric(as.Date(\"2019-11-15\")) * 24 * 60 * 60 * 1000\n",
    "lgc = (vmm$basin1 == 1)\n",
    "sz <-5\n",
    "notbasin_marker <- list(color = 'rgba(33, 28, 145,0.8)',\n",
    "                        size = sz,\n",
    "                        line = list(color = 'rgb(255, 255, 255)',\n",
    "                                    width = 0.5))\n",
    "basin_marker <- list(color = 'rgba(195, 7, 0,0.8)',\n",
    "                     size = sz,\n",
    "                     line = list(color = 'rgb(255, 255, 255)',\n",
    "                                 width = 0.5))\n",
    "\n",
    "TP_time <- plot_ly(type = 'scatter', mode = 'markers',width = 1400, height = 700)\n",
    "TP_time <- TP_time %>% layout(xaxis = list(range = c(a_val, b),showgrid = TRUE,automargin = TRUE), \n",
    "                        yaxis = list(title = \"Total Phosphorus mg/l\",showgrid = TRUE,\n",
    "                                    type = \"log\"),\n",
    "                        autosize = T)\n",
    "TP_time <- TP_time %>%\n",
    "        add_trace(\n",
    "            x = vmm$DATE[!lgc],\n",
    "            y = vmm$TP[!lgc],\n",
    "            marker = notbasin_marker,\n",
    "          showlegend = F\n",
    "          ) \n",
    "TP_time <- TP_time %>%\n",
    "        add_trace(\n",
    "            x = vmm$DATE[lgc],\n",
    "            y = vmm$TP[lgc],\n",
    "            marker = basin_marker, \n",
    "          showlegend = F\n",
    "          ) \n",
    "\n",
    "CA_time <- plot_ly(type = 'scatter', mode = 'markers',width = 1400, height = 700) \n",
    "CA_time <- CA_time %>%\n",
    "        add_trace(\n",
    "            x = vmm$DATE[!lgc],\n",
    "            y = vmm$CA[!lgc],\n",
    "            name = 'Non-Basin',\n",
    "            marker = notbasin_marker,\n",
    "          showlegend = T\n",
    "          ) \n",
    "CA_time <- CA_time %>%\n",
    "        add_trace(\n",
    "            x = vmm$DATE[lgc],\n",
    "            y = vmm$CA[lgc],\n",
    "            name = 'Basin',\n",
    "            marker = basin_marker,\n",
    "          showlegend = T\n",
    "          )\n",
    "CA_time <- CA_time %>% layout(xaxis = list(range = c(a_val, b),automargin = TRUE), \n",
    "                        yaxis = list(title = \"Chlorophyll a ug/l\",showgrid = TRUE,\n",
    "                                     type = \"log\"),\n",
    "                        margin = list(r = 0.0))\n",
    "                        #legend = list(x = 0.9, y = 0.99))\n",
    "\n",
    "phy_time <- plot_ly(type = 'scatter', mode = 'markers',width = 1400, height = 700) \n",
    "phy_time <- phy_time %>% layout(xaxis = list(range = c(a_val, b),showgrid = TRUE,automargin = TRUE), \n",
    "                        yaxis = list(title = \"Phycocyanin RFU\",showgrid = TRUE),\n",
    "                        margin = list(b = 160))\n",
    "phy_time <- phy_time %>%\n",
    "        add_trace(\n",
    "            x = buoy$dt,\n",
    "            y = buoy$phy,\n",
    "            marker = basin_marker,\n",
    "          showlegend = F\n",
    "          ) \n",
    "\n",
    "fig2 <- subplot(TP_time,CA_time, phy_time, nrows = 3,shareX = TRUE, titleY = TRUE)\n",
    "#fig2 <- fig2 %>% layout(autosize = T,xaxis = list(type = \"date\"))\n",
    "#embed_notebook(fig2)"
   ]
  },
  {
   "cell_type": "markdown",
   "metadata": {
    "heading_collapsed": true
   },
   "source": [
    "# Equation 2: Chl-*a* vs. time"
   ]
  },
  {
   "cell_type": "code",
   "execution_count": 10,
   "metadata": {
    "ExecuteTime": {
     "end_time": "2021-02-08T15:39:51.540172Z",
     "start_time": "2021-02-08T15:39:42.747Z"
    },
    "hidden": true
   },
   "outputs": [
    {
     "name": "stdout",
     "output_type": "stream",
     "text": [
      "                  0.25 %       99.75 %\n",
      "(Intercept)  7.066027408  9.444201e+00\n",
      "centerdate  -0.001096042 -9.816826e-05\n",
      "\n",
      "Call:\n",
      "lm(formula = eq, data = data)\n",
      "\n",
      "Residuals:\n",
      "    Min      1Q  Median      3Q     Max \n",
      " -9.637  -6.448  -4.625   0.629 115.554 \n",
      "\n",
      "Coefficients:\n",
      "              Estimate Std. Error t value Pr(>|t|)    \n",
      "(Intercept)  8.2551144  0.4226232  19.533  < 2e-16 ***\n",
      "centerdate  -0.0005971  0.0001773  -3.367  0.00079 ***\n",
      "---\n",
      "Signif. codes:  0 '***' 0.001 '**' 0.01 '*' 0.05 '.' 0.1 ' ' 1\n",
      "\n",
      "Residual standard error: 13.06 on 953 degrees of freedom\n",
      "Multiple R-squared:  0.01176,\tAdjusted R-squared:  0.01072 \n",
      "F-statistic: 11.34 on 1 and 953 DF,  p-value: 0.0007898\n",
      "\n"
     ]
    }
   ],
   "source": [
    "eq= \"CA ~ 1 + centerdate\"\n",
    "lm_res(eq,vmm,a)"
   ]
  },
  {
   "cell_type": "markdown",
   "metadata": {
    "heading_collapsed": true
   },
   "source": [
    "# Equation 3: Total P vs. time"
   ]
  },
  {
   "cell_type": "code",
   "execution_count": 11,
   "metadata": {
    "ExecuteTime": {
     "end_time": "2021-02-08T15:39:51.590039Z",
     "start_time": "2021-02-08T15:39:42.757Z"
    },
    "hidden": true
   },
   "outputs": [
    {
     "name": "stdout",
     "output_type": "stream",
     "text": [
      "                   0.25 %       99.75 %\n",
      "(Intercept)  6.164455e-02  6.756305e-02\n",
      "cd          -5.324798e-06 -2.782917e-06\n",
      "\n",
      "Call:\n",
      "lm(formula = eq, data = data)\n",
      "\n",
      "Residuals:\n",
      "      Min        1Q    Median        3Q       Max \n",
      "-0.058740 -0.020753 -0.004388  0.015457  0.275692 \n",
      "\n",
      "Coefficients:\n",
      "              Estimate Std. Error t value Pr(>|t|)    \n",
      "(Intercept)  6.460e-02  1.052e-03  61.432   <2e-16 ***\n",
      "cd          -4.054e-06  4.517e-07  -8.976   <2e-16 ***\n",
      "---\n",
      "Signif. codes:  0 '***' 0.001 '**' 0.01 '*' 0.05 '.' 0.1 ' ' 1\n",
      "\n",
      "Residual standard error: 0.0316 on 902 degrees of freedom\n",
      "  (51 observations deleted due to missingness)\n",
      "Multiple R-squared:  0.08199,\tAdjusted R-squared:  0.08097 \n",
      "F-statistic: 80.56 on 1 and 902 DF,  p-value: < 2.2e-16\n",
      "\n"
     ]
    }
   ],
   "source": [
    "eq= \"TP ~ 1 + cd\"\n",
    "lm_res(eq,vmm,a)"
   ]
  },
  {
   "cell_type": "markdown",
   "metadata": {
    "ExecuteTime": {
     "end_time": "2021-02-06T14:27:19.881274Z",
     "start_time": "2021-02-06T14:27:19.845Z"
    },
    "heading_collapsed": true
   },
   "source": [
    "# Table 2: Quantile Regression\n",
    "Chl-*a* vs time  \n",
    "Total P vs time"
   ]
  },
  {
   "cell_type": "code",
   "execution_count": 12,
   "metadata": {
    "ExecuteTime": {
     "end_time": "2021-02-08T15:39:51.873797Z",
     "start_time": "2021-02-08T15:39:42.766Z"
    },
    "hidden": true,
    "scrolled": true
   },
   "outputs": [
    {
     "name": "stdout",
     "output_type": "stream",
     "text": [
      "\u001b[4mMODEL INFO:\u001b[24m\n",
      "\u001b[3mObservations:\u001b[23m 955\n",
      "\u001b[3mDependent Variable:\u001b[23m CA\n",
      "\u001b[3mType:\u001b[23m Quantile regression\n",
      "  \u001b[3mQuantile (tau): \u001b[23m0.01\n",
      "  \u001b[3mMethod: \u001b[23mBarrodale-Roberts \n",
      "\n",
      "\u001b[4mMODEL FIT:\u001b[24m\n",
      "\u001b[3mR¹\u001b[23m(0.01) = 0.004383 \n",
      "\n",
      "\u001b[3mStandard errors: Sandwich (Huber)\u001b[23m\n",
      "---------------------------------------------------------------------------\n",
      "                         Est.        0.3%      99.8%      t val.          p\n",
      "----------------- ----------- ----------- ---------- ----------- ----------\n",
      "(Intercept)          0.501684    0.373733   0.629636   11.031769   0.000000\n",
      "centerdate          -0.000033   -0.000081   0.000014   -1.968692   0.049278\n",
      "---------------------------------------------------------------------------\n",
      "\u001b[4mMODEL INFO:\u001b[24m\n",
      "\u001b[3mObservations:\u001b[23m 955\n",
      "\u001b[3mDependent Variable:\u001b[23m CA\n",
      "\u001b[3mType:\u001b[23m Quantile regression\n",
      "  \u001b[3mQuantile (tau): \u001b[23m0.05\n",
      "  \u001b[3mMethod: \u001b[23mBarrodale-Roberts \n",
      "\n",
      "\u001b[4mMODEL FIT:\u001b[24m\n",
      "\u001b[3mR¹\u001b[23m(0.05) = 0.007508 \n",
      "\n",
      "\u001b[3mStandard errors: Sandwich (Huber)\u001b[23m\n",
      "----------------------------------------------------------------------------\n",
      "                         Est.        0.3%       99.8%      t val.          p\n",
      "----------------- ----------- ----------- ----------- ----------- ----------\n",
      "(Intercept)          0.756501    0.634757    0.878244   17.483274   0.000000\n",
      "centerdate          -0.000072   -0.000116   -0.000028   -4.577989   0.000005\n",
      "----------------------------------------------------------------------------\n",
      "\u001b[4mMODEL INFO:\u001b[24m\n",
      "\u001b[3mObservations:\u001b[23m 955\n",
      "\u001b[3mDependent Variable:\u001b[23m CA\n",
      "\u001b[3mType:\u001b[23m Quantile regression\n",
      "  \u001b[3mQuantile (tau): \u001b[23m0.25\n",
      "  \u001b[3mMethod: \u001b[23mBarrodale-Roberts \n",
      "\n",
      "\u001b[4mMODEL FIT:\u001b[24m\n",
      "\u001b[3mR¹\u001b[23m(0.25) = 0.005209 \n",
      "\n",
      "\u001b[3mStandard errors: Sandwich (Huber)\u001b[23m\n",
      "----------------------------------------------------------------------------\n",
      "                         Est.        0.3%       99.8%      t val.          p\n",
      "----------------- ----------- ----------- ----------- ----------- ----------\n",
      "(Intercept)          1.666361    1.474293    1.858428   24.410411   0.000000\n",
      "centerdate          -0.000122   -0.000202   -0.000042   -4.273517   0.000021\n",
      "----------------------------------------------------------------------------\n",
      "\u001b[4mMODEL INFO:\u001b[24m\n",
      "\u001b[3mObservations:\u001b[23m 955\n",
      "\u001b[3mDependent Variable:\u001b[23m CA\n",
      "\u001b[3mType:\u001b[23m Quantile regression\n",
      "  \u001b[3mQuantile (tau): \u001b[23m0.5\n",
      "  \u001b[3mMethod: \u001b[23mBarrodale-Roberts \n",
      "\n",
      "\u001b[4mMODEL FIT:\u001b[24m\n",
      "\u001b[3mR¹\u001b[23m(0.5) = 0.005937 \n",
      "\n",
      "\u001b[3mStandard errors: Sandwich (Huber)\u001b[23m\n",
      "----------------------------------------------------------------------------\n",
      "                         Est.        0.3%       99.8%      t val.          p\n",
      "----------------- ----------- ----------- ----------- ----------- ----------\n",
      "(Intercept)          3.249820    2.641888    3.857753   15.040564   0.000000\n",
      "centerdate          -0.000282   -0.000530   -0.000033   -3.183598   0.001502\n",
      "----------------------------------------------------------------------------\n",
      "\u001b[4mMODEL INFO:\u001b[24m\n",
      "\u001b[3mObservations:\u001b[23m 955\n",
      "\u001b[3mDependent Variable:\u001b[23m CA\n",
      "\u001b[3mType:\u001b[23m Quantile regression\n",
      "  \u001b[3mQuantile (tau): \u001b[23m0.75\n",
      "  \u001b[3mMethod: \u001b[23mBarrodale-Roberts \n",
      "\n",
      "\u001b[4mMODEL FIT:\u001b[24m\n",
      "\u001b[3mR¹\u001b[23m(0.75) = 0.016314 \n",
      "\n",
      "\u001b[3mStandard errors: Sandwich (Huber)\u001b[23m\n",
      "----------------------------------------------------------------------------\n",
      "                         Est.        0.3%       99.8%      t val.          p\n",
      "----------------- ----------- ----------- ----------- ----------- ----------\n",
      "(Intercept)          9.101918    7.310319   10.893518   14.293950   0.000000\n",
      "centerdate          -0.000855   -0.001579   -0.000131   -3.320824   0.000932\n",
      "----------------------------------------------------------------------------\n",
      "\u001b[4mMODEL INFO:\u001b[24m\n",
      "\u001b[3mObservations:\u001b[23m 955\n",
      "\u001b[3mDependent Variable:\u001b[23m CA\n",
      "\u001b[3mType:\u001b[23m Quantile regression\n",
      "  \u001b[3mQuantile (tau): \u001b[23m0.8\n",
      "  \u001b[3mMethod: \u001b[23mBarrodale-Roberts \n",
      "\n",
      "\u001b[4mMODEL FIT:\u001b[24m\n",
      "\u001b[3mR¹\u001b[23m(0.8) = 0.016361 \n",
      "\n",
      "\u001b[3mStandard errors: Sandwich (Huber)\u001b[23m\n",
      "----------------------------------------------------------------------------\n",
      "                         Est.        0.3%       99.8%      t val.          p\n",
      "----------------- ----------- ----------- ----------- ----------- ----------\n",
      "(Intercept)         11.731939    9.499516   13.964362   14.786098   0.000000\n",
      "centerdate          -0.001317   -0.002235   -0.000400   -4.039624   0.000058\n",
      "----------------------------------------------------------------------------\n",
      "\u001b[4mMODEL INFO:\u001b[24m\n",
      "\u001b[3mObservations:\u001b[23m 955\n",
      "\u001b[3mDependent Variable:\u001b[23m CA\n",
      "\u001b[3mType:\u001b[23m Quantile regression\n",
      "  \u001b[3mQuantile (tau): \u001b[23m0.85\n",
      "  \u001b[3mMethod: \u001b[23mBarrodale-Roberts \n",
      "\n",
      "\u001b[4mMODEL FIT:\u001b[24m\n",
      "\u001b[3mR¹\u001b[23m(0.85) = 0.016586 \n",
      "\n",
      "\u001b[3mStandard errors: Sandwich (Huber)\u001b[23m\n",
      "----------------------------------------------------------------------------\n",
      "                         Est.        0.3%       99.8%      t val.          p\n",
      "----------------- ----------- ----------- ----------- ----------- ----------\n",
      "(Intercept)         15.087592   11.456105   18.719079   11.689494   0.000000\n",
      "centerdate          -0.001543   -0.003022   -0.000063   -2.933548   0.003431\n",
      "----------------------------------------------------------------------------\n",
      "\u001b[4mMODEL INFO:\u001b[24m\n",
      "\u001b[3mObservations:\u001b[23m 955\n",
      "\u001b[3mDependent Variable:\u001b[23m CA\n",
      "\u001b[3mType:\u001b[23m Quantile regression\n",
      "  \u001b[3mQuantile (tau): \u001b[23m0.86\n",
      "  \u001b[3mMethod: \u001b[23mBarrodale-Roberts \n",
      "\n",
      "\u001b[4mMODEL FIT:\u001b[24m\n",
      "\u001b[3mR¹\u001b[23m(0.86) = 0.016829 \n",
      "\n",
      "\u001b[3mStandard errors: Sandwich (Huber)\u001b[23m\n",
      "----------------------------------------------------------------------------\n",
      "                         Est.        0.3%       99.8%      t val.          p\n",
      "----------------- ----------- ----------- ----------- ----------- ----------\n",
      "(Intercept)         15.802497   12.133793   19.471202   12.119181   0.000000\n",
      "centerdate          -0.001473   -0.002966    0.000021   -2.774560   0.005636\n",
      "----------------------------------------------------------------------------\n",
      "\u001b[4mMODEL INFO:\u001b[24m\n",
      "\u001b[3mObservations:\u001b[23m 955\n",
      "\u001b[3mDependent Variable:\u001b[23m CA\n",
      "\u001b[3mType:\u001b[23m Quantile regression\n",
      "  \u001b[3mQuantile (tau): \u001b[23m0.95\n",
      "  \u001b[3mMethod: \u001b[23mBarrodale-Roberts \n",
      "\n",
      "\u001b[4mMODEL FIT:\u001b[24m\n",
      "\u001b[3mR¹\u001b[23m(0.95) = 0.021954 \n",
      "\n",
      "\u001b[3mStandard errors: Sandwich (Huber)\u001b[23m\n",
      "----------------------------------------------------------------------------\n",
      "                         Est.        0.3%       99.8%      t val.          p\n",
      "----------------- ----------- ----------- ----------- ----------- ----------\n",
      "(Intercept)         31.289311   23.531217   39.047405   11.347527   0.000000\n",
      "centerdate          -0.002468   -0.005680    0.000744   -2.161910   0.030873\n",
      "----------------------------------------------------------------------------\n",
      "\u001b[4mMODEL INFO:\u001b[24m\n",
      "\u001b[3mObservations:\u001b[23m 955\n",
      "\u001b[3mDependent Variable:\u001b[23m CA\n",
      "\u001b[3mType:\u001b[23m Quantile regression\n",
      "  \u001b[3mQuantile (tau): \u001b[23m0.99\n",
      "  \u001b[3mMethod: \u001b[23mBarrodale-Roberts \n",
      "\n",
      "\u001b[4mMODEL FIT:\u001b[24m\n",
      "\u001b[3mR¹\u001b[23m(0.99) = 0.031705 \n",
      "\n",
      "\u001b[3mStandard errors: Sandwich (Huber)\u001b[23m\n",
      "----------------------------------------------------------------------------\n",
      "                         Est.        0.3%       99.8%      t val.          p\n",
      "----------------- ----------- ----------- ----------- ----------- ----------\n",
      "(Intercept)         62.684861   31.120556   94.249165    5.587618   0.000000\n",
      "centerdate          -0.003976   -0.015899    0.007947   -0.938237   0.348361\n",
      "----------------------------------------------------------------------------\n"
     ]
    }
   ],
   "source": [
    "alpha<- 0.005\n",
    "data<- vmm\n",
    "tau<- c(0.01,0.05,0.25, 0.5,0.75,0.80,0.85,0.86,0.95,0.99)\n",
    "\n",
    "eq<- 'CA ~ 1 + centerdate'\n",
    "for (t in tau){\n",
    "    mdl <- rq(eq, tau = t, alpha = alpha, data = data)\n",
    "    print(summ(mdl, confint= TRUE, ci.width = 0.995,digits = 6))\n",
    "}"
   ]
  },
  {
   "cell_type": "code",
   "execution_count": 13,
   "metadata": {
    "ExecuteTime": {
     "end_time": "2021-02-08T15:39:52.260218Z",
     "start_time": "2021-02-08T15:39:42.770Z"
    },
    "hidden": true
   },
   "outputs": [
    {
     "name": "stdout",
     "output_type": "stream",
     "text": [
      "\u001b[4mMODEL INFO:\u001b[24m\n",
      "\u001b[3mObservations:\u001b[23m 904 (51 missing obs. deleted)\n",
      "\u001b[3mDependent Variable:\u001b[23m TP\n",
      "\u001b[3mType:\u001b[23m Quantile regression\n",
      "  \u001b[3mQuantile (tau): \u001b[23m0.01\n",
      "  \u001b[3mMethod: \u001b[23mBarrodale-Roberts \n",
      "\n",
      "\u001b[4mMODEL FIT:\u001b[24m\n",
      "\u001b[3mR¹\u001b[23m(0.01) = 0.00425133 \n",
      "\n",
      "\u001b[3mStandard errors: Sandwich (Huber)\u001b[23m\n",
      "------------------------------------------------------------------------\n",
      "                           Est.          0.3%        99.8%        t val.\n",
      "----------------- ------------- ------------- ------------ -------------\n",
      "(Intercept)          0.01916794    0.01460112   0.02373476   11.81079231\n",
      "centerdate          -0.00000041   -0.00000238   0.00000156   -0.58673232\n",
      "------------------------------------------------------------------------\n",
      " \n",
      "------------------------------\n",
      "                             p\n",
      "----------------- ------------\n",
      "(Intercept)         0.00000000\n",
      "centerdate          0.55753031\n",
      "------------------------------\n",
      "\u001b[4mMODEL INFO:\u001b[24m\n",
      "\u001b[3mObservations:\u001b[23m 904 (51 missing obs. deleted)\n",
      "\u001b[3mDependent Variable:\u001b[23m TP\n",
      "\u001b[3mType:\u001b[23m Quantile regression\n",
      "  \u001b[3mQuantile (tau): \u001b[23m0.05\n",
      "  \u001b[3mMethod: \u001b[23mBarrodale-Roberts \n",
      "\n",
      "\u001b[4mMODEL FIT:\u001b[24m\n",
      "\u001b[3mR¹\u001b[23m(0.05) = 0.01510957 \n",
      "\n",
      "\u001b[3mStandard errors: Sandwich (Huber)\u001b[23m\n",
      "------------------------------------------------------------------------\n",
      "                           Est.          0.3%        99.8%        t val.\n",
      "----------------- ------------- ------------- ------------ -------------\n",
      "(Intercept)          0.02808203    0.02514740   0.03101666   26.92727589\n",
      "centerdate          -0.00000120   -0.00000245   0.00000005   -2.70127723\n",
      "------------------------------------------------------------------------\n",
      " \n",
      "------------------------------\n",
      "                             p\n",
      "----------------- ------------\n",
      "(Intercept)         0.00000000\n",
      "centerdate          0.00703693\n",
      "------------------------------\n",
      "\u001b[4mMODEL INFO:\u001b[24m\n",
      "\u001b[3mObservations:\u001b[23m 904 (51 missing obs. deleted)\n",
      "\u001b[3mDependent Variable:\u001b[23m TP\n",
      "\u001b[3mType:\u001b[23m Quantile regression\n",
      "  \u001b[3mQuantile (tau): \u001b[23m0.25\n",
      "  \u001b[3mMethod: \u001b[23mBarrodale-Roberts \n",
      "\n",
      "\u001b[4mMODEL FIT:\u001b[24m\n",
      "\u001b[3mR¹\u001b[23m(0.25) = 0.04406550 \n",
      "\n",
      "\u001b[3mStandard errors: Sandwich (Huber)\u001b[23m\n",
      "-------------------------------------------------------------------------\n",
      "                           Est.          0.3%         99.8%        t val.\n",
      "----------------- ------------- ------------- ------------- -------------\n",
      "(Intercept)          0.04370622    0.04150528    0.04590716   55.87949822\n",
      "centerdate          -0.00000272   -0.00000366   -0.00000178   -8.15451388\n",
      "-------------------------------------------------------------------------\n",
      " \n",
      "------------------------------\n",
      "                             p\n",
      "----------------- ------------\n",
      "(Intercept)         0.00000000\n",
      "centerdate          0.00000000\n",
      "------------------------------\n",
      "\u001b[4mMODEL INFO:\u001b[24m\n",
      "\u001b[3mObservations:\u001b[23m 904 (51 missing obs. deleted)\n",
      "\u001b[3mDependent Variable:\u001b[23m TP\n",
      "\u001b[3mType:\u001b[23m Quantile regression\n",
      "  \u001b[3mQuantile (tau): \u001b[23m0.5\n",
      "  \u001b[3mMethod: \u001b[23mBarrodale-Roberts \n",
      "\n",
      "\u001b[4mMODEL FIT:\u001b[24m\n",
      "\u001b[3mR¹\u001b[23m(0.5) = 0.04573083 \n",
      "\n",
      "\u001b[3mStandard errors: Sandwich (Huber)\u001b[23m\n",
      "-------------------------------------------------------------------------\n",
      "                           Est.          0.3%         99.8%        t val.\n",
      "----------------- ------------- ------------- ------------- -------------\n",
      "(Intercept)          0.05964025    0.05624781    0.06303269   49.47035070\n",
      "centerdate          -0.00000354   -0.00000500   -0.00000208   -6.82285093\n",
      "-------------------------------------------------------------------------\n",
      " \n",
      "------------------------------\n",
      "                             p\n",
      "----------------- ------------\n",
      "(Intercept)         0.00000000\n",
      "centerdate          0.00000000\n",
      "------------------------------\n",
      "\u001b[4mMODEL INFO:\u001b[24m\n",
      "\u001b[3mObservations:\u001b[23m 904 (51 missing obs. deleted)\n",
      "\u001b[3mDependent Variable:\u001b[23m TP\n",
      "\u001b[3mType:\u001b[23m Quantile regression\n",
      "  \u001b[3mQuantile (tau): \u001b[23m0.75\n",
      "  \u001b[3mMethod: \u001b[23mBarrodale-Roberts \n",
      "\n",
      "\u001b[4mMODEL FIT:\u001b[24m\n",
      "\u001b[3mR¹\u001b[23m(0.75) = 0.03712282 \n",
      "\n",
      "\u001b[3mStandard errors: Sandwich (Huber)\u001b[23m\n",
      "-------------------------------------------------------------------------\n",
      "                           Est.          0.3%         99.8%        t val.\n",
      "----------------- ------------- ------------- ------------- -------------\n",
      "(Intercept)          0.07974918    0.07545449    0.08404387   52.25306163\n",
      "centerdate          -0.00000416   -0.00000602   -0.00000231   -6.32544210\n",
      "-------------------------------------------------------------------------\n",
      " \n",
      "------------------------------\n",
      "                             p\n",
      "----------------- ------------\n",
      "(Intercept)         0.00000000\n",
      "centerdate          0.00000000\n",
      "------------------------------\n",
      "\u001b[4mMODEL INFO:\u001b[24m\n",
      "\u001b[3mObservations:\u001b[23m 904 (51 missing obs. deleted)\n",
      "\u001b[3mDependent Variable:\u001b[23m TP\n",
      "\u001b[3mType:\u001b[23m Quantile regression\n",
      "  \u001b[3mQuantile (tau): \u001b[23m0.8\n",
      "  \u001b[3mMethod: \u001b[23mBarrodale-Roberts \n",
      "\n",
      "\u001b[4mMODEL FIT:\u001b[24m\n",
      "\u001b[3mR¹\u001b[23m(0.8) = 0.04494613 \n",
      "\n",
      "\u001b[3mStandard errors: Sandwich (Huber)\u001b[23m\n",
      "-------------------------------------------------------------------------\n",
      "                           Est.          0.3%         99.8%        t val.\n",
      "----------------- ------------- ------------- ------------- -------------\n",
      "(Intercept)          0.08622718    0.08180764    0.09064672   54.90155172\n",
      "centerdate          -0.00000444   -0.00000634   -0.00000254   -6.57169602\n",
      "-------------------------------------------------------------------------\n",
      " \n",
      "------------------------------\n",
      "                             p\n",
      "----------------- ------------\n",
      "(Intercept)         0.00000000\n",
      "centerdate          0.00000000\n",
      "------------------------------\n",
      "\u001b[4mMODEL INFO:\u001b[24m\n",
      "\u001b[3mObservations:\u001b[23m 904 (51 missing obs. deleted)\n",
      "\u001b[3mDependent Variable:\u001b[23m TP\n",
      "\u001b[3mType:\u001b[23m Quantile regression\n",
      "  \u001b[3mQuantile (tau): \u001b[23m0.85\n",
      "  \u001b[3mMethod: \u001b[23mBarrodale-Roberts \n",
      "\n",
      "\u001b[4mMODEL FIT:\u001b[24m\n",
      "\u001b[3mR¹\u001b[23m(0.85) = 0.05750917 \n",
      "\n",
      "\u001b[3mStandard errors: Sandwich (Huber)\u001b[23m\n",
      "-------------------------------------------------------------------------\n",
      "                           Est.          0.3%         99.8%        t val.\n",
      "----------------- ------------- ------------- ------------- -------------\n",
      "(Intercept)          0.09133527    0.08746763    0.09520292   66.45220011\n",
      "centerdate          -0.00000497   -0.00000663   -0.00000330   -8.40381621\n",
      "-------------------------------------------------------------------------\n",
      " \n",
      "------------------------------\n",
      "                             p\n",
      "----------------- ------------\n",
      "(Intercept)         0.00000000\n",
      "centerdate          0.00000000\n",
      "------------------------------\n",
      "\u001b[4mMODEL INFO:\u001b[24m\n",
      "\u001b[3mObservations:\u001b[23m 904 (51 missing obs. deleted)\n",
      "\u001b[3mDependent Variable:\u001b[23m TP\n",
      "\u001b[3mType:\u001b[23m Quantile regression\n",
      "  \u001b[3mQuantile (tau): \u001b[23m0.9\n",
      "  \u001b[3mMethod: \u001b[23mBarrodale-Roberts \n",
      "\n",
      "\u001b[4mMODEL FIT:\u001b[24m\n",
      "\u001b[3mR¹\u001b[23m(0.9) = 0.05818560 \n",
      "\n",
      "\u001b[3mStandard errors: Sandwich (Huber)\u001b[23m\n",
      "-------------------------------------------------------------------------\n",
      "                           Est.          0.3%         99.8%        t val.\n",
      "----------------- ------------- ------------- ------------- -------------\n",
      "(Intercept)          0.09770258    0.09235327    0.10305189   51.39558383\n",
      "centerdate          -0.00000503   -0.00000732   -0.00000274   -6.17901445\n",
      "-------------------------------------------------------------------------\n",
      " \n",
      "------------------------------\n",
      "                             p\n",
      "----------------- ------------\n",
      "(Intercept)         0.00000000\n",
      "centerdate          0.00000000\n",
      "------------------------------\n",
      "\u001b[4mMODEL INFO:\u001b[24m\n",
      "\u001b[3mObservations:\u001b[23m 904 (51 missing obs. deleted)\n",
      "\u001b[3mDependent Variable:\u001b[23m TP\n",
      "\u001b[3mType:\u001b[23m Quantile regression\n",
      "  \u001b[3mQuantile (tau): \u001b[23m0.95\n",
      "  \u001b[3mMethod: \u001b[23mBarrodale-Roberts \n",
      "\n",
      "\u001b[4mMODEL FIT:\u001b[24m\n",
      "\u001b[3mR¹\u001b[23m(0.95) = 0.04657033 \n",
      "\n",
      "\u001b[3mStandard errors: Sandwich (Huber)\u001b[23m\n",
      "-------------------------------------------------------------------------\n",
      "                           Est.          0.3%         99.8%        t val.\n",
      "----------------- ------------- ------------- ------------- -------------\n",
      "(Intercept)          0.11560141    0.10376343    0.12743939   27.47914180\n",
      "centerdate          -0.00000519   -0.00001029   -0.00000008   -2.86008090\n",
      "-------------------------------------------------------------------------\n",
      " \n",
      "------------------------------\n",
      "                             p\n",
      "----------------- ------------\n",
      "(Intercept)         0.00000000\n",
      "centerdate          0.00433307\n",
      "------------------------------\n",
      "\u001b[4mMODEL INFO:\u001b[24m\n",
      "\u001b[3mObservations:\u001b[23m 904 (51 missing obs. deleted)\n",
      "\u001b[3mDependent Variable:\u001b[23m TP\n",
      "\u001b[3mType:\u001b[23m Quantile regression\n",
      "  \u001b[3mQuantile (tau): \u001b[23m0.96\n",
      "  \u001b[3mMethod: \u001b[23mBarrodale-Roberts \n",
      "\n",
      "\u001b[4mMODEL FIT:\u001b[24m\n",
      "\u001b[3mR¹\u001b[23m(0.96) = 0.05541884 \n",
      "\n",
      "\u001b[3mStandard errors: Sandwich (Huber)\u001b[23m\n",
      "------------------------------------------------------------------------\n",
      "                           Est.          0.3%        99.8%        t val.\n",
      "----------------- ------------- ------------- ------------ -------------\n",
      "(Intercept)          0.11933870    0.10614684   0.13253057   25.45614518\n",
      "centerdate          -0.00000521   -0.00001084   0.00000042   -2.60357706\n",
      "------------------------------------------------------------------------\n",
      " \n",
      "------------------------------\n",
      "                             p\n",
      "----------------- ------------\n",
      "(Intercept)         0.00000000\n",
      "centerdate          0.00937724\n",
      "------------------------------\n",
      "\u001b[4mMODEL INFO:\u001b[24m\n",
      "\u001b[3mObservations:\u001b[23m 904 (51 missing obs. deleted)\n",
      "\u001b[3mDependent Variable:\u001b[23m TP\n",
      "\u001b[3mType:\u001b[23m Quantile regression\n",
      "  \u001b[3mQuantile (tau): \u001b[23m0.99\n",
      "  \u001b[3mMethod: \u001b[23mBarrodale-Roberts \n",
      "\n",
      "\u001b[4mMODEL FIT:\u001b[24m\n",
      "\u001b[3mR¹\u001b[23m(0.99) = 0.13441562 \n",
      "\n",
      "\u001b[3mStandard errors: Sandwich (Huber)\u001b[23m\n",
      "------------------------------------------------------------------------\n",
      "                           Est.          0.3%        99.8%        t val.\n",
      "----------------- ------------- ------------- ------------ -------------\n",
      "(Intercept)          0.18495581    0.12018818   0.24972343    8.03577175\n",
      "centerdate          -0.00002077   -0.00004442   0.00000287   -2.47195644\n",
      "------------------------------------------------------------------------\n",
      " \n",
      "------------------------------\n",
      "                             p\n",
      "----------------- ------------\n",
      "(Intercept)         0.00000000\n",
      "centerdate          0.01362117\n",
      "------------------------------\n"
     ]
    }
   ],
   "source": [
    "eq<- 'TP ~ 1 + centerdate'\n",
    "tau<- c(0.01,0.05,0.25, 0.5,0.75,0.80,0.85, 0.90,0.95,0.96,0.99)\n",
    "for (t in tau){\n",
    "    mdl <- rq(eq, tau = t, alpha = alpha, data = data)\n",
    "    print(summ(mdl, confint= TRUE, ci.width = 0.995,digits = 8))\n",
    "}"
   ]
  },
  {
   "cell_type": "markdown",
   "metadata": {
    "ExecuteTime": {
     "end_time": "2021-02-06T00:03:26.654721Z",
     "start_time": "2021-02-06T00:03:26.615Z"
    },
    "heading_collapsed": true
   },
   "source": [
    "# Equation 4: Total P vs. time (River)"
   ]
  },
  {
   "cell_type": "code",
   "execution_count": 14,
   "metadata": {
    "ExecuteTime": {
     "end_time": "2021-02-08T15:39:52.308057Z",
     "start_time": "2021-02-08T15:39:42.785Z"
    },
    "hidden": true
   },
   "outputs": [
    {
     "name": "stdout",
     "output_type": "stream",
     "text": [
      "                   0.25 %       99.75 %\n",
      "(Intercept)  6.010695e-02  6.685602e-02\n",
      "cd          -5.726992e-06 -2.823920e-06\n",
      "\n",
      "Call:\n",
      "lm(formula = eq, data = data)\n",
      "\n",
      "Residuals:\n",
      "     Min       1Q   Median       3Q      Max \n",
      "-0.05843 -0.02064 -0.00574  0.01533  0.27594 \n",
      "\n",
      "Coefficients:\n",
      "              Estimate Std. Error t value Pr(>|t|)    \n",
      "(Intercept)  6.348e-02  1.199e-03  52.962  < 2e-16 ***\n",
      "cd          -4.275e-06  5.156e-07  -8.292 5.08e-16 ***\n",
      "---\n",
      "Signif. codes:  0 '***' 0.001 '**' 0.01 '*' 0.05 '.' 0.1 ' ' 1\n",
      "\n",
      "Residual standard error: 0.03294 on 754 degrees of freedom\n",
      "  (45 observations deleted due to missingness)\n",
      "Multiple R-squared:  0.08358,\tAdjusted R-squared:  0.08236 \n",
      "F-statistic: 68.76 on 1 and 754 DF,  p-value: 5.083e-16\n",
      "\n"
     ]
    }
   ],
   "source": [
    "lgc = (vmm$basin1 == 0)\n",
    "eq = \"TP ~ 1 + cd\"\n",
    "a = 0.995\n",
    "lm_res(eq, vmm[lgc,],a)"
   ]
  },
  {
   "cell_type": "markdown",
   "metadata": {
    "heading_collapsed": true
   },
   "source": [
    "# Equation 5: Total P vs. time (Basin)"
   ]
  },
  {
   "cell_type": "code",
   "execution_count": 15,
   "metadata": {
    "ExecuteTime": {
     "end_time": "2021-02-08T15:39:52.352934Z",
     "start_time": "2021-02-08T15:39:42.797Z"
    },
    "hidden": true
   },
   "outputs": [
    {
     "name": "stdout",
     "output_type": "stream",
     "text": [
      "                   0.25 %       99.75 %\n",
      "(Intercept)  6.495091e-02  7.564937e-02\n",
      "cd          -5.253877e-06 -6.948193e-07\n",
      "\n",
      "Call:\n",
      "lm(formula = eq, data = data)\n",
      "\n",
      "Residuals:\n",
      "      Min        1Q    Median        3Q       Max \n",
      "-0.037728 -0.017738 -0.003262  0.015495  0.065413 \n",
      "\n",
      "Coefficients:\n",
      "              Estimate Std. Error t value Pr(>|t|)    \n",
      "(Intercept)  7.030e-02  1.877e-03  37.459  < 2e-16 ***\n",
      "cd          -2.974e-06  7.997e-07  -3.719 0.000284 ***\n",
      "---\n",
      "Signif. codes:  0 '***' 0.001 '**' 0.01 '*' 0.05 '.' 0.1 ' ' 1\n",
      "\n",
      "Residual standard error: 0.02283 on 146 degrees of freedom\n",
      "  (6 observations deleted due to missingness)\n",
      "Multiple R-squared:  0.08654,\tAdjusted R-squared:  0.08028 \n",
      "F-statistic: 13.83 on 1 and 146 DF,  p-value: 0.0002844\n",
      "\n"
     ]
    }
   ],
   "source": [
    "lgc = (vmm$basin1 ==1)\n",
    "eq = \"TP ~ 1 + cd\"\n",
    "lm_res(eq, vmm[lgc,],a)"
   ]
  },
  {
   "cell_type": "markdown",
   "metadata": {
    "heading_collapsed": true
   },
   "source": [
    "# Equation 6: Chl-*a* vs. time (River)"
   ]
  },
  {
   "cell_type": "code",
   "execution_count": 16,
   "metadata": {
    "ExecuteTime": {
     "end_time": "2021-02-08T15:39:52.399810Z",
     "start_time": "2021-02-08T15:39:42.806Z"
    },
    "hidden": true
   },
   "outputs": [
    {
     "name": "stdout",
     "output_type": "stream",
     "text": [
      "                   0.25 %       99.75 %\n",
      "(Intercept)  6.0696205884  8.4142714592\n",
      "cd          -0.0009981072 -0.0000138057\n",
      "\n",
      "Call:\n",
      "lm(formula = eq, data = data)\n",
      "\n",
      "Residuals:\n",
      "    Min      1Q  Median      3Q     Max \n",
      " -8.227  -5.580  -3.972   0.314 111.546 \n",
      "\n",
      "Coefficients:\n",
      "              Estimate Std. Error t value Pr(>|t|)    \n",
      "(Intercept)  7.2419460  0.4164784  17.389  < 2e-16 ***\n",
      "cd          -0.0005060  0.0001748  -2.894  0.00391 ** \n",
      "---\n",
      "Signif. codes:  0 '***' 0.001 '**' 0.01 '*' 0.05 '.' 0.1 ' ' 1\n",
      "\n",
      "Residual standard error: 11.78 on 799 degrees of freedom\n",
      "Multiple R-squared:  0.01037,\tAdjusted R-squared:  0.009134 \n",
      "F-statistic: 8.374 on 1 and 799 DF,  p-value: 0.00391\n",
      "\n"
     ]
    }
   ],
   "source": [
    "lgc = (vmm$basin1 ==0)\n",
    "eq = \"CA ~ 1 + cd\"\n",
    "lm_res(eq, vmm[lgc,],a)"
   ]
  },
  {
   "cell_type": "markdown",
   "metadata": {
    "ExecuteTime": {
     "end_time": "2021-02-06T14:28:48.674581Z",
     "start_time": "2021-02-06T14:28:48.644Z"
    },
    "heading_collapsed": true
   },
   "source": [
    "# Chl-*a* vs. time (Basin)"
   ]
  },
  {
   "cell_type": "code",
   "execution_count": 17,
   "metadata": {
    "ExecuteTime": {
     "end_time": "2021-02-08T15:39:52.594291Z",
     "start_time": "2021-02-08T15:39:42.815Z"
    },
    "hidden": true
   },
   "outputs": [
    {
     "name": "stdout",
     "output_type": "stream",
     "text": [
      "                  0.25 %      99.75 %\n",
      "(Intercept)  9.737739312 17.725334026\n",
      "cd          -0.002768669  0.000569407\n",
      "\n",
      "Call:\n",
      "lm(formula = eq, data = data)\n",
      "\n",
      "Residuals:\n",
      "    Min      1Q  Median      3Q     Max \n",
      "-15.447 -10.371  -5.942   2.832 109.972 \n",
      "\n",
      "Coefficients:\n",
      "              Estimate Std. Error t value Pr(>|t|)    \n",
      "(Intercept) 13.7315367  1.4020257   9.794   <2e-16 ***\n",
      "cd          -0.0010996  0.0005859  -1.877   0.0625 .  \n",
      "---\n",
      "Signif. codes:  0 '***' 0.001 '**' 0.01 '*' 0.05 '.' 0.1 ' ' 1\n",
      "\n",
      "Residual standard error: 17.39 on 152 degrees of freedom\n",
      "Multiple R-squared:  0.02265,\tAdjusted R-squared:  0.01622 \n",
      "F-statistic: 3.522 on 1 and 152 DF,  p-value: 0.06247\n",
      "\n"
     ]
    }
   ],
   "source": [
    "lgc = (vmm$basin1 ==1)\n",
    "eq = \"CA ~ 1 + cd\"\n",
    "lm_res(eq, vmm[lgc,],a)"
   ]
  },
  {
   "cell_type": "markdown",
   "metadata": {
    "heading_collapsed": true
   },
   "source": [
    "# Figure 3 draft: Boxplots of Nutrients "
   ]
  },
  {
   "cell_type": "code",
   "execution_count": 18,
   "metadata": {
    "ExecuteTime": {
     "end_time": "2021-02-08T15:39:52.627227Z",
     "start_time": "2021-02-08T15:39:42.827Z"
    },
    "hidden": true
   },
   "outputs": [],
   "source": [
    "fns <- function(series) {\n",
    "    print(summary(series[vmm$basin1 == 0]))\n",
    "    print(length(series[vmm$basin1 == 0])-summary(series[vmm$basin1 == 0])[7][1])\n",
    "    print(summary(series[vmm$basin1 == 1]))\n",
    "    print(length(series[vmm$basin1 == 1])-summary(series[vmm$basin1 == 1])[7][1])\n",
    "}"
   ]
  },
  {
   "cell_type": "code",
   "execution_count": 19,
   "metadata": {
    "ExecuteTime": {
     "end_time": "2021-02-08T15:39:54.323219Z",
     "start_time": "2021-02-08T15:39:42.830Z"
    },
    "hidden": true
   },
   "outputs": [
    {
     "data": {
      "image/png": "[encoded data removed]",
      "text/plain": [
       "plot without title"
      ]
     },
     "metadata": {
      "image/png": {
       "height": 420,
       "width": 420
      }
     },
     "output_type": "display_data"
    }
   ],
   "source": [
    "vmm$basin1 <- as.factor(vmm$basin1)\n",
    "p1<- ggplot(vmm, aes(x=basin1, y=TP,color=basin1)) + \n",
    "  geom_boxplot(notch = TRUE) + ylab('Total Phosphorus mg/L') +\n",
    "  scale_color_manual(values=c(\"#211c91\", \"#c30700\")) +\n",
    "  theme(legend.position = \"none\")\n",
    "p2<- ggplot(vmm, aes(x=basin1, y=OP,color=basin1)) + \n",
    "  geom_boxplot(notch = TRUE)+ ylab('Orthophosphate mg/L')+\n",
    "  scale_color_manual(values=c(\"#211c91\", \"#c30700\")) +\n",
    "  theme(legend.position = \"none\")\n",
    "p3<- ggplot(vmm, aes(x=basin1, y=TN,color=basin1)) + \n",
    "  geom_boxplot(notch = TRUE)+ ylab('Total Nitrogen mg/L') + \n",
    "  scale_color_manual(values=c(\"#211c91\", \"#c30700\")) +\n",
    "  theme(legend.position = \"none\")\n",
    "p4<- ggplot(vmm, aes(x=basin1, y=NN,color=basin1)) + \n",
    "  geom_boxplot(notch = TRUE) + ylab('Nitrate-Nitrite mg/L') +\n",
    "  scale_color_manual(values=c(\"#211c91\", \"#c30700\"))  +\n",
    "  theme(legend.position = \"none\")\n",
    "p5<- ggplot(vmm, aes(x=basin1, y=ammonia,color=basin1)) + \n",
    "  geom_boxplot(notch = TRUE) + ylab('Ammonia mg/L') +\n",
    "  scale_color_manual(values=c(\"#211c91\", \"#c30700\")) +\n",
    "  theme(legend.position = c(0.85, .8))\n",
    "\n",
    "p6<- ggplot(vmm, aes(x=basin1, y=CA,color=basin1)) + \n",
    "  geom_boxplot(notch = TRUE) + ylab('Chlorophyll-a ug/L') +\n",
    "  scale_color_manual(values=c(\"#211c91\", \"#c30700\")) +\n",
    "  theme(legend.position = \"none\")\n",
    "\n",
    "grid.arrange(p6,p1, p2, p3,p4,p5, nrow = 2)"
   ]
  },
  {
   "cell_type": "code",
   "execution_count": 20,
   "metadata": {
    "ExecuteTime": {
     "end_time": "2021-02-08T15:39:54.394027Z",
     "start_time": "2021-02-08T15:39:42.834Z"
    },
    "hidden": true
   },
   "outputs": [
    {
     "name": "stdout",
     "output_type": "stream",
     "text": [
      "   Min. 1st Qu.  Median    Mean 3rd Qu.    Max.    NA's \n",
      "0.01239 0.04086 0.05751 0.06383 0.07891 0.35620      45 \n",
      "NA's \n",
      " 756 \n",
      "   Min. 1st Qu.  Median    Mean 3rd Qu.    Max.    NA's \n",
      "0.02920 0.05135 0.06954 0.07045 0.08650 0.13385       6 \n",
      "NA's \n",
      " 148 \n"
     ]
    }
   ],
   "source": [
    "fns(vmm$TP)"
   ]
  },
  {
   "cell_type": "code",
   "execution_count": 21,
   "metadata": {
    "ExecuteTime": {
     "end_time": "2021-02-08T15:39:54.442898Z",
     "start_time": "2021-02-08T15:39:42.837Z"
    },
    "hidden": true
   },
   "outputs": [
    {
     "name": "stdout",
     "output_type": "stream",
     "text": [
      "   Min. 1st Qu.  Median    Mean 3rd Qu.    Max.    NA's \n",
      " 0.1031  0.9203  1.1206  1.4526  1.4944  9.6448      42 \n",
      "NA's \n",
      " 759 \n",
      "   Min. 1st Qu.  Median    Mean 3rd Qu.    Max.    NA's \n",
      " 0.3322  0.9765  1.1267  1.1678  1.3500  2.0200       8 \n",
      "NA's \n",
      " 146 \n"
     ]
    }
   ],
   "source": [
    "fns(vmm$TN)"
   ]
  },
  {
   "cell_type": "code",
   "execution_count": 22,
   "metadata": {
    "ExecuteTime": {
     "end_time": "2021-02-08T15:39:54.498747Z",
     "start_time": "2021-02-08T15:39:42.840Z"
    },
    "hidden": true
   },
   "outputs": [
    {
     "name": "stdout",
     "output_type": "stream",
     "text": [
      "   Min. 1st Qu.  Median    Mean 3rd Qu.    Max.    NA's \n",
      "0.00051 0.01048 0.01741 0.02068 0.02784 0.09940      38 \n",
      "NA's \n",
      " 763 \n",
      "   Min. 1st Qu.  Median    Mean 3rd Qu.    Max.    NA's \n",
      "0.00070 0.01145 0.02033 0.02187 0.03110 0.06839       6 \n",
      "NA's \n",
      " 148 \n"
     ]
    }
   ],
   "source": [
    "fns(vmm$OP)"
   ]
  },
  {
   "cell_type": "code",
   "execution_count": 23,
   "metadata": {
    "ExecuteTime": {
     "end_time": "2021-02-08T15:39:54.556592Z",
     "start_time": "2021-02-08T15:39:42.844Z"
    },
    "hidden": true
   },
   "outputs": [
    {
     "name": "stdout",
     "output_type": "stream",
     "text": [
      "   Min. 1st Qu.  Median    Mean 3rd Qu.    Max.    NA's \n",
      "0.00158 0.37400 0.63452 0.87477 0.95668 8.09404      28 \n",
      "NA's \n",
      " 773 \n",
      "   Min. 1st Qu.  Median    Mean 3rd Qu.    Max.    NA's \n",
      "0.00035 0.35130 0.56008 0.53862 0.74484 1.32000       4 \n",
      "NA's \n",
      " 150 \n"
     ]
    }
   ],
   "source": [
    "fns(vmm$NN)"
   ]
  },
  {
   "cell_type": "code",
   "execution_count": 24,
   "metadata": {
    "ExecuteTime": {
     "end_time": "2021-02-08T15:39:54.606462Z",
     "start_time": "2021-02-08T15:39:42.847Z"
    },
    "hidden": true
   },
   "outputs": [
    {
     "name": "stdout",
     "output_type": "stream",
     "text": [
      "   Min. 1st Qu.  Median    Mean 3rd Qu.    Max.    NA's \n",
      "0.00000 0.02721 0.05042 0.07369 0.08727 1.62481      10 \n",
      "NA's \n",
      " 791 \n",
      "   Min. 1st Qu.  Median    Mean 3rd Qu.    Max.    NA's \n",
      "0.00000 0.04341 0.10200 0.12409 0.17300 0.49000       3 \n",
      "NA's \n",
      " 151 \n"
     ]
    }
   ],
   "source": [
    "fns(vmm$ammonia)"
   ]
  },
  {
   "cell_type": "code",
   "execution_count": 25,
   "metadata": {
    "ExecuteTime": {
     "end_time": "2021-02-08T15:39:54.657324Z",
     "start_time": "2021-02-08T15:39:42.850Z"
    },
    "hidden": true
   },
   "outputs": [
    {
     "name": "stdout",
     "output_type": "stream",
     "text": [
      "   Min. 1st Qu.  Median    Mean 3rd Qu.    Max. \n",
      "  0.350   1.540   2.930   7.219   7.370 118.000 \n",
      "<NA> \n",
      "     \n",
      "   Min. 1st Qu.  Median    Mean 3rd Qu.    Max. \n",
      "  0.710   2.465   7.010  13.643  15.950 124.000 \n",
      "<NA> \n",
      "     \n"
     ]
    }
   ],
   "source": [
    "fns(vmm$CA)"
   ]
  },
  {
   "cell_type": "markdown",
   "metadata": {
    "heading_collapsed": true
   },
   "source": [
    "# Logit Regression"
   ]
  },
  {
   "cell_type": "markdown",
   "metadata": {
    "heading_collapsed": true,
    "hidden": true
   },
   "source": [
    "## Basin"
   ]
  },
  {
   "cell_type": "code",
   "execution_count": 26,
   "metadata": {
    "ExecuteTime": {
     "end_time": "2021-02-08T15:39:54.720159Z",
     "start_time": "2021-02-08T15:39:42.871Z"
    },
    "hidden": true
   },
   "outputs": [],
   "source": [
    "vmm$month <- as.double(format(vmm$DATE, \"%m\"))\n",
    "vmm$Year <- as.double(format(vmm$DATE, \"%Y\"))\n",
    "#APRIL to October\n",
    "basin<- vmm[(vmm$basin1 ==1),]\n",
    "lgc <- (basin$month >= 4 & basin$month <=10)\n",
    "apr_oct_b <- basin[lgc,]"
   ]
  },
  {
   "cell_type": "code",
   "execution_count": 27,
   "metadata": {
    "ExecuteTime": {
     "end_time": "2021-02-08T15:39:54.816916Z",
     "start_time": "2021-02-08T15:39:42.873Z"
    },
    "hidden": true
   },
   "outputs": [
    {
     "name": "stderr",
     "output_type": "stream",
     "text": [
      "`summarise()` ungrouping output (override with `.groups` argument)\n",
      "\n"
     ]
    }
   ],
   "source": [
    "#apr_oct_b <- apr_oct_b[complete.cases(apr_oct$CA), ]\n",
    "apr_oct_b <- apr_oct_b %>%\n",
    "    group_by(Year) %>%\n",
    "    summarise(mean_CA = mean(CA, na.rm = TRUE))\n",
    "\n",
    "apr_oct_b$pass_fail <- as.integer(apr_oct_b$mean_CA < 10)\n",
    "apr_oct_b$ctr_yr <- apr_oct_b$Year -mean(apr_oct_b$Year)"
   ]
  },
  {
   "cell_type": "code",
   "execution_count": 28,
   "metadata": {
    "ExecuteTime": {
     "end_time": "2021-02-08T15:39:54.880723Z",
     "start_time": "2021-02-08T15:39:42.877Z"
    },
    "hidden": true
   },
   "outputs": [
    {
     "data": {
      "text/plain": [
       "\n",
       "Call:\n",
       "glm(formula = pass_fail ~ ctr_yr, family = \"binomial\", data = apr_oct_b)\n",
       "\n",
       "Deviance Residuals: \n",
       "    Min       1Q   Median       3Q      Max  \n",
       "-1.3481  -0.6092  -0.3229  -0.1776   1.8886  \n",
       "\n",
       "Coefficients:\n",
       "            Estimate Std. Error z value Pr(>|z|)  \n",
       "(Intercept)  -1.8208     0.7667  -2.375   0.0176 *\n",
       "ctr_yr        0.2214     0.1152   1.922   0.0546 .\n",
       "---\n",
       "Signif. codes:  0 '***' 0.001 '**' 0.01 '*' 0.05 '.' 0.1 ' ' 1\n",
       "\n",
       "(Dispersion parameter for binomial family taken to be 1)\n",
       "\n",
       "    Null deviance: 24.085  on 22  degrees of freedom\n",
       "Residual deviance: 18.541  on 21  degrees of freedom\n",
       "AIC: 22.541\n",
       "\n",
       "Number of Fisher Scoring iterations: 5\n"
      ]
     },
     "metadata": {},
     "output_type": "display_data"
    }
   ],
   "source": [
    "model_weight <- glm(pass_fail ~ ctr_yr, data = apr_oct_b, family = \"binomial\")\n",
    "summary(model_weight)"
   ]
  },
  {
   "cell_type": "code",
   "execution_count": 29,
   "metadata": {
    "ExecuteTime": {
     "end_time": "2021-02-08T15:39:55.011376Z",
     "start_time": "2021-02-08T15:39:42.880Z"
    },
    "hidden": true
   },
   "outputs": [
    {
     "data": {
      "image/png": "[encoded data removed]",
      "text/plain": [
       "plot without title"
      ]
     },
     "metadata": {
      "image/png": {
       "height": 420,
       "width": 420
      }
     },
     "output_type": "display_data"
    }
   ],
   "source": [
    "xweight <- seq(-15,15,0.5)\n",
    "yweight <- predict(model_weight, list(ctr_yr = xweight),type=\"response\")\n",
    "\n",
    "plot(apr_oct_b$ctr_yr[lgc], apr_oct_b$pass_fail[lgc], pch = 16, xlab = \"years since 2008\", ylab = \"meets 10 ug/l standard?\")\n",
    "lines(xweight, yweight)"
   ]
  },
  {
   "cell_type": "markdown",
   "metadata": {
    "heading_collapsed": true,
    "hidden": true
   },
   "source": [
    "## River/ not-basin"
   ]
  },
  {
   "cell_type": "code",
   "execution_count": 30,
   "metadata": {
    "ExecuteTime": {
     "end_time": "2021-02-08T15:39:55.174208Z",
     "start_time": "2021-02-08T15:39:42.891Z"
    },
    "hidden": true
   },
   "outputs": [
    {
     "name": "stderr",
     "output_type": "stream",
     "text": [
      "`summarise()` ungrouping output (override with `.groups` argument)\n",
      "\n"
     ]
    },
    {
     "data": {
      "text/plain": [
       "\n",
       "Call:\n",
       "glm(formula = pass_fail ~ ctr_yr, family = \"binomial\", data = apr_oct_nb)\n",
       "\n",
       "Deviance Residuals: \n",
       "    Min       1Q   Median       3Q      Max  \n",
       "-1.7885  -1.1155   0.6984   0.9223   1.1847  \n",
       "\n",
       "Coefficients:\n",
       "            Estimate Std. Error z value Pr(>|z|)\n",
       "(Intercept)  0.67832    0.46065   1.473    0.141\n",
       "ctr_yr       0.08692    0.07105   1.223    0.221\n",
       "\n",
       "(Dispersion parameter for binomial family taken to be 1)\n",
       "\n",
       "    Null deviance: 29.720  on 22  degrees of freedom\n",
       "Residual deviance: 28.109  on 21  degrees of freedom\n",
       "AIC: 32.109\n",
       "\n",
       "Number of Fisher Scoring iterations: 4\n"
      ]
     },
     "metadata": {},
     "output_type": "display_data"
    },
    {
     "data": {
      "image/png": "[encoded data removed]",
      "text/plain": [
       "plot without title"
      ]
     },
     "metadata": {
      "image/png": {
       "height": 420,
       "width": 420
      }
     },
     "output_type": "display_data"
    }
   ],
   "source": [
    "vmm$month <- as.double(format(vmm$DATE, \"%m\"))\n",
    "vmm$Year <- as.double(format(vmm$DATE, \"%Y\"))\n",
    "#APRIL to October\n",
    "nb<- vmm[(vmm$basin1 ==0),]\n",
    "lgc <- (nb$month >= 4 & nb$month <=10)\n",
    "apr_oct_nb <- nb[lgc,]\n",
    "\n",
    "#apr_oct_b <- apr_oct_b[complete.cases(apr_oct$CA), ]\n",
    "apr_oct_nb <- apr_oct_nb %>%\n",
    "    group_by(Year) %>%\n",
    "    summarise(mean_CA = mean(CA, na.rm = TRUE))\n",
    "\n",
    "apr_oct_nb$pass_fail <- as.integer(apr_oct_nb$mean_CA < 10)\n",
    "apr_oct_nb$ctr_yr <- apr_oct_b$Year -mean(apr_oct_nb$Year)\n",
    "\n",
    "model_weight <- glm(pass_fail ~ ctr_yr, data = apr_oct_nb, family = \"binomial\")\n",
    "summary(model_weight)\n",
    "\n",
    "xweight <- seq(-15,15,0.5)\n",
    "yweight <- predict(model_weight, list(ctr_yr = xweight),type=\"response\")\n",
    "\n",
    "plot(apr_oct_nb$ctr_yr[lgc], apr_oct_nb$pass_fail[lgc], pch = 16, xlab = \"years since 2008\", ylab = \"meets 10 ug/l standard?\")\n",
    "lines(xweight, yweight)"
   ]
  },
  {
   "cell_type": "markdown",
   "metadata": {
    "ExecuteTime": {
     "end_time": "2021-02-06T00:06:29.145033Z",
     "start_time": "2021-02-06T00:06:29.108Z"
    },
    "heading_collapsed": true
   },
   "source": [
    "# Equation 7: Chl-*a* vs. TP"
   ]
  },
  {
   "cell_type": "code",
   "execution_count": 31,
   "metadata": {
    "ExecuteTime": {
     "end_time": "2021-02-08T15:39:55.225070Z",
     "start_time": "2021-02-08T15:39:42.900Z"
    },
    "hidden": true
   },
   "outputs": [
    {
     "name": "stdout",
     "output_type": "stream",
     "text": [
      "                0.25 %    99.75 %\n",
      "(Intercept) -0.9294381   4.391732\n",
      "TP          63.5874460 136.684836\n",
      "\n",
      "Call:\n",
      "lm(formula = eq, data = data)\n",
      "\n",
      "Residuals:\n",
      "    Min      1Q  Median      3Q     Max \n",
      "-29.830  -5.895  -3.726   1.164 109.242 \n",
      "\n",
      "Coefficients:\n",
      "            Estimate Std. Error t value Pr(>|t|)    \n",
      "(Intercept)   1.7311     0.9455   1.831   0.0674 .  \n",
      "TP          100.1361    12.9884   7.710 3.33e-14 ***\n",
      "---\n",
      "Signif. codes:  0 '***' 0.001 '**' 0.01 '*' 0.05 '.' 0.1 ' ' 1\n",
      "\n",
      "Residual standard error: 12.87 on 902 degrees of freedom\n",
      "  (51 observations deleted due to missingness)\n",
      "Multiple R-squared:  0.06182,\tAdjusted R-squared:  0.06078 \n",
      "F-statistic: 59.44 on 1 and 902 DF,  p-value: 3.327e-14\n",
      "\n"
     ]
    }
   ],
   "source": [
    "eq= \"CA ~ 1 + TP\"\n",
    "lm_res(eq, vmm,a)"
   ]
  },
  {
   "cell_type": "code",
   "execution_count": 32,
   "metadata": {
    "ExecuteTime": {
     "end_time": "2021-02-08T15:39:55.276932Z",
     "start_time": "2021-02-08T15:39:42.904Z"
    },
    "hidden": true
   },
   "outputs": [
    {
     "name": "stdout",
     "output_type": "stream",
     "text": [
      "    0.25 %  99.75 %\n",
      "TP 104.779 137.9051\n",
      "\n",
      "Call:\n",
      "lm(formula = eq, data = data)\n",
      "\n",
      "Residuals:\n",
      "    Min      1Q  Median      3Q     Max \n",
      "-35.652  -5.530  -3.035   1.618 108.215 \n",
      "\n",
      "Coefficients:\n",
      "   Estimate Std. Error t value Pr(>|t|)    \n",
      "TP  121.342      5.886   20.61   <2e-16 ***\n",
      "---\n",
      "Signif. codes:  0 '***' 0.001 '**' 0.01 '*' 0.05 '.' 0.1 ' ' 1\n",
      "\n",
      "Residual standard error: 12.88 on 903 degrees of freedom\n",
      "  (51 observations deleted due to missingness)\n",
      "Multiple R-squared:   0.32,\tAdjusted R-squared:  0.3193 \n",
      "F-statistic:   425 on 1 and 903 DF,  p-value: < 2.2e-16\n",
      "\n"
     ]
    }
   ],
   "source": [
    "a = 0.995\n",
    "eq= \"CA ~ -1 + TP\"\n",
    "lm_res(eq, vmm,a)"
   ]
  },
  {
   "cell_type": "markdown",
   "metadata": {
    "heading_collapsed": true
   },
   "source": [
    "# Equation 8: Chl-*a* vs. TN:TP ratio"
   ]
  },
  {
   "cell_type": "code",
   "execution_count": 33,
   "metadata": {
    "ExecuteTime": {
     "end_time": "2021-02-08T15:39:55.326799Z",
     "start_time": "2021-02-08T15:39:42.913Z"
    },
    "hidden": true
   },
   "outputs": [
    {
     "name": "stdout",
     "output_type": "stream",
     "text": [
      "                0.25 %     99.75 %\n",
      "(Intercept)  8.7388539 12.27478032\n",
      "ratio       -0.1299535 -0.03546017\n",
      "\n",
      "Call:\n",
      "lm(formula = eq, data = data)\n",
      "\n",
      "Residuals:\n",
      "    Min      1Q  Median      3Q     Max \n",
      " -8.870  -6.956  -4.715   1.145 114.464 \n",
      "\n",
      "Coefficients:\n",
      "            Estimate Std. Error t value Pr(>|t|)    \n",
      "(Intercept) 10.50682    0.62825  16.724   <2e-16 ***\n",
      "ratio       -0.08271    0.01679  -4.926    1e-06 ***\n",
      "---\n",
      "Signif. codes:  0 '***' 0.001 '**' 0.01 '*' 0.05 '.' 0.1 ' ' 1\n",
      "\n",
      "Residual standard error: 13.2 on 885 degrees of freedom\n",
      "  (68 observations deleted due to missingness)\n",
      "Multiple R-squared:  0.02669,\tAdjusted R-squared:  0.02559 \n",
      "F-statistic: 24.27 on 1 and 885 DF,  p-value: 1.001e-06\n",
      "\n"
     ]
    }
   ],
   "source": [
    "eq <- \"CA ~ 1 + ratio\"\n",
    "lm_res(eq, vmm,a)"
   ]
  },
  {
   "cell_type": "markdown",
   "metadata": {
    "heading_collapsed": true
   },
   "source": [
    "# Equation 9: TN:TP ratio vs. time"
   ]
  },
  {
   "cell_type": "code",
   "execution_count": 34,
   "metadata": {
    "ExecuteTime": {
     "end_time": "2021-02-08T15:39:55.369693Z",
     "start_time": "2021-02-08T15:39:42.923Z"
    },
    "hidden": true
   },
   "outputs": [
    {
     "name": "stdout",
     "output_type": "stream",
     "text": [
      "                0.25 %   99.75 %\n",
      "(Intercept) 24.3891278 29.310467\n",
      "cy           0.3795008  1.154706\n",
      "\n",
      "Call:\n",
      "lm(formula = eq, data = data)\n",
      "\n",
      "Residuals:\n",
      "    Min      1Q  Median      3Q     Max \n",
      "-26.246 -12.084  -5.727   2.402 292.918 \n",
      "\n",
      "Coefficients:\n",
      "            Estimate Std. Error t value Pr(>|t|)    \n",
      "(Intercept)  26.8498     0.8744  30.706  < 2e-16 ***\n",
      "cy            0.7671     0.1377   5.569 3.39e-08 ***\n",
      "---\n",
      "Signif. codes:  0 '***' 0.001 '**' 0.01 '*' 0.05 '.' 0.1 ' ' 1\n",
      "\n",
      "Residual standard error: 25.98 on 885 degrees of freedom\n",
      "  (68 observations deleted due to missingness)\n",
      "Multiple R-squared:  0.03386,\tAdjusted R-squared:  0.03277 \n",
      "F-statistic: 31.02 on 1 and 885 DF,  p-value: 3.392e-08\n",
      "\n"
     ]
    }
   ],
   "source": [
    "eq<- \"ratio ~ 1 + cy\" \n",
    "lm_res(eq, vmm, a)"
   ]
  },
  {
   "cell_type": "markdown",
   "metadata": {
    "heading_collapsed": true
   },
   "source": [
    "#  Figure 5 draft: TN vs Chl-*a*, TN:TP vs Chl-*a*, TP vs Chl-*a* "
   ]
  },
  {
   "cell_type": "code",
   "execution_count": 35,
   "metadata": {
    "ExecuteTime": {
     "end_time": "2021-02-08T15:39:55.437512Z",
     "start_time": "2021-02-08T15:39:42.933Z"
    },
    "hidden": true
   },
   "outputs": [],
   "source": [
    "figTN <- ggplot(vmm, aes(x=TN, y=CA, color=as.factor(basin1))) + \n",
    "    geom_point(size=1.5, alpha = 0.75)+\n",
    "    scale_x_log10()+\n",
    "    scale_y_log10()+\n",
    "    scale_color_manual(values = c(\"#211c91\", \"#c30700\"))+\n",
    "    theme(legend.position = \"none\")\n",
    "\n",
    "\n",
    "figTNTP <- ggplot(vmm, aes(x=ratio, y=CA, color=as.factor(basin1))) + \n",
    "    geom_point(size=1.5, alpha = 0.75)+\n",
    "    scale_x_log10()+\n",
    "    scale_y_log10()+\n",
    "    scale_color_manual(values=c(\"#211c91\", \"#c30700\")) +\n",
    "    theme(legend.position = \"none\") + \n",
    "    geom_vline(xintercept=7)+ geom_vline(xintercept=29)\n",
    "\n",
    "\n",
    "figTP <- ggplot(vmm, aes(x=TP, y=CA, color=as.factor(basin1))) + \n",
    "    geom_point(size=1.5, alpha = 0.75)+\n",
    "    scale_x_log10()+\n",
    "    scale_y_log10()+\n",
    "    scale_color_manual(values=c(\"#211c91\", \"#c30700\")) +\n",
    "    theme(legend.position = c(0.91, 0.07))"
   ]
  },
  {
   "cell_type": "code",
   "execution_count": 36,
   "metadata": {
    "ExecuteTime": {
     "end_time": "2021-02-08T15:39:56.771726Z",
     "start_time": "2021-02-08T15:39:42.937Z"
    },
    "hidden": true
   },
   "outputs": [
    {
     "data": {
      "image/png": "[encoded data removed]",
      "text/plain": [
       "plot without title"
      ]
     },
     "metadata": {
      "image/png": {
       "height": 420,
       "width": 420
      }
     },
     "output_type": "display_data"
    }
   ],
   "source": [
    "plot3<- ggarrange(figTN +\n",
    "               theme(axis.ticks.y = element_blank(),\n",
    "                     plot.margin = margin(r = 1) ), \n",
    "          figTNTP + \n",
    "               theme(axis.text.y = element_blank(),\n",
    "                     axis.ticks.y = element_blank(),\n",
    "                     axis.title.y = element_blank(),\n",
    "                     plot.margin = margin(r = 1, l = 1) ), \n",
    "          figTP +\n",
    "               theme(axis.text.y = element_blank(),\n",
    "                     axis.ticks.y = element_blank(),\n",
    "                     axis.title.y = element_blank(),\n",
    "                     plot.margin = margin(l = 1)  ),\n",
    "          nrow = 1) \n",
    "#ggsave(plot3, filename = \"multi.page.ggplot2.svg\")\n",
    "plot3"
   ]
  },
  {
   "cell_type": "markdown",
   "metadata": {
    "heading_collapsed": true
   },
   "source": [
    "# Multiple quantile regression coefficients"
   ]
  },
  {
   "cell_type": "markdown",
   "metadata": {
    "heading_collapsed": true,
    "hidden": true
   },
   "source": [
    "## Finding the strongest correlation between chlorophyll-*a* and mean precipitation"
   ]
  },
  {
   "cell_type": "code",
   "execution_count": 37,
   "metadata": {
    "ExecuteTime": {
     "end_time": "2021-02-08T15:40:00.377185Z",
     "start_time": "2021-02-08T15:39:42.951Z"
    },
    "hidden": true
   },
   "outputs": [
    {
     "name": "stdout",
     "output_type": "stream",
     "text": [
      "[1] 73\n"
     ]
    }
   ],
   "source": [
    "vmm$prcp73 <- range_means(vmm$DATE,wea$DateVal,wea$PRCPmm, vmm$CA)"
   ]
  },
  {
   "cell_type": "markdown",
   "metadata": {
    "ExecuteTime": {
     "end_time": "2021-02-06T00:58:39.628056Z",
     "start_time": "2021-02-06T00:58:39.592Z"
    },
    "heading_collapsed": true,
    "hidden": true
   },
   "source": [
    "## Fitting the quantile regression models"
   ]
  },
  {
   "cell_type": "code",
   "execution_count": 38,
   "metadata": {
    "ExecuteTime": {
     "end_time": "2021-02-08T15:40:00.423062Z",
     "start_time": "2021-02-08T15:39:42.963Z"
    },
    "hidden": true
   },
   "outputs": [],
   "source": [
    "vmm_model <- data.frame(vmm$CA, vmm$pred_watertemp, vmm$TP, vmm$basin1, vmm$prcp73)#, vmm$TN,vmm$OP,vmm$NN)\n",
    "colnames(vmm_model) <- c('CA', 'pred_watertemp', 'TP', 'basin1', 'prcp73')#, 'TN', 'OP', 'NN')\n",
    "vmm_model<- vmm_model[complete.cases(vmm_model), ]"
   ]
  },
  {
   "cell_type": "code",
   "execution_count": 39,
   "metadata": {
    "ExecuteTime": {
     "end_time": "2021-02-08T15:40:00.469936Z",
     "start_time": "2021-02-08T15:39:42.966Z"
    },
    "hidden": true
   },
   "outputs": [],
   "source": [
    "eq<- 'CA ~ 1 + pred_watertemp + TP + basin1 + prcp73'\n",
    "alpha<- 0.005\n",
    "data<- vmm_model"
   ]
  },
  {
   "cell_type": "markdown",
   "metadata": {
    "ExecuteTime": {
     "end_time": "2021-02-06T00:48:44.293837Z",
     "start_time": "2021-02-06T00:48:44.263Z"
    },
    "heading_collapsed": true,
    "hidden": true
   },
   "source": [
    "## 0.25"
   ]
  },
  {
   "cell_type": "code",
   "execution_count": 40,
   "metadata": {
    "ExecuteTime": {
     "end_time": "2021-02-08T15:40:00.552012Z",
     "start_time": "2021-02-08T15:39:42.976Z"
    },
    "hidden": true
   },
   "outputs": [
    {
     "name": "stdout",
     "output_type": "stream",
     "text": [
      "\u001b[4mMODEL INFO:\u001b[24m\n",
      "\u001b[3mObservations:\u001b[23m 904\n",
      "\u001b[3mDependent Variable:\u001b[23m CA\n",
      "\u001b[3mType:\u001b[23m Quantile regression\n",
      "  \u001b[3mQuantile (tau): \u001b[23m0.25\n",
      "  \u001b[3mMethod: \u001b[23mBarrodale-Roberts \n",
      "\n",
      "\u001b[4mMODEL FIT:\u001b[24m\n",
      "\u001b[3mR¹\u001b[23m(0.25) = 0.052836 \n",
      "\n",
      "\u001b[3mStandard errors: Sandwich (Huber)\u001b[23m\n",
      "--------------------------------------------------------------------------------\n",
      "                            Est.        0.3%       99.8%       t val.          p\n",
      "-------------------- ----------- ----------- ----------- ------------ ----------\n",
      "(Intercept)             2.331271    1.560067    3.102474     8.506380   0.000000\n",
      "pred_watertemp          0.066580    0.033746    0.099415     5.706101   0.000000\n",
      "TP                      9.948800    1.766651   18.130949     3.421562   0.000651\n",
      "basin11                 1.010853    0.223099    1.798608     3.610924   0.000322\n",
      "prcp73                 -0.637790   -0.793134   -0.482447   -11.553283   0.000000\n",
      "--------------------------------------------------------------------------------\n"
     ]
    }
   ],
   "source": [
    "tau<- 0.25\n",
    "\n",
    "mdl <- rq(eq, tau = tau, alpha = alpha, data = data)\n",
    "s<- summ(mdl, confint= TRUE, ci.width = 0.995,digits = 6)\n",
    "print(s)"
   ]
  },
  {
   "cell_type": "markdown",
   "metadata": {
    "heading_collapsed": true,
    "hidden": true
   },
   "source": [
    "## 0.50"
   ]
  },
  {
   "cell_type": "code",
   "execution_count": 41,
   "metadata": {
    "ExecuteTime": {
     "end_time": "2021-02-08T15:40:00.627808Z",
     "start_time": "2021-02-08T15:39:42.986Z"
    },
    "hidden": true
   },
   "outputs": [
    {
     "name": "stdout",
     "output_type": "stream",
     "text": [
      "\u001b[4mMODEL INFO:\u001b[24m\n",
      "\u001b[3mObservations:\u001b[23m 904\n",
      "\u001b[3mDependent Variable:\u001b[23m CA\n",
      "\u001b[3mType:\u001b[23m Quantile regression\n",
      "  \u001b[3mQuantile (tau): \u001b[23m0.5\n",
      "  \u001b[3mMethod: \u001b[23mBarrodale-Roberts \n",
      "\n",
      "\u001b[4mMODEL FIT:\u001b[24m\n",
      "\u001b[3mR¹\u001b[23m(0.5) = 0.092576 \n",
      "\n",
      "\u001b[3mStandard errors: Sandwich (Huber)\u001b[23m\n",
      "-------------------------------------------------------------------------------\n",
      "                            Est.        0.3%       99.8%      t val.          p\n",
      "-------------------- ----------- ----------- ----------- ----------- ----------\n",
      "(Intercept)             4.109143    2.268304    5.949981    6.281403   0.000000\n",
      "pred_watertemp          0.178430    0.106868    0.249992    7.016256   0.000000\n",
      "TP                      4.879210   -8.201781   17.960200    1.049615   0.294177\n",
      "basin11                 3.874263    0.545574    7.202951    3.275194   0.001096\n",
      "prcp73                 -1.041956   -1.464660   -0.619253   -6.936417   0.000000\n",
      "-------------------------------------------------------------------------------\n"
     ]
    }
   ],
   "source": [
    "tau<- 0.50\n",
    "\n",
    "mdl <- rq(eq, tau = tau, alpha = alpha, data = data)\n",
    "s<- summ(mdl, confint= TRUE, ci.width = 0.995,digits = 6)\n",
    "print(s)"
   ]
  },
  {
   "cell_type": "markdown",
   "metadata": {
    "heading_collapsed": true,
    "hidden": true
   },
   "source": [
    "## 0.75"
   ]
  },
  {
   "cell_type": "code",
   "execution_count": 42,
   "metadata": {
    "ExecuteTime": {
     "end_time": "2021-02-08T15:40:00.696625Z",
     "start_time": "2021-02-08T15:39:42.993Z"
    },
    "hidden": true
   },
   "outputs": [
    {
     "name": "stdout",
     "output_type": "stream",
     "text": [
      "\u001b[4mMODEL INFO:\u001b[24m\n",
      "\u001b[3mObservations:\u001b[23m 904\n",
      "\u001b[3mDependent Variable:\u001b[23m CA\n",
      "\u001b[3mType:\u001b[23m Quantile regression\n",
      "  \u001b[3mQuantile (tau): \u001b[23m0.75\n",
      "  \u001b[3mMethod: \u001b[23mBarrodale-Roberts \n",
      "\n",
      "\u001b[4mMODEL FIT:\u001b[24m\n",
      "\u001b[3mR¹\u001b[23m(0.75) = 0.172166 \n",
      "\n",
      "\u001b[3mStandard errors: Sandwich (Huber)\u001b[23m\n",
      "--------------------------------------------------------------------------------\n",
      "                            Est.         0.3%       99.8%      t val.          p\n",
      "-------------------- ----------- ------------ ----------- ----------- ----------\n",
      "(Intercept)             9.400014     4.491521   14.308507    5.388917   0.000000\n",
      "pred_watertemp          0.417155     0.206858    0.627451    5.581963   0.000000\n",
      "TP                     18.251579   -35.444253   71.947412    0.956491   0.339081\n",
      "basin11                 6.718165     1.242282   12.194048    3.452372   0.000582\n",
      "prcp73                 -2.465443    -3.506543   -1.424343   -6.663826   0.000000\n",
      "--------------------------------------------------------------------------------\n"
     ]
    }
   ],
   "source": [
    "tau<- 0.75\n",
    "\n",
    "mdl <- rq(eq, tau = tau, alpha = alpha, data = data)\n",
    "s<- summ(mdl, confint= TRUE, ci.width = 0.995,digits = 6)\n",
    "print(s)"
   ]
  },
  {
   "cell_type": "markdown",
   "metadata": {
    "heading_collapsed": true,
    "hidden": true
   },
   "source": [
    "## 0.95"
   ]
  },
  {
   "cell_type": "code",
   "execution_count": 43,
   "metadata": {
    "ExecuteTime": {
     "end_time": "2021-02-08T15:40:00.780401Z",
     "start_time": "2021-02-08T15:39:43.003Z"
    },
    "hidden": true
   },
   "outputs": [
    {
     "name": "stdout",
     "output_type": "stream",
     "text": [
      "\u001b[4mMODEL INFO:\u001b[24m\n",
      "\u001b[3mObservations:\u001b[23m 904\n",
      "\u001b[3mDependent Variable:\u001b[23m CA\n",
      "\u001b[3mType:\u001b[23m Quantile regression\n",
      "  \u001b[3mQuantile (tau): \u001b[23m0.95\n",
      "  \u001b[3mMethod: \u001b[23mBarrodale-Roberts \n",
      "\n",
      "\u001b[4mMODEL FIT:\u001b[24m\n",
      "\u001b[3mR¹\u001b[23m(0.95) = 0.295290 \n",
      "\n",
      "\u001b[3mStandard errors: Sandwich (Huber)\u001b[23m\n",
      "----------------------------------------------------------------------------------\n",
      "                             Est.         0.3%        99.8%      t val.          p\n",
      "-------------------- ------------ ------------ ------------ ----------- ----------\n",
      "(Intercept)              3.313574    -8.137317    14.764465    0.814289   0.415695\n",
      "pred_watertemp           0.900743     0.416936     1.384550    5.239019   0.000000\n",
      "TP                     298.416079   111.745606   485.086552    4.498500   0.000008\n",
      "basin11                 10.768824     5.941682    15.595965    6.277683   0.000000\n",
      "prcp73                  -2.839123    -5.280864    -0.397383   -3.271944   0.001109\n",
      "----------------------------------------------------------------------------------\n"
     ]
    }
   ],
   "source": [
    "tau<- 0.95\n",
    "\n",
    "mdl <- rq(eq, tau = tau, alpha = alpha, data = data)\n",
    "s<- summ(mdl, confint= TRUE, ci.width = 0.995,digits = 6)\n",
    "print(s)"
   ]
  },
  {
   "cell_type": "markdown",
   "metadata": {
    "heading_collapsed": true
   },
   "source": [
    "# Table 3: AICc of multiple quantile regression models"
   ]
  },
  {
   "cell_type": "code",
   "execution_count": 44,
   "metadata": {
    "ExecuteTime": {
     "end_time": "2021-02-08T15:40:00.827276Z",
     "start_time": "2021-02-08T15:39:43.014Z"
    },
    "hidden": true
   },
   "outputs": [],
   "source": [
    "formulas <- c('CA ~ 1 + pred_watertemp', \n",
    "              'CA ~ 1 + TP',\n",
    "              'CA ~ 1 + basin1', \n",
    "              'CA ~ 1 + prcp73',\n",
    "              'CA ~ 1 + pred_watertemp + TP', \n",
    "              'CA ~ 1 + pred_watertemp + basin1', \n",
    "              'CA ~ 1 + pred_watertemp + prcp73',\n",
    "              'CA ~ 1 + TP + basin1', \n",
    "              'CA ~ 1 + TP + prcp73',\n",
    "              'CA ~ 1 + basin1 + prcp73',\n",
    "              'CA ~ 1 + pred_watertemp + TP + basin1', \n",
    "              'CA ~ 1 + pred_watertemp + TP + prcp73', \n",
    "              'CA ~ 1 + prcp73 + TP+ basin1', \n",
    "              'CA ~ 1 + prcp73 + pred_watertemp + basin1', \n",
    "              'CA ~ 1 + pred_watertemp + TP + basin1 + prcp73') \n",
    "\n",
    "myfunction <- function(tau){\n",
    "    i = 1;\n",
    "    ac<- c();\n",
    "    for (f in formulas){\n",
    "     mdl <- rq(f, tau = tau, alpha = 0.005, data = vmm)\n",
    "     ac[i] <- AICc(mdl)\n",
    "     i=i+1;\n",
    "    }\n",
    "    i_aicc = match(min(ac),ac)\n",
    "    return(ac)\n",
    "}\n",
    "\n",
    "vmm_model <- data.frame(vmm$CA, vmm$pred_watertemp, vmm$TP, vmm$basin1, vmm$prcp73, vmm$TN,vmm$OP,vmm$NN)\n",
    "colnames(vmm_model) <- c('CA', 'pred_watertemp', 'TP', 'basin1', 'prcp73', 'TN', 'OP', 'NN')\n",
    "vmm_model<- vmm_model[complete.cases(vmm_model), ]"
   ]
  },
  {
   "cell_type": "code",
   "execution_count": 45,
   "metadata": {
    "ExecuteTime": {
     "end_time": "2021-02-08T15:40:00.914555Z",
     "start_time": "2021-02-08T15:39:43.018Z"
    },
    "hidden": true
   },
   "outputs": [
    {
     "data": {
      "text/html": [
       "<style>\n",
       ".list-inline {list-style: none; margin:0; padding: 0}\n",
       ".list-inline>li {display: inline-block}\n",
       ".list-inline>li:not(:last-child)::after {content: \"\\00b7\"; padding: 0 .5ex}\n",
       "</style>\n",
       "<ol class=list-inline><li>6201.64385734997</li><li>5876.11329272533</li><li>6223.76396090423</li><li>6196.19859499583</li><li>5857.63031134743</li><li>6189.83572605038</li><li>6168.05119496266</li><li>5869.62606016023</li><li>5835.85527333821</li><li>6186.33795164943</li><li>5846.53599449131</li><li>5818.67467662712</li><li>5827.95814180155</li><li>6153.71208534146</li><li>5805.00324001319</li></ol>\n"
      ],
      "text/latex": [
       "\\begin{enumerate*}\n",
       "\\item 6201.64385734997\n",
       "\\item 5876.11329272533\n",
       "\\item 6223.76396090423\n",
       "\\item 6196.19859499583\n",
       "\\item 5857.63031134743\n",
       "\\item 6189.83572605038\n",
       "\\item 6168.05119496266\n",
       "\\item 5869.62606016023\n",
       "\\item 5835.85527333821\n",
       "\\item 6186.33795164943\n",
       "\\item 5846.53599449131\n",
       "\\item 5818.67467662712\n",
       "\\item 5827.95814180155\n",
       "\\item 6153.71208534146\n",
       "\\item 5805.00324001319\n",
       "\\end{enumerate*}\n"
      ],
      "text/markdown": [
       "1. 6201.64385734997\n",
       "2. 5876.11329272533\n",
       "3. 6223.76396090423\n",
       "4. 6196.19859499583\n",
       "5. 5857.63031134743\n",
       "6. 6189.83572605038\n",
       "7. 6168.05119496266\n",
       "8. 5869.62606016023\n",
       "9. 5835.85527333821\n",
       "10. 6186.33795164943\n",
       "11. 5846.53599449131\n",
       "12. 5818.67467662712\n",
       "13. 5827.95814180155\n",
       "14. 6153.71208534146\n",
       "15. 5805.00324001319\n",
       "\n",
       "\n"
      ],
      "text/plain": [
       " [1] 6201.644 5876.113 6223.764 6196.199 5857.630 6189.836 6168.051 5869.626\n",
       " [9] 5835.855 6186.338 5846.536 5818.675 5827.958 6153.712 5805.003"
      ]
     },
     "metadata": {},
     "output_type": "display_data"
    }
   ],
   "source": [
    "myfunction(0.25)"
   ]
  },
  {
   "cell_type": "code",
   "execution_count": 46,
   "metadata": {
    "ExecuteTime": {
     "end_time": "2021-02-08T15:40:00.994343Z",
     "start_time": "2021-02-08T15:39:43.022Z"
    },
    "hidden": true
   },
   "outputs": [
    {
     "data": {
      "text/html": [
       "<style>\n",
       ".list-inline {list-style: none; margin:0; padding: 0}\n",
       ".list-inline>li {display: inline-block}\n",
       ".list-inline>li:not(:last-child)::after {content: \"\\00b7\"; padding: 0 .5ex}\n",
       "</style>\n",
       "<ol class=list-inline><li>6749.93146567145</li><li>6435.46040763752</li><li>6802.83235794089</li><li>6768.52381442669</li><li>6387.43955765577</li><li>6723.83717943991</li><li>6690.53984800849</li><li>6405.87166048332</li><li>6369.90488211227</li><li>6744.27862339262</li><li>6355.45049164588</li><li>6330.23965273299</li><li>6343.99981397364</li><li>6665.92220048927</li><li>6299.45067184028</li></ol>\n"
      ],
      "text/latex": [
       "\\begin{enumerate*}\n",
       "\\item 6749.93146567145\n",
       "\\item 6435.46040763752\n",
       "\\item 6802.83235794089\n",
       "\\item 6768.52381442669\n",
       "\\item 6387.43955765577\n",
       "\\item 6723.83717943991\n",
       "\\item 6690.53984800849\n",
       "\\item 6405.87166048332\n",
       "\\item 6369.90488211227\n",
       "\\item 6744.27862339262\n",
       "\\item 6355.45049164588\n",
       "\\item 6330.23965273299\n",
       "\\item 6343.99981397364\n",
       "\\item 6665.92220048927\n",
       "\\item 6299.45067184028\n",
       "\\end{enumerate*}\n"
      ],
      "text/markdown": [
       "1. 6749.93146567145\n",
       "2. 6435.46040763752\n",
       "3. 6802.83235794089\n",
       "4. 6768.52381442669\n",
       "5. 6387.43955765577\n",
       "6. 6723.83717943991\n",
       "7. 6690.53984800849\n",
       "8. 6405.87166048332\n",
       "9. 6369.90488211227\n",
       "10. 6744.27862339262\n",
       "11. 6355.45049164588\n",
       "12. 6330.23965273299\n",
       "13. 6343.99981397364\n",
       "14. 6665.92220048927\n",
       "15. 6299.45067184028\n",
       "\n",
       "\n"
      ],
      "text/plain": [
       " [1] 6749.931 6435.460 6802.832 6768.524 6387.440 6723.837 6690.540 6405.872\n",
       " [9] 6369.905 6744.279 6355.450 6330.240 6344.000 6665.922 6299.451"
      ]
     },
     "metadata": {},
     "output_type": "display_data"
    }
   ],
   "source": [
    "myfunction(0.50)"
   ]
  },
  {
   "cell_type": "code",
   "execution_count": 47,
   "metadata": {
    "ExecuteTime": {
     "end_time": "2021-02-08T15:40:01.076124Z",
     "start_time": "2021-02-08T15:39:43.025Z"
    },
    "hidden": true
   },
   "outputs": [
    {
     "data": {
      "text/html": [
       "<style>\n",
       ".list-inline {list-style: none; margin:0; padding: 0}\n",
       ".list-inline>li {display: inline-block}\n",
       ".list-inline>li:not(:last-child)::after {content: \"\\00b7\"; padding: 0 .5ex}\n",
       "</style>\n",
       "<ol class=list-inline><li>7583.44336363196</li><li>7253.44218507956</li><li>7680.08529242582</li><li>7612.76246566747</li><li>7165.93570923039</li><li>7527.05294506962</li><li>7468.01597423908</li><li>7198.95701757398</li><li>7141.3434276569</li><li>7553.83219213504</li><li>7107.13180133054</li><li>7057.86849394769</li><li>7083.41579442618</li><li>7420.78135049369</li><li>7011.70736115175</li></ol>\n"
      ],
      "text/latex": [
       "\\begin{enumerate*}\n",
       "\\item 7583.44336363196\n",
       "\\item 7253.44218507956\n",
       "\\item 7680.08529242582\n",
       "\\item 7612.76246566747\n",
       "\\item 7165.93570923039\n",
       "\\item 7527.05294506962\n",
       "\\item 7468.01597423908\n",
       "\\item 7198.95701757398\n",
       "\\item 7141.3434276569\n",
       "\\item 7553.83219213504\n",
       "\\item 7107.13180133054\n",
       "\\item 7057.86849394769\n",
       "\\item 7083.41579442618\n",
       "\\item 7420.78135049369\n",
       "\\item 7011.70736115175\n",
       "\\end{enumerate*}\n"
      ],
      "text/markdown": [
       "1. 7583.44336363196\n",
       "2. 7253.44218507956\n",
       "3. 7680.08529242582\n",
       "4. 7612.76246566747\n",
       "5. 7165.93570923039\n",
       "6. 7527.05294506962\n",
       "7. 7468.01597423908\n",
       "8. 7198.95701757398\n",
       "9. 7141.3434276569\n",
       "10. 7553.83219213504\n",
       "11. 7107.13180133054\n",
       "12. 7057.86849394769\n",
       "13. 7083.41579442618\n",
       "14. 7420.78135049369\n",
       "15. 7011.70736115175\n",
       "\n",
       "\n"
      ],
      "text/plain": [
       " [1] 7583.443 7253.442 7680.085 7612.762 7165.936 7527.053 7468.016 7198.957\n",
       " [9] 7141.343 7553.832 7107.132 7057.868 7083.416 7420.781 7011.707"
      ]
     },
     "metadata": {},
     "output_type": "display_data"
    }
   ],
   "source": [
    "myfunction(0.75)"
   ]
  },
  {
   "cell_type": "code",
   "execution_count": 48,
   "metadata": {
    "ExecuteTime": {
     "end_time": "2021-02-08T15:40:01.178848Z",
     "start_time": "2021-02-08T15:39:43.028Z"
    },
    "hidden": true
   },
   "outputs": [
    {
     "data": {
      "text/html": [
       "<style>\n",
       ".list-inline {list-style: none; margin:0; padding: 0}\n",
       ".list-inline>li {display: inline-block}\n",
       ".list-inline>li:not(:last-child)::after {content: \"\\00b7\"; padding: 0 .5ex}\n",
       "</style>\n",
       "<ol class=list-inline><li>8905.76958457684</li><li>8419.88232245232</li><li>9198.63674163733</li><li>9127.22189730374</li><li>8280.60461194974</li><li>8840.93029404499</li><li>8794.70606244829</li><li>8339.91737363612</li><li>8331.30474085841</li><li>9053.42527182837</li><li>8225.97826529862</li><li>8227.11584507134</li><li>8259.16605579059</li><li>8748.28512419521</li><li>8187.12737853554</li></ol>\n"
      ],
      "text/latex": [
       "\\begin{enumerate*}\n",
       "\\item 8905.76958457684\n",
       "\\item 8419.88232245232\n",
       "\\item 9198.63674163733\n",
       "\\item 9127.22189730374\n",
       "\\item 8280.60461194974\n",
       "\\item 8840.93029404499\n",
       "\\item 8794.70606244829\n",
       "\\item 8339.91737363612\n",
       "\\item 8331.30474085841\n",
       "\\item 9053.42527182837\n",
       "\\item 8225.97826529862\n",
       "\\item 8227.11584507134\n",
       "\\item 8259.16605579059\n",
       "\\item 8748.28512419521\n",
       "\\item 8187.12737853554\n",
       "\\end{enumerate*}\n"
      ],
      "text/markdown": [
       "1. 8905.76958457684\n",
       "2. 8419.88232245232\n",
       "3. 9198.63674163733\n",
       "4. 9127.22189730374\n",
       "5. 8280.60461194974\n",
       "6. 8840.93029404499\n",
       "7. 8794.70606244829\n",
       "8. 8339.91737363612\n",
       "9. 8331.30474085841\n",
       "10. 9053.42527182837\n",
       "11. 8225.97826529862\n",
       "12. 8227.11584507134\n",
       "13. 8259.16605579059\n",
       "14. 8748.28512419521\n",
       "15. 8187.12737853554\n",
       "\n",
       "\n"
      ],
      "text/plain": [
       " [1] 8905.770 8419.882 9198.637 9127.222 8280.605 8840.930 8794.706 8339.917\n",
       " [9] 8331.305 9053.425 8225.978 8227.116 8259.166 8748.285 8187.127"
      ]
     },
     "metadata": {},
     "output_type": "display_data"
    }
   ],
   "source": [
    "myfunction(0.95)"
   ]
  },
  {
   "cell_type": "markdown",
   "metadata": {},
   "source": [
    "# <font color='red'> Figure 6 Model Results </font>  "
   ]
  },
  {
   "cell_type": "markdown",
   "metadata": {
    "heading_collapsed": true
   },
   "source": [
    "# Chl-*a* vs Phycocyanin OLSR"
   ]
  },
  {
   "cell_type": "code",
   "execution_count": 49,
   "metadata": {
    "ExecuteTime": {
     "end_time": "2021-02-08T15:40:01.225723Z",
     "start_time": "2021-02-08T15:39:43.042Z"
    },
    "hidden": true
   },
   "outputs": [
    {
     "name": "stdout",
     "output_type": "stream",
     "text": [
      "                0.25 %   99.75 %\n",
      "(Intercept) -1.0815327 2.1563042\n",
      "CA          -0.0256376 0.1023585\n",
      "\n",
      "Call:\n",
      "lm(formula = eq, data = data)\n",
      "\n",
      "Residuals:\n",
      "    Min      1Q  Median      3Q     Max \n",
      "-2.2951 -0.5430 -0.3906  0.1357  3.1977 \n",
      "\n",
      "Coefficients:\n",
      "            Estimate Std. Error t value Pr(>|t|)  \n",
      "(Intercept)  0.53739    0.48679   1.104   0.2882  \n",
      "CA           0.03836    0.01924   1.993   0.0661 .\n",
      "---\n",
      "Signif. codes:  0 '***' 0.001 '**' 0.01 '*' 0.05 '.' 0.1 ' ' 1\n",
      "\n",
      "Residual standard error: 1.376 on 14 degrees of freedom\n",
      "Multiple R-squared:  0.2211,\tAdjusted R-squared:  0.1654 \n",
      "F-statistic: 3.974 on 1 and 14 DF,  p-value: 0.06608\n",
      "\n"
     ]
    }
   ],
   "source": [
    "lm_res('phy~CA', vmm_buoy, 0.995)"
   ]
  },
  {
   "cell_type": "code",
   "execution_count": 50,
   "metadata": {
    "ExecuteTime": {
     "end_time": "2021-02-08T15:40:01.273599Z",
     "start_time": "2021-02-08T15:39:43.045Z"
    },
    "hidden": true
   },
   "outputs": [
    {
     "name": "stdout",
     "output_type": "stream",
     "text": [
      "       0.25 %    99.75 %\n",
      "CA 0.00836103 0.09841167\n",
      "\n",
      "Call:\n",
      "lm(formula = eq, data = data)\n",
      "\n",
      "Residuals:\n",
      "    Min      1Q  Median      3Q     Max \n",
      "-2.5481 -0.1318  0.0756  0.4609  3.4316 \n",
      "\n",
      "Coefficients:\n",
      "   Estimate Std. Error t value Pr(>|t|)   \n",
      "CA  0.05339    0.01370   3.896  0.00143 **\n",
      "---\n",
      "Signif. codes:  0 '***' 0.001 '**' 0.01 '*' 0.05 '.' 0.1 ' ' 1\n",
      "\n",
      "Residual standard error: 1.386 on 15 degrees of freedom\n",
      "Multiple R-squared:  0.503,\tAdjusted R-squared:  0.4699 \n",
      "F-statistic: 15.18 on 1 and 15 DF,  p-value: 0.001432\n",
      "\n"
     ]
    }
   ],
   "source": [
    "lm_res('phy~-1+CA', vmm_buoy, 0.995)"
   ]
  },
  {
   "cell_type": "markdown",
   "metadata": {
    "ExecuteTime": {
     "end_time": "2021-02-06T00:43:51.977693Z",
     "start_time": "2021-02-06T00:43:51.942Z"
    }
   },
   "source": [
    "# <font color='red'> Figure 7 draft: Chl-*a* vs Phycocyanin </font>  "
   ]
  }
 ],
 "metadata": {
  "hide_input": false,
  "kernelspec": {
   "display_name": "R",
   "language": "R",
   "name": "ir"
  },
  "language_info": {
   "codemirror_mode": "r",
   "file_extension": ".r",
   "mimetype": "text/x-r-source",
   "name": "R",
   "pygments_lexer": "r",
   "version": "3.6.1"
  }
 },
 "nbformat": 4,
 "nbformat_minor": 4
}
